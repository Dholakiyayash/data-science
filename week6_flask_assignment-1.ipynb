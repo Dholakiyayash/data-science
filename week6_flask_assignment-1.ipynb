{
 "cells": [
  {
   "attachments": {},
   "cell_type": "markdown",
   "metadata": {},
   "source": [
    "Q1. What is Flask Framework? What are the advantages of Flask Framework?\n",
    "\n",
    "Flask is a web framework, it’s a Python module that lets you develop web applications easily. It’s has a small and easy-to-extend core: it’s a microframework that doesn’t include an ORM (Object Relational Manager) or such features.\n",
    "\n",
    "It does have many cool features like url routing, template engine. It is a WSGI web app framework.\n",
    "\n",
    "advantages of Flask Framework:\n",
    "\n",
    "It is a lightweight framework that offers hassle-free development\n",
    "\n",
    "Provide flexibility to the developer to experiment with their modules or architecture\n",
    "\n",
    "It is suitable for small projects\n",
    "\n",
    "Offers a built-in development server and fast debugger\n",
    "\n",
    "Easily scalable for the applications\n",
    "\n",
    "Support for secure cookies\n",
    "\n",
    "Uses Ninja2 Template engine\n",
    "\n",
    "It has integrated support for unit testing\n",
    "\n",
    "APIs are coherent and neat\n",
    "\n",
    "Provide strong WSGI support"
   ]
  },
  {
   "cell_type": "code",
   "execution_count": 5,
   "metadata": {},
   "outputs": [
    {
     "name": "stdout",
     "output_type": "stream",
     "text": [
      " * Serving Flask app '__main__'\n",
      " * Debug mode: off\n"
     ]
    },
    {
     "name": "stderr",
     "output_type": "stream",
     "text": [
      "WARNING: This is a development server. Do not use it in a production deployment. Use a production WSGI server instead.\n",
      " * Running on all addresses (0.0.0.0)\n",
      " * Running on http://127.0.0.1:5000\n",
      " * Running on http://192.168.173.133:5000\n",
      "Press CTRL+C to quit\n",
      "127.0.0.1 - - [26/Jun/2023 12:46:33] \"GET / HTTP/1.1\" 200 -\n",
      "192.168.173.133 - - [26/Jun/2023 12:46:54] \"GET / HTTP/1.1\" 200 -\n",
      "192.168.173.133 - - [26/Jun/2023 12:46:55] \"GET /favicon.ico HTTP/1.1\" 404 -\n"
     ]
    }
   ],
   "source": [
    "# Q2. Create a simple Flask application to display ‘Hello World!!’. Attach the screenshot of the output in\n",
    "# Jupyter Notebook.\n",
    "\n",
    "from flask import Flask,request,render_template\n",
    "\n",
    "app=Flask(__name__)\n",
    "\n",
    "@app.route(\"/\")\n",
    "def test():\n",
    "    return \"<h1>Hello World!!</h1>\"\n",
    "\n",
    "if __name__=='__main__':\n",
    "    app.run(host=\"0.0.0.0\")\n",
    "\n",
    "\n"
   ]
  },
  {
   "attachments": {},
   "cell_type": "markdown",
   "metadata": {},
   "source": [
    "<img src=\"hello world.jpg\">"
   ]
  },
  {
   "attachments": {},
   "cell_type": "markdown",
   "metadata": {},
   "source": [
    "Q3. What is App routing in Flask? Why do we use app routes?\n",
    "\n",
    "App Routing means mapping the URLs to a specific function that will handle the logic for that URL. Modern web frameworks use more meaningful URLs to help users remember the URLs and make navigation simpler. \n",
    "\n",
    "App routing is the technique used to map the specific URL with the associated function intended to perform some task. The Latest Web frameworks use the routing technique to help users remember application URLs. It is helpful to access the desired page directly without navigating from the home page.\n",
    "\n",
    "The route() decorator in Flask is used to bind an URL to a function. As a result when the URL is mentioned in the browser, the function is executed to give the result. Here, URL '/hello' rule is bound to the hello_world() function."
   ]
  },
  {
   "cell_type": "code",
   "execution_count": 7,
   "metadata": {},
   "outputs": [
    {
     "name": "stdout",
     "output_type": "stream",
     "text": [
      " * Serving Flask app '__main__'\n",
      " * Debug mode: off\n"
     ]
    },
    {
     "name": "stderr",
     "output_type": "stream",
     "text": [
      "WARNING: This is a development server. Do not use it in a production deployment. Use a production WSGI server instead.\n",
      " * Running on all addresses (0.0.0.0)\n",
      " * Running on http://127.0.0.1:5000\n",
      " * Running on http://192.168.173.133:5000\n",
      "Press CTRL+C to quit\n",
      "127.0.0.1 - - [26/Jun/2023 15:03:21] \"GET / HTTP/1.1\" 200 -\n",
      "127.0.0.1 - - [26/Jun/2023 15:04:11] \"GET /welcome HTTP/1.1\" 200 -\n"
     ]
    }
   ],
   "source": [
    "# Q4. Create a “/welcome” route to display the welcome message “Welcome to ABC Corporation” and a “/”\n",
    "# route to show the following details:\n",
    "# Company Name: ABC Corporation\n",
    "# Location: India\n",
    "# Contact Detail: 999-999-9999\n",
    "# Attach the screenshot of the output in Jupyter Notebook.\n",
    "\n",
    "from flask import Flask,render_template,request\n",
    "\n",
    "app=Flask(__name__)\n",
    "\n",
    "@app.route(\"/welcome\")\n",
    "def test2():\n",
    "    return \"Welcome to ABC Corporation\"\n",
    "\n",
    "@app.route(\"/\")\n",
    "def test3():\n",
    "    st=\"<div>Company Name: ABC Corporation</div><br><div>Location: India</div><br><div>Contact Detail: 999-999-9999</div>\"\n",
    " \n",
    "    return st\n",
    "\n",
    "\n",
    "if __name__==\"__main__\":\n",
    "    app.run(host=\"0.0.0.0\")\n",
    "\n",
    "\n"
   ]
  },
  {
   "attachments": {},
   "cell_type": "markdown",
   "metadata": {},
   "source": [
    "<img src=\"flask.jpg\">\n",
    "<img src=\"flask2.jpg\">"
   ]
  },
  {
   "cell_type": "code",
   "execution_count": 10,
   "metadata": {},
   "outputs": [
    {
     "name": "stdout",
     "output_type": "stream",
     "text": [
      "/welcome\n",
      "/\n",
      " * Serving Flask app '__main__'\n",
      " * Debug mode: off\n"
     ]
    },
    {
     "name": "stderr",
     "output_type": "stream",
     "text": [
      "WARNING: This is a development server. Do not use it in a production deployment. Use a production WSGI server instead.\n",
      " * Running on all addresses (0.0.0.0)\n",
      " * Running on http://127.0.0.1:5000\n",
      " * Running on http://192.168.173.133:5000\n",
      "Press CTRL+C to quit\n"
     ]
    }
   ],
   "source": [
    "# Q5. What function is used in Flask for URL Building? Write a Python code to demonstrate the working \n",
    "# of the url_for() function.\n",
    "\n",
    "# To build a URL to a specific function, use the url_for() function.\n",
    "# It accepts the name of the function as its first argument and any number of keyword arguments, \n",
    "# each corresponding to a variable part of the URL rule.\n",
    "\n",
    "\n",
    "from flask import Flask,render_template,request,url_for\n",
    "\n",
    "app=Flask(__name__)\n",
    "\n",
    "@app.route(\"/welcome\")\n",
    "def test2():\n",
    "    return \"Welcome to ABC Corporation\"\n",
    "\n",
    "@app.route(\"/\")\n",
    "def test3():\n",
    "    st=\"<div>Company Name: ABC Corporation</div><br><div>Location: India</div><br><div>Contact Detail: 999-999-9999</div>\"\n",
    "    return st\n",
    "\n",
    "with app.test_request_context():\n",
    "    print(url_for('test2'))\n",
    "    print(url_for('test3'))\n",
    "\n",
    "if __name__==\"__main__\":\n",
    "    app.run(host=\"0.0.0.0\")"
   ]
  }
 ],
 "metadata": {
  "kernelspec": {
   "display_name": "Python 3",
   "language": "python",
   "name": "python3"
  },
  "language_info": {
   "codemirror_mode": {
    "name": "ipython",
    "version": 3
   },
   "file_extension": ".py",
   "mimetype": "text/x-python",
   "name": "python",
   "nbconvert_exporter": "python",
   "pygments_lexer": "ipython3",
   "version": "3.11.4"
  },
  "orig_nbformat": 4
 },
 "nbformat": 4,
 "nbformat_minor": 2
}
