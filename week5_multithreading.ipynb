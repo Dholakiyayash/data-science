{
 "cells": [
  {
   "attachments": {},
   "cell_type": "markdown",
   "metadata": {},
   "source": [
    "Ql. What is multithreading in python? Why is it used? Name the module used to handle threads in python.\n",
    "\n",
    "Multithreading is defined as the ability of a processor to execute multiple threads concurrently.\n",
    "multithreading is execute multiple thread concurrently in single core.\n",
    "\n",
    "Python multithreading enables efficient utilization of the resources as the threads share the data space and memory. Multithreading in Python allows the concurrent and parallel occurrence of various tasks. It causes a reduction in time consumption or response time, thereby increasing the performance.\n",
    "\n",
    "threading module used to handle threads in python."
   ]
  },
  {
   "cell_type": "code",
   "execution_count": 5,
   "metadata": {},
   "outputs": [
    {
     "name": "stdout",
     "output_type": "stream",
     "text": [
      "number of active thread : 7\n",
      "thread value 0\n",
      "number of active thread : 7\n",
      "thread value 1\n",
      "number of active thread : 7\n",
      "thread value 2\n",
      "number of active thread : 6\n"
     ]
    }
   ],
   "source": [
    "# Q2. Why threading module used? Write the use of the following functions:\n",
    "\n",
    "# threading module used for run multiple thread in single core or cpu.\n",
    "\n",
    "# 1. activeCount()\n",
    "# ==>threading.active_count() is used to count the currently active or running threads.\n",
    "import threading\n",
    "def test(i):\n",
    "    print('number of active thread :',threading.active_count())\n",
    "    print('thread value',i)\n",
    "\n",
    "threads=[threading.Thread(target=test,args=(i,)) for i in range(3)]\n",
    "for t in threads:\n",
    "    t.start()\n",
    "print('number of active thread :',threading.active_count())\n",
    "\n"
   ]
  },
  {
   "cell_type": "code",
   "execution_count": 8,
   "metadata": {},
   "outputs": [
    {
     "name": "stdout",
     "output_type": "stream",
     "text": [
      "Active current thread right now: <Thread(Thread-23 (test2), started 16036)>\n",
      "thread value 0\n",
      "Active current thread right now: <Thread(Thread-24 (test2), started 13132)>\n",
      "thread value 1\n",
      "Active current thread right now: <Thread(Thread-25 (test2), started 14880)>\n",
      "thread value 2\n"
     ]
    }
   ],
   "source": [
    "# 2. currentThread()\n",
    "# threading.current_thread() is an inbuilt method of the threading module, it is used to return \n",
    "# the current Thread object, which corresponds to the caller's thread of control.\n",
    "import time\n",
    "def test2(i):\n",
    "    time.sleep(2)\n",
    "    print(\"Active current thread right now:\", (threading.current_thread()))\n",
    "    print('thread value',i)\n",
    "threads=[threading.Thread(target=test2,args=(i,)) for i in range(3)]\n",
    "for t in threads:\n",
    "    t.start()\n"
   ]
  },
  {
   "cell_type": "code",
   "execution_count": 9,
   "metadata": {},
   "outputs": [
    {
     "name": "stdout",
     "output_type": "stream",
     "text": [
      "Return type: <class 'enumerate'>\n",
      "[(0, 'yash'), (1, 'data science'), (2, '2.0')]\n",
      "[(2, 's'), (3, 't'), (4, 'r'), (5, 'i'), (6, 'n'), (7, 'g')]\n"
     ]
    }
   ],
   "source": [
    "# 3. enumerate()\n",
    "# Enumerate() method adds a counter to an iterable and returns it in a form of enumerating object.\n",
    "# Iterable: any object that supports iteration\n",
    "# Start: the index value from which the counter is to be started, by default it is 0\n",
    "\n",
    "l1 = [\"yash\", \"data science\", \"2.0\"]\n",
    "s1 = \"string\"\n",
    "  \n",
    "# creating enumerate objects\n",
    "obj1 = enumerate(l1)\n",
    "obj2 = enumerate(s1)\n",
    "  \n",
    "print (\"Return type:\", type(obj1))\n",
    "print (list(enumerate(l1)))\n",
    "  \n",
    "# changing start index to 2 from 0\n",
    "print (list(enumerate(s1, 2)))"
   ]
  },
  {
   "cell_type": "markdown",
   "metadata": {},
   "source": [
    "Q3. Explain the following functions:\n",
    "\n",
    "1. run()\n",
    "\n",
    "run() method executes any target function belonging to a given thread object that is now active. It \n",
    "normally executes in the background after the . start() method is invoked.\n",
    "\n",
    "2. start()\n",
    "\n",
    "start() method starts a thread by calling the run method. \n",
    "\n",
    "3. join()\n",
    "\n",
    "join() method delays a program's flow of execution until the target thread has been completely read.\n",
    "\n",
    "4. isAlive()\n",
    "\n",
    "is_alive() method returns True if the thread is still running and False, otherwise."
   ]
  },
  {
   "cell_type": "code",
   "execution_count": 27,
   "metadata": {},
   "outputs": [
    {
     "name": "stdout",
     "output_type": "stream",
     "text": [
      "Value by Thread 1: 1\n",
      "thread1:  True\n",
      "after join thread1\n",
      "thread1:  False\n",
      "Value by Thread 2: 2\n",
      "Value by Thread 3: 3\n",
      "after join thread2\n",
      "after join thread3\n"
     ]
    }
   ],
   "source": [
    "import threading\n",
    "\n",
    "def thread_1(i):\n",
    "    print('Value by Thread 1:', i)\n",
    "    print(\"thread1: \",thread1.is_alive())\n",
    "\n",
    "def thread_2(i):\n",
    "    print('Value by Thread 2:', i)\n",
    "\n",
    "def thread_3(i):\n",
    "    print('Value by Thread 3:', i)    \n",
    "\n",
    "thread1 = threading.Thread(target=thread_1, args=(1,))\n",
    "thread2 = threading.Thread(target=thread_2, args=(2,))\n",
    "thread3 = threading.Thread(target=thread_3, args=(3,))\n",
    "\n",
    "thread1.start()\n",
    "thread1.join()\n",
    "print('after join thread1')\n",
    "print(\"thread1: \",thread1.is_alive())\n",
    "thread2.start()\n",
    "thread3.run()\n",
    "\n",
    "\n",
    "thread2.join()\n",
    "print('after join thread2')\n",
    "print('after join thread3')"
   ]
  },
  {
   "cell_type": "code",
   "execution_count": 30,
   "metadata": {},
   "outputs": [
    {
     "name": "stdout",
     "output_type": "stream",
     "text": [
      "[1, 4, 9, 16, 25, 36, 49, 64, 81, 100][1, 8, 27, 64, 125, 216, 343, 512, 729, 1000]\n",
      "\n"
     ]
    }
   ],
   "source": [
    "# Q4. Write a python program to create two threads. Thread one must print the list of squares and thread\n",
    "# two must print the list of cubes.\n",
    "import threading\n",
    "\n",
    "l=[1,2,3,4,5,6,7,8,9,10]\n",
    "def thread1_method(l):\n",
    "    print([i*i for i in l])\n",
    "def thread2_method(l):\n",
    "    print([i**3 for i in l])\n",
    "\n",
    "thread1=threading.Thread(target=thread1_method,args=(l,))\n",
    "thread2=threading.Thread(target=thread2_method,args=(l,))\n",
    "thread1.start()\n",
    "thread2.run()"
   ]
  },
  {
   "cell_type": "code",
   "execution_count": null,
   "metadata": {},
   "outputs": [],
   "source": [
    "Q5. State advantages and disadvantages of multithreading.\n",
    "\n",
    "advantages of multithreading:\n",
    "\n",
    "Enhanced performance by decreased development time\n",
    "Simplified and streamlined program coding\n",
    "Improvised GUI responsiveness\n",
    "Simultaneous and parallelized occurrence of tasks\n",
    "Better use of cache storage  by utilization of resources\n",
    "Decreased cost of maintenance\n",
    "Better use of CPU resource\n",
    "\n",
    "disadvantages of multithreading:\n",
    "\n",
    "Complex debugging and testing processes\n",
    "Overhead switching of context\n",
    "Increased potential for deadlock occurrence\n",
    "Increased difficulty level in writing a program\n",
    "Unpredictable results"
   ]
  },
  {
   "cell_type": "markdown",
   "metadata": {},
   "source": [
    "Q6. Explain deadlocks and race conditions.\n",
    "\n",
    "A race condition occurs when two threads use the same variable at a given time.  Deadlock exists when \n",
    "two threads seek one lock simultaneously. This situation will stop both threads from processing or \n",
    "executing the functions"
   ]
  }
 ],
 "metadata": {
  "kernelspec": {
   "display_name": "Python 3",
   "language": "python",
   "name": "python3"
  },
  "language_info": {
   "codemirror_mode": {
    "name": "ipython",
    "version": 3
   },
   "file_extension": ".py",
   "mimetype": "text/x-python",
   "name": "python",
   "nbconvert_exporter": "python",
   "pygments_lexer": "ipython3",
   "version": "3.11.4"
  },
  "orig_nbformat": 4
 },
 "nbformat": 4,
 "nbformat_minor": 2
}
