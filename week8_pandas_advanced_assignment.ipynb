{
 "cells": [
  {
   "cell_type": "code",
   "execution_count": 58,
   "metadata": {},
   "outputs": [],
   "source": [
    "import pandas as pd\n",
    "import logging\n",
    "\n",
    "logging.basicConfig(filename=\"week8.log\",level=logging.DEBUG, format='%(asctime)s %(name)s %(levelname)s %(message)s')"
   ]
  },
  {
   "cell_type": "code",
   "execution_count": 16,
   "metadata": {},
   "outputs": [
    {
     "name": "stdout",
     "output_type": "stream",
     "text": [
      "     Name  Age  Gender\n",
      "0   Alice   25  Gender\n",
      "1     Bob   30    Male\n",
      "2  Claire   27  Female\n",
      "\n",
      "     Name  Age  Gender\n",
      "0   Alice   25  Gender\n",
      "1     Bob   30    Male\n",
      "2  Claire   27  Female\n",
      "<class 'pandas.core.indexes.base.Index'>\n",
      "<class 'pandas.core.series.Series'>\n"
     ]
    }
   ],
   "source": [
    "# Q1. List any five functions of the pandas library with execution.\n",
    "ls=[['Name','Age','Gender'],['Alice',25,'Gender'],['Bob',30,'Male'],['Claire',27,'Female']]\n",
    "#DataFrame\n",
    "df=pd.DataFrame(ls[1:],columns=ls[0])\n",
    "\n",
    "#head(): return first 3 raw\n",
    "logging.info(df.head())\n",
    "print(df.head())\n",
    "print()\n",
    "#tail():return last 3 raw\n",
    "logging.info(df.tail())\n",
    "print(df.tail())\n",
    "\n",
    "#columns : return names of columnns\n",
    "logging.info(df.columns)\n",
    "print(type(df.columns))\n",
    "\n",
    "#dtypes : \n",
    "logging.info(df.dtypes)\n",
    "print(type(df.dtypes))"
   ]
  },
  {
   "cell_type": "code",
   "execution_count": 25,
   "metadata": {},
   "outputs": [
    {
     "name": "stdout",
     "output_type": "stream",
     "text": [
      "    A   B   C\n",
      "1  12  13  14\n",
      "3  21  23  24\n",
      "5  33  36  39\n",
      "7  41  44  48\n"
     ]
    }
   ],
   "source": [
    "# Q2. Given a Pandas DataFrame df with columns 'A', 'B', and 'C', write a Python function to re-index\n",
    "# DataFrame with a new index that starts from 1 and increments by 2 for each row.\n",
    "\n",
    "df2=pd.DataFrame([[12,13,14],[21,23,24],[33,36,39],[41,44,48]],columns=['A','B','C'])\n",
    "df2.index=df2.index*2+1\n",
    "logging.info(df2)\n",
    "print(df2)"
   ]
  },
  {
   "cell_type": "code",
   "execution_count": 34,
   "metadata": {},
   "outputs": [
    {
     "data": {
      "text/plain": [
       "60"
      ]
     },
     "execution_count": 34,
     "metadata": {},
     "output_type": "execute_result"
    }
   ],
   "source": [
    "# Q3. You have a Pandas DataFrame df with a column named 'Values'. Write a Python function that\n",
    "# iterates over the DataFrame and calculates the sum of the first three values in the 'Values' column. \n",
    "# The function should print the sum to the console.\n",
    "\n",
    "# For example, if the 'Values' column of df contains the values [10, 20, 30, 40, 50], your function \n",
    "# should calculate and print the sum of the first three values, which is 60.\n",
    "\n",
    "from functools import reduce\n",
    "\n",
    "df3=pd.DataFrame([10, 20, 30, 40, 50],columns=['values'])\n",
    "\n",
    "logging.info(df3)\n",
    "\n",
    "reduce(lambda x,y:x+y,df3['values'][:3])"
   ]
  },
  {
   "cell_type": "code",
   "execution_count": 60,
   "metadata": {},
   "outputs": [
    {
     "name": "stdout",
     "output_type": "stream",
     "text": [
      "                           Text  Word_Count\n",
      "0                          text           1\n",
      "1                   hello world           2\n",
      "2             watch a new movie           4\n",
      "3  python is scripting langauge           4\n"
     ]
    },
    {
     "name": "stderr",
     "output_type": "stream",
     "text": [
      "C:\\Users\\Lenovo\\AppData\\Local\\Temp\\ipykernel_33444\\255498138.py:9: SettingWithCopyWarning: \n",
      "A value is trying to be set on a copy of a slice from a DataFrame\n",
      "\n",
      "See the caveats in the documentation: https://pandas.pydata.org/pandas-docs/stable/user_guide/indexing.html#returning-a-view-versus-a-copy\n",
      "  df['Word_Count'][i]=count\n",
      "C:\\Users\\Lenovo\\AppData\\Local\\Temp\\ipykernel_33444\\255498138.py:9: SettingWithCopyWarning: \n",
      "A value is trying to be set on a copy of a slice from a DataFrame\n",
      "\n",
      "See the caveats in the documentation: https://pandas.pydata.org/pandas-docs/stable/user_guide/indexing.html#returning-a-view-versus-a-copy\n",
      "  df['Word_Count'][i]=count\n",
      "C:\\Users\\Lenovo\\AppData\\Local\\Temp\\ipykernel_33444\\255498138.py:9: SettingWithCopyWarning: \n",
      "A value is trying to be set on a copy of a slice from a DataFrame\n",
      "\n",
      "See the caveats in the documentation: https://pandas.pydata.org/pandas-docs/stable/user_guide/indexing.html#returning-a-view-versus-a-copy\n",
      "  df['Word_Count'][i]=count\n",
      "C:\\Users\\Lenovo\\AppData\\Local\\Temp\\ipykernel_33444\\255498138.py:9: SettingWithCopyWarning: \n",
      "A value is trying to be set on a copy of a slice from a DataFrame\n",
      "\n",
      "See the caveats in the documentation: https://pandas.pydata.org/pandas-docs/stable/user_guide/indexing.html#returning-a-view-versus-a-copy\n",
      "  df['Word_Count'][i]=count\n"
     ]
    }
   ],
   "source": [
    "# Q4. Given Pandas DataFrame df with a column 'Text', write a Python function to create a new column\n",
    "# 'Word_Count' that contains the number of words in each row of the 'Text' column.\n",
    "\n",
    "def word_count(df):\n",
    "    df['Word_Count']=0\n",
    "    for i in range(len(df['Text'])):\n",
    "        s=df['Text'][i]\n",
    "        count=len(s.split(\" \"))\n",
    "        df['Word_Count'][i]=count\n",
    "    return df\n",
    "\n",
    "df4=pd.DataFrame(['text','hello world','watch a new movie','python is scripting langauge'],columns=['Text'])\n",
    "df4=word_count(df4)\n",
    "print(df4)\n",
    "\n",
    "    \n",
    "\n"
   ]
  },
  {
   "cell_type": "code",
   "execution_count": 67,
   "metadata": {},
   "outputs": [
    {
     "name": "stdout",
     "output_type": "stream",
     "text": [
      "8\n",
      "(4, 2)\n"
     ]
    }
   ],
   "source": [
    "# Q5. How are DataFrame.size() and DataFrame.shape() different?\n",
    "\n",
    "#size funtion return num of cells in dataframe and shape return num of rows and columns in tuple\n",
    "\n",
    "print(df4.size)\n",
    "print(df4.shape)"
   ]
  },
  {
   "cell_type": "code",
   "execution_count": null,
   "metadata": {},
   "outputs": [],
   "source": [
    "# Q6. Which function of pandas do we use to read an excel file?\n",
    "\n",
    "# pd.read_excel() used for read excel file.\n",
    "\n",
    "\n"
   ]
  },
  {
   "cell_type": "code",
   "execution_count": 74,
   "metadata": {},
   "outputs": [
    {
     "data": {
      "text/html": [
       "<div>\n",
       "<style scoped>\n",
       "    .dataframe tbody tr th:only-of-type {\n",
       "        vertical-align: middle;\n",
       "    }\n",
       "\n",
       "    .dataframe tbody tr th {\n",
       "        vertical-align: top;\n",
       "    }\n",
       "\n",
       "    .dataframe thead th {\n",
       "        text-align: right;\n",
       "    }\n",
       "</style>\n",
       "<table border=\"1\" class=\"dataframe\">\n",
       "  <thead>\n",
       "    <tr style=\"text-align: right;\">\n",
       "      <th></th>\n",
       "      <th>email</th>\n",
       "      <th>UserName</th>\n",
       "    </tr>\n",
       "  </thead>\n",
       "  <tbody>\n",
       "    <tr>\n",
       "      <th>0</th>\n",
       "      <td>yashdholakiya@gmail.com</td>\n",
       "      <td>yashdholakiya</td>\n",
       "    </tr>\n",
       "    <tr>\n",
       "      <th>1</th>\n",
       "      <td>madhavibhide@gmail.com</td>\n",
       "      <td>madhavibhide</td>\n",
       "    </tr>\n",
       "    <tr>\n",
       "      <th>2</th>\n",
       "      <td>kritisenon@gmail.com</td>\n",
       "      <td>kritisenon</td>\n",
       "    </tr>\n",
       "    <tr>\n",
       "      <th>3</th>\n",
       "      <td>kairaadavani@gmail.com</td>\n",
       "      <td>kairaadavani</td>\n",
       "    </tr>\n",
       "  </tbody>\n",
       "</table>\n",
       "</div>"
      ],
      "text/plain": [
       "                     email       UserName\n",
       "0  yashdholakiya@gmail.com  yashdholakiya\n",
       "1   madhavibhide@gmail.com   madhavibhide\n",
       "2     kritisenon@gmail.com     kritisenon\n",
       "3   kairaadavani@gmail.com   kairaadavani"
      ]
     },
     "execution_count": 74,
     "metadata": {},
     "output_type": "execute_result"
    }
   ],
   "source": [
    "# Q7. You have a Pandas DataFrame df that contains a column named 'Email' that contains email\n",
    "# addresses in the format 'username@domain.com'. Write a Python function that creates a new column\n",
    "# 'Username' in df that contains only the username part of each email address.\n",
    "def username(df):\n",
    "    df['UserName']=\"\"\n",
    "    for i in range(len(df['email'])):\n",
    "        s=df['email'][i]\n",
    "        s1=s.split('@')\n",
    "        df['UserName'][i]=s1[0]\n",
    "    return df\n",
    "df=pd.DataFrame(['yashdholakiya@gmail.com','madhavibhide@gmail.com','kritisenon@gmail.com','kairaadavani@gmail.com'],columns=['email'])\n",
    "df1=username(df)\n",
    "df1\n"
   ]
  },
  {
   "cell_type": "code",
   "execution_count": 104,
   "metadata": {},
   "outputs": [
    {
     "data": {
      "text/html": [
       "<div>\n",
       "<style scoped>\n",
       "    .dataframe tbody tr th:only-of-type {\n",
       "        vertical-align: middle;\n",
       "    }\n",
       "\n",
       "    .dataframe tbody tr th {\n",
       "        vertical-align: top;\n",
       "    }\n",
       "\n",
       "    .dataframe thead th {\n",
       "        text-align: right;\n",
       "    }\n",
       "</style>\n",
       "<table border=\"1\" class=\"dataframe\">\n",
       "  <thead>\n",
       "    <tr style=\"text-align: right;\">\n",
       "      <th></th>\n",
       "      <th>A</th>\n",
       "      <th>B</th>\n",
       "      <th>C</th>\n",
       "    </tr>\n",
       "  </thead>\n",
       "  <tbody>\n",
       "    <tr>\n",
       "      <th>1</th>\n",
       "      <td>8</td>\n",
       "      <td>2</td>\n",
       "      <td>7</td>\n",
       "    </tr>\n",
       "    <tr>\n",
       "      <th>2</th>\n",
       "      <td>6</td>\n",
       "      <td>9</td>\n",
       "      <td>4</td>\n",
       "    </tr>\n",
       "    <tr>\n",
       "      <th>4</th>\n",
       "      <td>9</td>\n",
       "      <td>1</td>\n",
       "      <td>2</td>\n",
       "    </tr>\n",
       "  </tbody>\n",
       "</table>\n",
       "</div>"
      ],
      "text/plain": [
       "   A  B  C\n",
       "1  8  2  7\n",
       "2  6  9  4\n",
       "4  9  1  2"
      ]
     },
     "execution_count": 104,
     "metadata": {},
     "output_type": "execute_result"
    }
   ],
   "source": [
    "# Q8.You have Pandas DataFrame df with columns 'A', 'B', and 'C'. Write Python function that selects\n",
    "# all rows where value in column 'A' is greater than 5 and value in column 'B' is less than 10. The\n",
    "# function should return a new DataFrame that contains only the selected rows.\n",
    "\n",
    "def selected_row(df):\n",
    "    return df5[(df5['A']>5) & (df5['B']<10)]\n",
    "\n",
    "l=[['A','B','C'],[3, 5, 1],[ 8, 2, 7],[ 6, 9, 4], [2 ,3 ,5],[ 9, 1, 2]]\n",
    "df5=pd.DataFrame(l[1:],columns=l[0])\n",
    "df_new=selected_row(df5)\n",
    "logging.info(df_new)\n",
    "df_new"
   ]
  },
  {
   "cell_type": "code",
   "execution_count": 113,
   "metadata": {},
   "outputs": [
    {
     "name": "stdout",
     "output_type": "stream",
     "text": [
      "Vales    32.111111\n",
      "dtype: float64\n",
      "Vales    45.0\n",
      "dtype: float64\n",
      "Vales    26.322255\n",
      "dtype: float64\n"
     ]
    }
   ],
   "source": [
    "# Q9. Given a Pandas DataFrame df with a column 'Values', write a Python function to calculate mean,\n",
    "# median, and standard deviation of the values in the 'Values' column.\n",
    "\n",
    "df6=pd.DataFrame([8,54,5,66,52,45,5,2,52],columns=['Vales'])\n",
    "logging.info(df6.mean())\n",
    "print(df6.mean())\n",
    "logging.info(df6.median())\n",
    "print(df6.median())\n",
    "logging.error(df6.std())\n",
    "print(df6.std())"
   ]
  },
  {
   "cell_type": "code",
   "execution_count": null,
   "metadata": {},
   "outputs": [],
   "source": [
    "# Q10. Given Pandas DataFrame df with a column 'Sales' and a column 'Date', write Python function to\n",
    "# create a new column 'MovingAverage' that contains the moving average of the sales for past 7 days\n",
    "# for each row in DataFrame. The moving average should be calculated using a window of size 7 and\n",
    "# should include the current day.\n"
   ]
  },
  {
   "cell_type": "code",
   "execution_count": 122,
   "metadata": {},
   "outputs": [
    {
     "data": {
      "text/html": [
       "<div>\n",
       "<style scoped>\n",
       "    .dataframe tbody tr th:only-of-type {\n",
       "        vertical-align: middle;\n",
       "    }\n",
       "\n",
       "    .dataframe tbody tr th {\n",
       "        vertical-align: top;\n",
       "    }\n",
       "\n",
       "    .dataframe thead th {\n",
       "        text-align: right;\n",
       "    }\n",
       "</style>\n",
       "<table border=\"1\" class=\"dataframe\">\n",
       "  <thead>\n",
       "    <tr style=\"text-align: right;\">\n",
       "      <th></th>\n",
       "      <th>Date</th>\n",
       "      <th>Weekday</th>\n",
       "    </tr>\n",
       "  </thead>\n",
       "  <tbody>\n",
       "    <tr>\n",
       "      <th>0</th>\n",
       "      <td>2023-01-01</td>\n",
       "      <td>sunday</td>\n",
       "    </tr>\n",
       "    <tr>\n",
       "      <th>1</th>\n",
       "      <td>2023-01-02</td>\n",
       "      <td>monday</td>\n",
       "    </tr>\n",
       "    <tr>\n",
       "      <th>2</th>\n",
       "      <td>2023-01-03</td>\n",
       "      <td>tuesday</td>\n",
       "    </tr>\n",
       "    <tr>\n",
       "      <th>3</th>\n",
       "      <td>2023-01-04</td>\n",
       "      <td>wednesday</td>\n",
       "    </tr>\n",
       "    <tr>\n",
       "      <th>4</th>\n",
       "      <td>2023-01-05</td>\n",
       "      <td>thursday</td>\n",
       "    </tr>\n",
       "  </tbody>\n",
       "</table>\n",
       "</div>"
      ],
      "text/plain": [
       "         Date    Weekday\n",
       "0  2023-01-01     sunday\n",
       "1  2023-01-02     monday\n",
       "2  2023-01-03    tuesday\n",
       "3  2023-01-04  wednesday\n",
       "4  2023-01-05   thursday"
      ]
     },
     "execution_count": 122,
     "metadata": {},
     "output_type": "execute_result"
    }
   ],
   "source": [
    "# Q11. You have Pandas DataFrame df with a column 'Date'. Write a Python function that creates a new\n",
    "# column 'Weekday' in the DataFrame. The 'Weekday' column should contain the weekday name (e.g.\n",
    "# Monday, Tuesday) corresponding to each date in the 'Date' column.\n",
    "\n",
    "def addWeek(df):\n",
    "    df['Weekday']=''\n",
    "    week=['sunday','monday','tuesday','wednesday','thursday', 'Friday', 'Saturday']\n",
    "    for i in range(len(df['Date'])):\n",
    "        df['Weekday'][i]=week[i%7]\n",
    "    return df\n",
    "\n",
    "Dt=pd.DataFrame(['2023-01-01','2023-01-02','2023-01-03','2023-01-04','2023-01-05'],columns=['Date'])\n",
    "dt=addWeek(Dt)\n",
    "dt"
   ]
  },
  {
   "cell_type": "code",
   "execution_count": 124,
   "metadata": {},
   "outputs": [
    {
     "data": {
      "text/html": [
       "<div>\n",
       "<style scoped>\n",
       "    .dataframe tbody tr th:only-of-type {\n",
       "        vertical-align: middle;\n",
       "    }\n",
       "\n",
       "    .dataframe tbody tr th {\n",
       "        vertical-align: top;\n",
       "    }\n",
       "\n",
       "    .dataframe thead th {\n",
       "        text-align: right;\n",
       "    }\n",
       "</style>\n",
       "<table border=\"1\" class=\"dataframe\">\n",
       "  <thead>\n",
       "    <tr style=\"text-align: right;\">\n",
       "      <th></th>\n",
       "      <th>Date</th>\n",
       "    </tr>\n",
       "  </thead>\n",
       "  <tbody>\n",
       "    <tr>\n",
       "      <th>1</th>\n",
       "      <td>2023-01-02</td>\n",
       "    </tr>\n",
       "    <tr>\n",
       "      <th>2</th>\n",
       "      <td>2023-01-03</td>\n",
       "    </tr>\n",
       "    <tr>\n",
       "      <th>3</th>\n",
       "      <td>2023-01-04</td>\n",
       "    </tr>\n",
       "    <tr>\n",
       "      <th>4</th>\n",
       "      <td>2023-01-05</td>\n",
       "    </tr>\n",
       "  </tbody>\n",
       "</table>\n",
       "</div>"
      ],
      "text/plain": [
       "        Date\n",
       "1 2023-01-02\n",
       "2 2023-01-03\n",
       "3 2023-01-04\n",
       "4 2023-01-05"
      ]
     },
     "execution_count": 124,
     "metadata": {},
     "output_type": "execute_result"
    }
   ],
   "source": [
    "# Q12. Given a Pandas DataFrame df with a column 'Date' that contains timestamps, write a Python\n",
    "# function to select all rows where the date is between '2023-01-01' and '2023-01-31'.\n",
    "\n",
    "def select_rows_between_dates(df):\n",
    "    df['Date'] = pd.to_datetime(df['Date'])\n",
    "    mask = (df['Date'] >= '2023-01-01') & (df['Date'] <= '2023-01-31')\n",
    "    selected_rows = df.loc[mask]\n",
    "    return selected_rows\n",
    "\n",
    "Dt=pd.DataFrame(['2023-05-01','2023-01-02','2023-01-03','2023-01-04','2023-01-05'],columns=['Date'])\n",
    "select_rows_between_dates(Dt)"
   ]
  },
  {
   "cell_type": "code",
   "execution_count": null,
   "metadata": {},
   "outputs": [],
   "source": [
    "# Q13. To use the basic functions of pandas, what is the first and foremost necessary library that \n",
    "# needs to be imported?\n",
    "\n",
    "# pandas library is first and foremost necessary library that \n",
    "# needs to be imported."
   ]
  }
 ],
 "metadata": {
  "kernelspec": {
   "display_name": "Python 3",
   "language": "python",
   "name": "python3"
  },
  "language_info": {
   "codemirror_mode": {
    "name": "ipython",
    "version": 3
   },
   "file_extension": ".py",
   "mimetype": "text/x-python",
   "name": "python",
   "nbconvert_exporter": "python",
   "pygments_lexer": "ipython3",
   "version": "3.11.4"
  },
  "orig_nbformat": 4
 },
 "nbformat": 4,
 "nbformat_minor": 2
}
