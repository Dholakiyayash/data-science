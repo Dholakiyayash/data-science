{
 "cells": [
  {
   "cell_type": "code",
   "execution_count": 3,
   "metadata": {},
   "outputs": [
    {
     "name": "stdout",
     "output_type": "stream",
     "text": [
      "student name is yash\n"
     ]
    }
   ],
   "source": [
    "# Q1. What is Abstraction in OOps? Explain with an example.\n",
    "#=>Abstraction is defined as a process of handling complexity by hiding unnecessary information from  user.\n",
    "\n",
    "import abc\n",
    "\n",
    "class college:\n",
    "    @abc.abstractmethod\n",
    "    def details(self,name):\n",
    "        pass\n",
    "\n",
    "class student(college):\n",
    "    def details(self,name):\n",
    "        print(\"student name is\",name)\n",
    "\n",
    "s1=student()\n",
    "s1.details('yash')"
   ]
  },
  {
   "cell_type": "code",
   "execution_count": 5,
   "metadata": {},
   "outputs": [
    {
     "name": "stdout",
     "output_type": "stream",
     "text": [
      "student name is yash\n",
      "standard of yash is 12\n"
     ]
    }
   ],
   "source": [
    "# Q2. Differentiate between Abstraction and Encapsulation. Explain with an example.\n",
    "# ==>In abstraction, implementation complexities are hidden using abstract classes and interfaces.\n",
    "# While in encapsulation, the data is hidden using methods of getters and setters.\n",
    "# ==>Abstraction provides access to specific part of data. Encapsulation hides data and the user can not access same directly (data hiding).\n",
    "\n",
    "class college:\n",
    "    @abc.abstractmethod\n",
    "    def details(self,name):\n",
    "        pass\n",
    "\n",
    "class student(college):\n",
    "    __standard=12\n",
    "    def details(self,name):\n",
    "        print(\"student name is\",name)\n",
    "        print(\"standard of\",name,\"is\",self.__standard)\n",
    "\n",
    "s1=student()\n",
    "s1.details('yash')"
   ]
  },
  {
   "cell_type": "code",
   "execution_count": 6,
   "metadata": {},
   "outputs": [
    {
     "ename": "AttributeError",
     "evalue": "'student' object has no attribute '__standard'",
     "output_type": "error",
     "traceback": [
      "\u001b[1;31m---------------------------------------------------------------------------\u001b[0m",
      "\u001b[1;31mAttributeError\u001b[0m                            Traceback (most recent call last)",
      "Cell \u001b[1;32mIn[6], line 1\u001b[0m\n\u001b[1;32m----> 1\u001b[0m s1\u001b[39m.\u001b[39;49m__standard\n",
      "\u001b[1;31mAttributeError\u001b[0m: 'student' object has no attribute '__standard'"
     ]
    }
   ],
   "source": [
    "s1.__standard"
   ]
  },
  {
   "attachments": {},
   "cell_type": "markdown",
   "metadata": {},
   "source": [
    " Q3. What is abc module in python? Why is it used?\n",
    " \n",
    "==>abc (abstract base class) that offers the necessary tools for crafting an abstract base class.\n",
    "\n",
    "==>abc module used to make abstract method and data and provide a formal way to define interfaces in Python."
   ]
  },
  {
   "cell_type": "code",
   "execution_count": 9,
   "metadata": {},
   "outputs": [
    {
     "name": "stdout",
     "output_type": "stream",
     "text": [
      "image name new\n"
     ]
    }
   ],
   "source": [
    "# Q4. How can we achieve data abstraction?\n",
    "# ==>data abstraction can be achieved through the use of classes and encapsulation.\n",
    "# ==>we make attribute as private so user get access attribute by getter and setter methods.\n",
    "\n",
    "class image:\n",
    "    __img='my image'\n",
    "    def set_img(self,st):\n",
    "        self.__img=st\n",
    "    def get_img(self):\n",
    "        print(\"image name\",self.__img)\n",
    "\n",
    "img1=image()\n",
    "img1.set_img('new')\n",
    "img1.get_img()\n"
   ]
  },
  {
   "attachments": {},
   "cell_type": "markdown",
   "metadata": {},
   "source": [
    "Q5. Can we create an instance of an abstract class? Explain your answer.\n",
    "\n",
    "==>No, we cannot create an instance of an abstract class because abstrac class have only define method but\n",
    "it have not body of methods.The purpose of an abstract class is to define a common interface and behavior \n",
    "that subclasses must adhere to, but it is not meant to be instantiated on its own. "
   ]
  }
 ],
 "metadata": {
  "kernelspec": {
   "display_name": "Python 3",
   "language": "python",
   "name": "python3"
  },
  "language_info": {
   "codemirror_mode": {
    "name": "ipython",
    "version": 3
   },
   "file_extension": ".py",
   "mimetype": "text/x-python",
   "name": "python",
   "nbconvert_exporter": "python",
   "pygments_lexer": "ipython3",
   "version": "3.11.4"
  },
  "orig_nbformat": 4
 },
 "nbformat": 4,
 "nbformat_minor": 2
}
