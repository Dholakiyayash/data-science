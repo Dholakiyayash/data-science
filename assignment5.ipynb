{
 "cells": [
  {
   "cell_type": "code",
   "execution_count": 1,
   "metadata": {},
   "outputs": [],
   "source": [
    "# Q1, Create a vehicle class with an init method having instance variables as name_of_vehicle, max_speed\n",
    "# and average_of_vehicle.\n",
    "\n",
    "class vehicle:\n",
    "    def __init__(self,name_of_vehicle, max_speed,average_of_vehicle):\n",
    "        self.name_of_vehicle=name_of_vehicle\n",
    "        self.max_speed=max_speed\n",
    "        self.average_of_vehicle=average_of_vehicle"
   ]
  },
  {
   "cell_type": "code",
   "execution_count": 4,
   "metadata": {},
   "outputs": [
    {
     "data": {
      "text/plain": [
       "('ambulance', 4)"
      ]
     },
     "execution_count": 4,
     "metadata": {},
     "output_type": "execute_result"
    }
   ],
   "source": [
    "# Q2.Create a child class car from the vehicle class created in Que 1, which will inherit the vehicle class.\n",
    "# Create a method named seating_capacity which takes capacity as an argument and returns the name of\n",
    "# the vehicle and its seating capacity.\n",
    "\n",
    "class car(vehicle):\n",
    "    def seating_capacity(self,capacity):\n",
    "        return self.name_of_vehicle,capacity\n",
    "car1=car('ambulance',180,30)\n",
    "car1.seating_capacity(4)"
   ]
  },
  {
   "cell_type": "code",
   "execution_count": 6,
   "metadata": {},
   "outputs": [
    {
     "data": {
      "text/plain": [
       "'this is parent2 class'"
      ]
     },
     "execution_count": 6,
     "metadata": {},
     "output_type": "execute_result"
    }
   ],
   "source": [
    "# Q3. What is multiple inheritance? Write a python code to demonstrate multiple inheritance.\n",
    "#==>when child class inherite more than 1 class called multiple inheritance.\n",
    "\n",
    "class p1:\n",
    "    def m1(self):\n",
    "        return 'this is parent1 class'\n",
    "class p2:\n",
    "    def m2(self):\n",
    "        return 'this is parent2 class'\n",
    "\n",
    "class child(p1,p2):   #inherite p1 and p2 class\n",
    "    pass\n",
    "c1=child()\n",
    "c1.m1()\n",
    "c1.m2()"
   ]
  },
  {
   "cell_type": "code",
   "execution_count": 13,
   "metadata": {},
   "outputs": [
    {
     "name": "stdout",
     "output_type": "stream",
     "text": [
      "0\n"
     ]
    },
    {
     "data": {
      "text/plain": [
       "100000000"
      ]
     },
     "execution_count": 13,
     "metadata": {},
     "output_type": "execute_result"
    }
   ],
   "source": [
    "# Q4. What are getter and setter in python? Create a class and create a getter and a setter method in this\n",
    "# class.\n",
    "\n",
    "# =>getter is method which get value of private variable to user .\n",
    "# =>setter is method which set value of private variable by user.\n",
    "\n",
    "class private:\n",
    "    __balance=0\n",
    "    def set_balance(self,balance):\n",
    "        self.__balance=balance\n",
    "    def get_balance(self):\n",
    "        return self.__balance\n",
    "p1=private()\n",
    "print(p1.get_balance())\n",
    "p1.set_balance(100000000)\n",
    "p1.get_balance()\n"
   ]
  },
  {
   "cell_type": "code",
   "execution_count": 14,
   "metadata": {},
   "outputs": [
    {
     "data": {
      "text/plain": [
       "'this is child class'"
      ]
     },
     "execution_count": 14,
     "metadata": {},
     "output_type": "execute_result"
    }
   ],
   "source": [
    "# Q5.What is method overriding in python? Write a python code to demonstrate method overriding.\n",
    "\n",
    "# =>method overriding means define method in child class with own defination which method already define in parent class\n",
    "\n",
    "class parent:\n",
    "    def ret_str(self):\n",
    "        return 'this is parent class'\n",
    "class child(parent):\n",
    "    def ret_str(self):\n",
    "        return 'this is child class'\n",
    "\n",
    "c2=child()\n",
    "c2.ret_str()"
   ]
  }
 ],
 "metadata": {
  "kernelspec": {
   "display_name": "Python 3",
   "language": "python",
   "name": "python3"
  },
  "language_info": {
   "codemirror_mode": {
    "name": "ipython",
    "version": 3
   },
   "file_extension": ".py",
   "mimetype": "text/x-python",
   "name": "python",
   "nbconvert_exporter": "python",
   "pygments_lexer": "ipython3",
   "version": "3.11.4"
  },
  "orig_nbformat": 4
 },
 "nbformat": 4,
 "nbformat_minor": 2
}
