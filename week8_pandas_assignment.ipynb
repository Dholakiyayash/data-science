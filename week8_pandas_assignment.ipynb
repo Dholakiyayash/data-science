{
 "cells": [
  {
   "cell_type": "code",
   "execution_count": 34,
   "metadata": {},
   "outputs": [],
   "source": [
    "import pandas as pd\n",
    "import logging\n",
    "\n",
    "logging.basicConfig(filename=\"week8.log\",level=logging.DEBUG, format='%(asctime)s %(name)s %(levelname)s %(message)s')"
   ]
  },
  {
   "cell_type": "code",
   "execution_count": 4,
   "metadata": {},
   "outputs": [],
   "source": [
    "course_name = ['Data Science', 'Machine Learning', 'Big Data', 'Data Engineer']\n",
    "duration = [2,3,6,4]\n",
    "df = pd.DataFrame(data = {'course_name' : course_name, 'duration' : duration})"
   ]
  },
  {
   "cell_type": "code",
   "execution_count": 5,
   "metadata": {},
   "outputs": [
    {
     "name": "stdout",
     "output_type": "stream",
     "text": [
      "course_name    Big Data\n",
      "duration              6\n",
      "Name: 2, dtype: object\n",
      "\n",
      "  course_name  duration\n",
      "2    Big Data         6\n"
     ]
    }
   ],
   "source": [
    "# Q1. Write a code to print the data present in the second row of the dataframe, df.\n",
    "print(df.iloc[2])\n",
    "logging.debug(df.iloc[2])\n",
    "print()\n",
    "print(df[2:3])\n",
    "logging.debug(df[2:3])\n"
   ]
  },
  {
   "cell_type": "code",
   "execution_count": 6,
   "metadata": {},
   "outputs": [],
   "source": [
    "# Q2. What is the difference between the functions loc and iloc in pandas.DataFrame?\n",
    "\n",
   ]
  },
  {
   "cell_type": "code",
   "execution_count": 7,
   "metadata": {},
   "outputs": [
    {
     "name": "stdout",
     "output_type": "stream",
     "text": [
      "course_name    Big Data\n",
      "duration              6\n",
      "Name: 2, dtype: object\n",
      "course_name    Machine Learning\n",
      "duration                      3\n",
      "Name: 1, dtype: object\n"
     ]
    }
   ],
   "source": [
    "# Q3. Reindex the given dataframe using a variable, reindex = [3,0,1,2] and store it in the \n",
    "# variable, new_df then find the output for both new_df.loc[2] and new_df.iloc[2].\n",
    "\n",
    "reindex = [3,0,1,2]\n",
    "new_df=df.reindex(reindex)\n",
    "print(new_df.loc[2])\n",
    "logging.debug(new_df.loc[2])\n",
    "print(new_df.iloc[2])\n",
    "logging.debug(new_df.iloc[2])\n",
    "\n",
    "# Did you observe any difference in both the outputs? If so then explain it.\n",
    "#  no, because index are same for values of row."
   ]
  },
  {
   "cell_type": "code",
   "execution_count": 8,
   "metadata": {},
   "outputs": [],
   "source": [
    "# Consider the below code to answer further questions:\n",
    "import numpy as np\n",
    "columns = ['column_1', 'column_2', 'column_3', 'column_4', 'column_5', 'column_6']\n",
    "indices = [1,2,3,4,5,6]\n",
    "#Creating a dataframe:\n",
    "df1 = pd.DataFrame(np.random.rand(6,6), columns = columns, index = indices)"
   ]
  },
  {
   "cell_type": "code",
   "execution_count": 9,
   "metadata": {},
   "outputs": [
    {
     "data": {
      "text/plain": [
       "column_1    0.560678\n",
       "column_2    0.515116\n",
       "column_3    0.323202\n",
       "column_4    0.451080\n",
       "column_5    0.558510\n",
       "column_6    0.337236\n",
       "dtype: float64"
      ]
     },
     "execution_count": 9,
     "metadata": {},
     "output_type": "execute_result"
    }
   ],
   "source": [
    "# Q4. Write a code to find the following statistical measurements for the above dataframe df1:\n",
    "# (i) mean of each and every column present in the dataframe.\n",
    "\n",
    "df1.mean()"
   ]
  },
  {
   "cell_type": "code",
   "execution_count": 10,
   "metadata": {},
   "outputs": [
    {
     "data": {
      "text/plain": [
       "0.3520021347697296"
      ]
     },
     "execution_count": 10,
     "metadata": {},
     "output_type": "execute_result"
    }
   ],
   "source": [
    "# (ii) standard deviation of column, ‘column_2’\n",
    "\n",
    "df1['column_2'].std()"
   ]
  },
  {
   "cell_type": "code",
   "execution_count": 11,
   "metadata": {},
   "outputs": [
    {
     "data": {
      "text/plain": [
       "column_2    0.515116\n",
       "dtype: float64"
      ]
     },
     "execution_count": 11,
     "metadata": {},
     "output_type": "execute_result"
    }
   ],
   "source": [
    "# Q5. Replace the data present in the second row of column, ‘column_2’ by a string variable then \n",
    "# find the mean of column, column_2.\n",
    "# If you are getting errors in executing it then explain why.\n",
    "# [Hint: To replace the data use df1.loc[] and equate this to string data of your choice.]\n",
    "\n",
    "df1.loc[\"column_2\",1]='0.013328'\n",
    "df1[['column_2']].mean()"
   ]
  },
  {
   "cell_type": "code",
   "execution_count": 12,
   "metadata": {},
   "outputs": [
    {
     "data": {
      "text/html": [
       "<div>\n",
       "<style scoped>\n",
       "    .dataframe tbody tr th:only-of-type {\n",
       "        vertical-align: middle;\n",
       "    }\n",
       "\n",
       "    .dataframe tbody tr th {\n",
       "        vertical-align: top;\n",
       "    }\n",
       "\n",
       "    .dataframe thead th {\n",
       "        text-align: right;\n",
       "    }\n",
       "</style>\n",
       "<table border=\"1\" class=\"dataframe\">\n",
       "  <thead>\n",
       "    <tr style=\"text-align: right;\">\n",
       "      <th></th>\n",
       "      <th>duration</th>\n",
       "    </tr>\n",
       "  </thead>\n",
       "  <tbody>\n",
       "    <tr>\n",
       "      <th>0</th>\n",
       "      <td>NaN</td>\n",
       "    </tr>\n",
       "    <tr>\n",
       "      <th>1</th>\n",
       "      <td>5.0</td>\n",
       "    </tr>\n",
       "    <tr>\n",
       "      <th>2</th>\n",
       "      <td>9.0</td>\n",
       "    </tr>\n",
       "    <tr>\n",
       "      <th>3</th>\n",
       "      <td>10.0</td>\n",
       "    </tr>\n",
       "  </tbody>\n",
       "</table>\n",
       "</div>"
      ],
      "text/plain": [
       "   duration\n",
       "0       NaN\n",
       "1       5.0\n",
       "2       9.0\n",
       "3      10.0"
      ]
     },
     "execution_count": 12,
     "metadata": {},
     "output_type": "execute_result"
    }
   ],
   "source": [
    "# Q6. What do you understand about the windows function in pandas and list the types of windows\n",
    "# functions?\n",
    "\n",
    "# windows function are used apply any function in each small group of dataframe.\n",
    "df[['duration']].rolling(window=2).sum()"
   ]
  },
  {
   "cell_type": "code",
   "execution_count": 13,
   "metadata": {},
   "outputs": [
    {
     "name": "stdout",
     "output_type": "stream",
     "text": [
      "2023-07-27 12:13:20.099803\n",
      "2023\n",
      "7\n"
     ]
    }
   ],
   "source": [
    "# Q7. Write a code to print only the current month and year at the time of answering this question.\n",
    "\n",
    "date=pd.to_datetime(pd.Timestamp.now())\n",
    "print(date)\n",
    "print(date.year)\n",
    "print(date.month)\n",
    "logging.info(date.year)\n",
    "logging.info(date.month)"
   ]
  },
  {
   "cell_type": "code",
   "execution_count": 15,
   "metadata": {
    "tags": []
   },
   "outputs": [
    {
     "data": {
      "text/plain": [
       "Timedelta('30 days 02:58:02')"
      ]
     },
     "execution_count": 15,
     "metadata": {},
     "output_type": "execute_result"
    }
   ],
   "source": [
    "# Q8. Write a Python program that takes in two dates as input (in the format YYYY-MM-DD) and\n",
    "# calculates the difference between them in days, hours, and minutes using Pandas time delta. The\n",
    "# program should prompt the user to enter the dates and display the result.\n",
    "\n",
    "day1=pd.to_datetime(input(\"enter day 1\"))\n",
    "day2=pd.to_datetime(input(\"enter day 2\"))\n",
    "day2-day1"
   ]
  },
  {
   "cell_type": "code",
   "execution_count": 31,
   "metadata": {},
   "outputs": [
    {
     "name": "stdout",
     "output_type": "stream",
     "text": [
      "Available columns in the CSV file:\n",
      "Index(['Unnamed: 0', 'Rk', 'Player', 'Pos', 'Age', 'Tm', 'G', 'GS', 'MP',\n",
      "       'FG'],\n",
      "      dtype='object')\n",
      "\n",
      "Sorted Data:\n",
      "    Unnamed: 0  Rk                 Player  Pos  Age   Tm   G  GS    MP   FG\n",
      "13          13  12        Al-Farouq Aminu   SF   24  DAL  74   3  1366  147\n",
      "18          18  15          Alan Anderson   SG   32  BRK  74  19  1744  195\n",
      "7            7   6          Alexis Ajinça    C   26  NOP  68   8   957  181\n",
      "4            4   5          Arron Afflalo   SG   29  TOT  78  72  2502  375\n",
      "5            5   5          Arron Afflalo   SG   29  DEN  53  53  1750  281\n",
      "6            6   5          Arron Afflalo   SG   29  POR  25  19   752   94\n",
      "22          22  19        Carmelo Anthony   SF   30  NYK  40  40  1428  358\n",
      "17          17  14         Chris Andersen    C   36  MIA  60  20  1132  120\n",
      "9            9   8           Cole Aldrich    C   26  NYK  61  16   976  144\n",
      "27          27  23         Darrell Arthur   PF   26  DEN  58   4   988  155\n",
      "8            8   7         Furkan Aldemir   PF   23  PHI  41   9   540   40\n",
      "21          21  18  Giannis Antetokounmpo   SG   20  MIL  81  71  2541  383\n",
      "3            3   4            Jeff Adrien   PF   28  MIN  17   0   215   19\n",
      "23          23  20           Joel Anthony    C   32  DET  49   0   406   36\n",
      "1            1   2           Jordan Adams   SG   20  MEM  30   0   248   35\n",
      "19          19  16          Kyle Anderson   SF   21  SAS  33   8   358   31\n",
      "10          10   9      LaMarcus Aldridge   PF   29  POR  71  71  2512  659\n",
      "11          11  10            Lavoy Allen    C   25  IND  63   0  1070  141\n",
      "15          15  13           Lou Amundson   PF   32  CLE  12   0    79    4\n",
      "16          16  13           Lou Amundson   PF   32  NYK  41  35   858  105\n",
      "14          14  13           Lou Amundson   PF   32  TOT  53  35   937  109\n",
      "25          25  21             Pero Antić    C   32  ATL  63   3  1037  108\n",
      "24          24  Rk                 Player  Pos  Age   Tm   G  GS    MP   FG\n",
      "0            0   1             Quincy Acy   PF   24  NYK  68  22  1287  152\n",
      "20          20  17          Ryan Anderson   PF   26  NOP  61   5  1675  291\n",
      "2            2   3           Steven Adams    C   21  OKC  70  67  1771  217\n",
      "12          12  11             Tony Allen   SG   33  MEM  63  41  1648  225\n",
      "26          26  22           Trevor Ariza   SF   29  HOU  82  82  2930  366\n",
      "28          28  24              Ömer Aşık    C   28  NOP  76  76  1982  213\n"
     ]
    }
   ],
   "source": [
    "# Q9. Write a Python program that reads a CSV file containing categorical data and converts a\n",
    "# specified column to a categorical data type. The program should prompt the user to enter\n",
    "# the file path, column name, and category order, and then display the sorted data.\n",
    "\n",
    "file_path = input(\"Enter the file path: \")\n",
    "\n",
    "try:\n",
    "    df = pd.read_csv(file_path)\n",
    "except FileNotFoundError:\n",
    "    print(\"File not found. Please check the file path.\")\n",
    "\n",
    "print(\"Available columns in the CSV file:\")\n",
    "print(df.columns)\n",
    "\n",
    "column_name = input(\"Enter the column name you want to convert to categorical: \")\n",
    "\n",
    "category_order = input(\"Enter the category order\")\n",
    "categories = [cat.strip() for cat in category_order.split(',')]\n",
    "\n",
    "df[column_name] = pd.Categorical(df[column_name],ordered=True)\n",
    "df_sorted = df.sort_values(by=column_name)\n",
    "print(\"\\nSorted Data:\")\n",
    "print(df_sorted)"
   ]
  },
  {
   "cell_type": "code",
   "execution_count": 50,
   "metadata": {},
   "outputs": [
    {
     "data": {
      "text/plain": [
       "<Axes: xlabel='Product'>"
      ]
     },
     "execution_count": 50,
     "metadata": {},
     "output_type": "execute_result"
    },
    {
     "data": {
      "image/png": "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",
      "text/plain": [
       "<Figure size 640x480 with 1 Axes>"
      ]
     },
     "metadata": {},
     "output_type": "display_data"
    }
   ],
   "source": [
    "# Q10. Write a Python program that reads a CSV file containing sales data for different products and\n",
    "# visualizes the data using a stacked bar chart to show the sales of each product category over time. The\n",
    "# program should prompt the user to enter the file path and display the chart.\n",
    "\n",
    "\n",
    "file_path = input(\"Enter the file path: \")\n",
    "\n",
    "try:\n",
    "    df = pd.read_csv(file_path)\n",
    "except FileNotFoundError:\n",
    "    print(\"File not found. Please check the file path.\")\n",
    "\n",
    "df.plot.bar(x='Product',y='Sales')"
   ]
  },
  {
   "cell_type": "code",
   "execution_count": null,
   "metadata": {},
   "outputs": [],
   "source": [
    "# Q11. You are given a CSV file containing student data that includes the student ID and their test \n",
    "# score. Write a Python program that reads the CSV file, calculates the mean, median, and mode of the\n",
    "#  test scores, and displays the results in a table.\n",
    "\n",
    "The program should do the following:\n",
    "Prompt the user to enter the file path of the CSV file containing the student data\n",
    "Read the CSV file into a Pandas DataFrame\n",
    "Calculate the mean, median, and mode of the test scores using Pandas tools\n",
    "Display the mean, median, and mode in a table.\n",
    "Assume the CSV file contains the following columns\n",
    "I Student ID: The ID of the studentR\n",
    "I Test Score: The score of the student's test.\n",
    "Example usage of the program:\n",
    "Enter the file path of the CSV file containing the student data: student_data.csv\n",
    "+-----------+--------+\n",
    "| Statistic | Value |\n",
    "+-----------+--------+\n",
    "| Mean | 79.6 |\n",
    "| Median | 82 |\n",
    "| Mode | 85, 90 |\n",
    "+-----------+--------+\n",
    "Assume that the CSV file student_data.csv contains the following data:\n",
    "Student ID,Test Score\n",
    "1,85\n",
    "2,90\n",
    "3,80\n",
    "4,75\n",
    "5,85\n",
    "6,82\n",
    "7,78\n",
    "8,85\n",
    "9,90\n",
    "10,85\n",
    "The program should calculate the mean, median, and mode of the test scores and display the results\n",
    "in a table."
   ]
  },
  {
   "cell_type": "code",
   "execution_count": 54,
   "metadata": {},
   "outputs": [
    {
     "name": "stdout",
     "output_type": "stream",
     "text": [
      "+-----------+--------+\n",
      "| Statistic | Value |\n",
      "+-----------+--------+\n",
      "| Mean |83.5|\n",
      "| Median | 85.0|\n",
      "| Mode | 0    85\n",
      "Name: Test Score, dtype: int64|\n",
      "+-----------+--------+\n"
     ]
    }
   ],
   "source": [
    "file_path = input(\"Enter the file path: \")\n",
    "\n",
    "try:\n",
    "    df = pd.read_csv(file_path)\n",
    "except FileNotFoundError:\n",
    "    print(\"File not found. Please check the file path.\")\n",
    "print('+-----------+--------+')\n",
    "print(\"| Statistic | Value |\")\n",
    "print('+-----------+--------+')\n",
    "print('| Mean |',end='')\n",
    "print(df['Test Score'].mean(),end='')\n",
    "print('|')\n",
    "print('| Median | ',end='')\n",
    "print(df['Test Score'].median(),end='')\n",
    "print('|')\n",
    "print('| Mode | ',end='')\n",
    "print(df['Test Score'].mode(),end='')\n",
    "print('|')\n",
    "print('+-----------+--------+')"
   ]
  },
  {
   "cell_type": "code",
   "execution_count": null,
   "metadata": {},
   "outputs": [],
   "source": []
  }
 ],
 "metadata": {
  "kernelspec": {
   "display_name": "Python 3",
   "language": "python",
   "name": "python3"
  },
  "language_info": {
   "codemirror_mode": {
    "name": "ipython",
    "version": 3
   },
   "file_extension": ".py",
   "mimetype": "text/x-python",
   "name": "python",
   "nbconvert_exporter": "python",
   "pygments_lexer": "ipython3",
   "version": "3.11.4"
  },
  "orig_nbformat": 4
 },
 "nbformat": 4,
 "nbformat_minor": 2
}
