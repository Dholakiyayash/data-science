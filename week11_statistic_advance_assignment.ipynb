{
 "cells": [
  {
   "cell_type": "markdown",
   "metadata": {},
   "source": [
    "**Q1. What is the Probability density function?**\n",
    "\n",
    "The Probability Density Function (PDF) is a fundamental concept in probability and statistics. It is used to describe the probability distribution of a continuous random variable. In simpler terms, the PDF provides a mathematical description of the likelihood of a continuous random variable taking on a particular value within a specific range.\n",
    "\n",
    "Key characteristics of the Probability Density Function:\n",
    "\n",
    "Continuous Random Variable: The PDF is used for continuous random variables, which can take any value within a specified range (e.g., height, weight, time).\n",
    "\n",
    "Non-negative Function: The PDF is always non-negative within its range. This means that the probability of the random variable falling within any given interval is non-negative.\n",
    "\n",
    "Total Area under the Curve: The total area under the PDF curve over its entire range is equal to 1. This implies that the probability of the random variable taking any value within its range is equal to 1.\n",
    "\n",
    "Probability Calculation: To calculate the probability of a continuous random variable falling within a specific interval, you integrate the PDF over that interval.\n",
    "\n",
    "The PDF plays a crucial role in various statistical analyses, including probability calculations, hypothesis testing, and parameter estimation for continuous random variables. It helps in understanding the likelihood of different values occurring in the context of continuous data."
   ]
  },
  {
   "cell_type": "markdown",
   "metadata": {},
   "source": [
    "**Q2. What are the types of Probability distribution?**\n",
    "\n",
    "Normal/Gaussian Distribution(pdf)\n",
    "\n",
    "Bernoulli distribution(pmf)\n",
    "\n",
    "Uniform distribution(pmf)\n",
    "\n",
    "Poisson distribution(pmf)\n",
    "\n",
    "log normal distribution(pdf)\n",
    "\n",
    "Binomial distribution(pmf)"
   ]
  },
  {
   "cell_type": "code",
   "execution_count": 3,
   "metadata": {},
   "outputs": [
    {
     "data": {
      "text/plain": [
       "4.137845482192113e+20"
      ]
     },
     "execution_count": 3,
     "metadata": {},
     "output_type": "execute_result"
    }
   ],
   "source": [
    "#Q3. Write a Python function to calculate the probability density function of a normal distribution with\n",
    "#  given mean and standard deviation at a given point.\n",
    "import math\n",
    "\n",
    "def pdf(x,mean,std):\n",
    "    return 1/math.sqrt(2*3.14)*std*math.exp(((x-mean)/std)**2/2)\n",
    "\n",
    "pdf(4,2,0.2)"
   ]
  },
  {
   "cell_type": "markdown",
   "metadata": {},
   "source": [
    "Q4. What are the properties of Binomial distribution? Give two examples of events where binomial\n",
    "distribution can be applied.\n",
    "\n",
    "Discrete Probability Distribution: The Binomial distribution is a discrete probability distribution, meaning it is used to model situations where there are a fixed number of independent trials, each with only two possible outcomes (usually denoted as \"success\" and \"failure\").\n",
    "\n",
    "Fixed Number of Trials: The number of trials (n) is fixed and known in advance.\n",
    "\n",
    "Independent Trials: Each trial is independent of the others, meaning the outcome of one trial does not influence the outcomes of other trials.\n",
    "\n",
    "Constant Probability of Success: The probability of success (p) remains constant for each trial.\n",
    "\n",
    "Two Possible Outcomes: Each trial can only have two possible outcomes: success (S) with probability p and failure (F) with probability q = 1 - p\n",
    "\n",
    "Examples:\n",
    "\n",
    "Flipping a fair coin 10 times.here probability of success at each trial p is 0.5 and probability of failure at each trial q is 0.5\n",
    "\n",
    "Inspecting 5 randomly selected products from a manufacturing process.here p is 0.8 and q is 0.2\n"
   ]
  },
  {
   "cell_type": "code",
   "execution_count": 4,
   "metadata": {},
   "outputs": [
    {
     "data": {
      "image/png": "[encoded data removed]",
      "text/plain": [
       "<Figure size 640x480 with 1 Axes>"
      ]
     },
     "metadata": {},
     "output_type": "display_data"
    }
   ],
   "source": [
    "# Q5. Generate a random sample of size 1000 from a binomial distribution with probability of success 0.4\n",
    "# and plot a histogram of the results using matplotlib.\n",
    "\n",
    "import numpy as np\n",
    "import matplotlib.pyplot as plt\n",
    "\n",
    "# Set the random seed for reproducibility\n",
    "np.random.seed(42)\n",
    "\n",
    "# Generate the random sample from the binomial distribution\n",
    "sample_size = 1000\n",
    "probability_of_success = 0.4\n",
    "random_sample = np.random.binomial(n=1, p=probability_of_success, size=sample_size)\n",
    "\n",
    "# Plot the histogram of the random sample\n",
    "plt.hist(random_sample, bins=2, edgecolor='black', align='left')\n",
    "plt.xticks([0, 1], ['Failure', 'Success'])\n",
    "plt.xlabel('Outcome')\n",
    "plt.ylabel('Frequency')\n",
    "plt.title('Histogram of Random Sample from Binomial Distribution')\n",
    "plt.show()"
   ]
  },
  {
   "cell_type": "code",
   "execution_count": 9,
   "metadata": {},
   "outputs": [
    {
     "data": {
      "text/plain": [
       "0.8757241192472367"
      ]
     },
     "execution_count": 9,
     "metadata": {},
     "output_type": "execute_result"
    }
   ],
   "source": [
    "# Q6. Write a Python function to calculate the cumulative distribution function of a Poisson distribution \n",
    "# with given mean at a given point.\n",
    "\n",
    "import math\n",
    "\n",
    "def fact(x):\n",
    "    if x==0 or x==1:\n",
    "        return 1\n",
    "    return x*fact(x-1)\n",
    "\n",
    "def cdf(point,mean):\n",
    "    ans=0\n",
    "    exp_of_mean=math.exp(mean)\n",
    "    for i in range(point+1):\n",
    "        ans+=mean**i/exp_of_mean*fact(i)\n",
    "    return ans\n",
    "\n",
    "mean = 3.5\n",
    "point = 2\n",
    "cdf(point,mean)"
   ]
  },
  {
   "cell_type": "markdown",
   "metadata": {},
   "source": [
    "**Q7. How Binomial distribution different from Poisson distribution?**\n",
    "\n",
    "Binomial Distribution:\n",
    "\n",
    "Applicable for a fixed number of independent trials.\n",
    "Assumes a constant probability of success for each trial.\n",
    "Used for discrete events with a fixed number of trials.\n",
    "Poisson Distribution:\n",
    "\n",
    "Suitable for an indefinite number of events occurring in a fixed interval.\n",
    "Assumes rare and random events with a known average rate of occurrence (λ).\n",
    "Used for modeling continuous events with unpredictable occurrence patterns.\n"
   ]
  },
  {
   "cell_type": "code",
   "execution_count": 10,
   "metadata": {},
   "outputs": [
    {
     "name": "stdout",
     "output_type": "stream",
     "text": [
      "Sample mean: 4.985\n",
      "Sample variance: 5.001776776776777\n"
     ]
    }
   ],
   "source": [
    "# Q8. Generate a random sample of size 1000 from a Poisson distribution with mean 5 and calculate the\n",
    "# sample mean and variance.\n",
    "\n",
    "import numpy as np\n",
    "\n",
    "np.random.seed(42)\n",
    "\n",
    "sample_size = 1000\n",
    "mean = 5\n",
    "random_sample = np.random.poisson(mean, size=sample_size)\n",
    "sample_mean = np.mean(random_sample)\n",
    "sample_variance = np.var(random_sample, ddof=1)  # Use ddof=1 for sample variance\n",
    "\n",
    "print(\"Sample mean:\", sample_mean)\n",
    "print(\"Sample variance:\", sample_variance)\n"
   ]
  },
  {
   "cell_type": "markdown",
   "metadata": {},
   "source": [
    "**Q9. How mean and variance are related in Binomial distribution and Poisson distribution?**\n",
    "\n",
    "Binomial Distribution:\n",
    "\n",
    "Mean (μ) = n * p\n",
    "\n",
    "Variance (σ^2) = n * p * (1 - p)\n",
    "\n",
    "In the Binomial distribution, the mean is given by the product of the number of trials (n) and the probability of success in each trial (p). The variance is the product of n, p, and (1 - p).\n",
    "\n",
    "Poisson Distribution:\n",
    "\n",
    "Mean (μ) = λ\n",
    "\n",
    "Variance (σ^2) = λ\n",
    "\n",
    "In the Poisson distribution, both the mean and variance are equal to the parameter λ (lambda), which represents the average rate of occurrence of events. This unique property of the Poisson distribution arises from its assumptions about rare and random events occurring at a constant rate.\n"
   ]
  },
  {
   "cell_type": "markdown",
   "metadata": {},
   "source": [
    "**Q10. In normal distribution with respect to mean position, where does the least frequent data appear?**\n",
    "\n",
    "In a normal distribution, the least frequent data appears in the tails of the distribution, farthest away from the mean."
   ]
  },
  {
   "cell_type": "markdown",
   "metadata": {},
   "source": []
  }
 ],
 "metadata": {
  "kernelspec": {
   "display_name": "Python 3",
   "language": "python",
   "name": "python3"
  },
  "language_info": {
   "codemirror_mode": {
    "name": "ipython",
    "version": 3
   },
   "file_extension": ".py",
   "mimetype": "text/x-python",
   "name": "python",
   "nbconvert_exporter": "python",
   "pygments_lexer": "ipython3",
   "version": "3.11.4"
  },
  "orig_nbformat": 4
 },
 "nbformat": 4,
 "nbformat_minor": 2
}
