{
 "cells": [
  {
   "cell_type": "markdown",
   "metadata": {},
   "source": [
    "**Q1. Explain the assumptions required to use ANOVA and provide examples of violations that could impact the validity of the results.**\n",
    "\n",
    "\n",
    "Analysis of Variance (ANOVA) is a statistical technique used to compare means across two or more groups to determine if there are significant differences among them. It makes several assumptions about the data, and violating these assumptions could impact the validity of the ANOVA results. The main assumptions for ANOVA are:\n",
    "\n",
    "Independence: Observations in each group are assumed to be independent of each other. This means that the measurements within one group do not influence the measurements in another group.\n",
    "\n",
    "Normality: The residuals (differences between observed values and predicted values) within each group should follow a normal distribution. This assumption is particularly important when the group sizes are small. However, ANOVA is somewhat robust to deviations from normality, especially when sample sizes are large.\n",
    "\n",
    "Homogeneity of Variance (Homoscedasticity): The variability of observations within each group should be approximately equal across all groups. In other words, the variances of the groups should be similar.\n",
    "\n",
    "Examples of violations of these assumptions that could impact the validity of ANOVA results:\n",
    "\n",
    "Independence Violation: If observations within groups are not independent, it can lead to pseudoreplication. For example, if you're comparing the performance of different students in a class and some students collaborate or influence each other's scores, the assumption of independence is violated.\n",
    "\n",
    "Normality Violation: If the residuals within groups do not follow a normal distribution, ANOVA results may not be reliable, especially when dealing with small sample sizes. For example, if you're comparing the reaction times of different groups of participants, and the reaction times are heavily skewed or have outliers, the assumption of normality could be violated.\n",
    "\n",
    "Homoscedasticity Violation: If the variability within groups is not equal, ANOVA results may be influenced by groups with larger variances. This can lead to increased Type I error rates or decreased power. For instance, if you're comparing the heights of individuals from different regions, and the height variability in one region is much larger than in others, the assumption of homoscedasticity might be violated."
   ]
  },
  {
   "cell_type": "markdown",
   "metadata": {},
   "source": [
    "**Q2. What are the three types of ANOVA, and in what situations would each be used?**\n",
    "\n",
    "\n",
    "There are three main types of ANOVA: one-way ANOVA, two-way ANOVA, and repeated measures ANOVA. Each is used in different situations to analyze variations in data:\n",
    "\n",
    "One-Way ANOVA:\n",
    "\n",
    "Situation: Used when comparing means across three or more independent groups.\n",
    "\n",
    "Example: Comparing the effectiveness of three different treatments on patients' recovery times.\n",
    "Two-Way ANOVA:\n",
    "\n",
    "Situation: Used when there are two categorical independent variables, and you want to examine their combined effects on a continuous dependent variable.\n",
    "\n",
    "Example: Analyzing the impact of both gender and age group on test scores among students.\n",
    "Repeated Measures ANOVA:\n",
    "\n",
    "Situation: Used when measuring the same subjects multiple times under different conditions or treatments.\n",
    "\n",
    "Example: Assessing changes in heart rate before, during, and after exercise for the same group of participants.\n",
    "\n",
    "Each type of ANOVA addresses specific research questions and study designs, allowing you to explore variations in data that involve different factors or repeated measurements.\n"
   ]
  },
  {
   "cell_type": "markdown",
   "metadata": {},
   "source": [
    "**Q3. What is the partitioning of variance in ANOVA, and why is it important to understand this concept?**\n",
    "\n",
    "The partitioning of variance in ANOVA refers to breaking down the total variability in data into components attributed to different sources. This concept is vital because it helps analyze the contributions of various factors to differences among groups. Understanding this breakdown allows for identifying significant effects, assessing the importance of factors, guiding interpretation, and forming hypotheses. It provides insights into the significance and practical relevance of observed differences."
   ]
  },
  {
   "cell_type": "markdown",
   "metadata": {},
   "source": [
    "**Q4. How would you calculate the total sum of squares (SST), explained sum of squares (SSE), and residual sum of squares (SSR) in a one-way ANOVA using Python?**\n",
    "\n",
    "Certainly, I can provide a concise explanation of these terms:\n",
    "\n",
    "Total Sum of Squares (SST):\n",
    "\n",
    "SST represents the total variability in the dependent variable (response variable).\n",
    "It measures the total deviation of individual data points from the overall mean.\n",
    "SST = SSE (explained variability) + SSR (unexplained variability).\n",
    "In a one-way ANOVA, it captures the variability of all data points around the grand mean.\n",
    "Explained Sum of Squares (SSE):\n",
    "\n",
    "SSE measures the variability explained by the differences between group means and the overall mean.\n",
    "It quantifies the extent to which group means differ from the grand mean.\n",
    "Larger SSE indicates greater differences among group means, suggesting that the groups are not similar.\n",
    "Residual Sum of Squares (SSR):\n",
    "\n",
    "SSR represents the unexplained variability that remains after accounting for differences in group means.\n",
    "It measures the variation within each group and indicates how much individual data points deviate from their respective group means.\n",
    "Larger SSR suggests that there's a significant amount of variability within each group that is not explained by the differences in group means.\n",
    "In summary, SST is the total variability in the data, SSE represents the variability explained by group means, and SSR captures the unexplained variability within each group. These components are used to assess the significance of the differences among group means in a one-way ANOVA."
   ]
  },
  {
   "cell_type": "code",
   "execution_count": 15,
   "metadata": {},
   "outputs": [
    {
     "name": "stdout",
     "output_type": "stream",
     "text": [
      "Main Effect A p-value: 0.121952421383888\n",
      "Main Effect B p-value: 0.2507869611250125\n",
      "Interaction Effect p-value: 0.5655332664528653\n"
     ]
    }
   ],
   "source": [
    "# Q5. In a two-way ANOVA, how would you calculate the main effects and interaction effects using Python?\n",
    "\n",
    "import pandas as pd\n",
    "import scipy.stats as stats\n",
    "import statsmodels.api as sm\n",
    "from statsmodels.formula.api import ols\n",
    "\n",
    "data = pd.DataFrame({\n",
    "    'factor_A': ['A1', 'A1', 'A2', 'A2', 'A1', 'A1', 'A2', 'A2'],\n",
    "    'factor_B': ['B1', 'B2', 'B1', 'B2', 'B2', 'B1', 'B2', 'B1'],\n",
    "    'dependent_variable': [10, 12, 15, 13, 14, 11, 16, 12]\n",
    "})\n",
    "\n",
    "p_value_A = stats.f_oneway(*[data[data['factor_A'] == level]['dependent_variable'] for level in data['factor_A'].unique()]).pvalue\n",
    "p_value_B = stats.f_oneway(*[data[data['factor_B'] == level]['dependent_variable'] for level in data['factor_B'].unique()]).pvalue\n",
    "\n",
    "formula = 'dependent_variable ~ factor_A * factor_B'\n",
    "model = ols(formula, data).fit()\n",
    "anova_table = sm.stats.anova_lm(model)\n",
    "\n",
    "print(\"Main Effect A p-value:\", p_value_A)\n",
    "print(\"Main Effect B p-value:\", p_value_B)\n",
    "print(\"Interaction Effect p-value:\", anova_table.loc['factor_A:factor_B', 'PR(>F)'])\n",
    "\n"
   ]
  },
  {
   "cell_type": "markdown",
   "metadata": {},
   "source": [
    "**Q6. Suppose you conducted a one-way ANOVA and obtained an F-statistic of 5.23 and a p-value of 0.02. What can you conclude about the differences between the groups, and how would you interpret these results?**\n",
    "\n",
    "With an F-statistic of 5.23 and a p-value of 0.02 from the one-way ANOVA:\n",
    "\n",
    "You can conclude that there are statistically significant differences between the groups' means.\n",
    "\n",
    "The p-value indicates that these differences are unlikely to have occurred by chance.\n",
    "\n",
    "Rejecting the null hypothesis, you have evidence that at least one group mean is different from the others in a meaningful way.\n"
   ]
  },
  {
   "cell_type": "markdown",
   "metadata": {},
   "source": [
    "**Q7. In a repeated measures ANOVA, how would you handle missing data, and what are the potential consequences of using different methods to handle missing data?**\n",
    "\n",
    "\n",
    "In a repeated measures ANOVA, handling missing data involves choosing a method to deal with data points that are not available. Different methods have distinct consequences:\n",
    "\n",
    "Listwise Deletion:\n",
    "\n",
    "Exclude cases with any missing data.\n",
    "\n",
    "Consequence: Loss of data, reduced power, potential bias if missingness is non-random.\n",
    "\n",
    "Mean Imputation:\n",
    "\n",
    "Replace missing values with the mean of available data.\n",
    "\n",
    "Consequence: Underestimation of variability, bias, distorted relationships.\n",
    "\n",
    "Last Observation Carried Forward (LOCF):\n",
    "\n",
    "Use the last observed value for missing data.\n",
    "\n",
    "Consequence: Distorted temporal trends, potential overestimation of effects.\n",
    "\n",
    "Multiple Imputation:\n",
    "\n",
    "Generate multiple datasets with imputed values, combine results.\n",
    "\n",
    "Consequence: Reflects uncertainty, accurate if assumptions met, computationally intensive.\n",
    "\n",
    "Model-Based Imputation:\n",
    "\n",
    "Predict missing values using statistical models.\n",
    "\n",
    "Consequence: Preserves relationships, depends on model assumptions.\n",
    "\n",
    "Zero Imputation:\n",
    "\n",
    "Replace missing values with zero.\n",
    "\n",
    "Consequence: Distorted distributions, relationships, biased results.\n",
    "\n",
    "Weighted Analysis:\n",
    "\n",
    "Give more weight to complete cases.\n",
    "\n",
    "Consequence: Partial mitigation of bias, incomplete solution.\n",
    "\n",
    "Select a method based on data characteristics, aim, and assumptions. Proper handling maintains data integrity and validity of repeated measures ANOVA results.\n"
   ]
  },
  {
   "cell_type": "markdown",
   "metadata": {},
   "source": [
    "**Q8. What are some common post-hoc tests used after ANOVA, and when would you use each one? Provide an example of a situation where a post-hoc test might be necessary.**\n",
    "\n",
    "Common post-hoc tests after ANOVA:\n",
    "\n",
    "Tukey's HSD: Identifying significant group differences, suitable for equal sample sizes and variances.\n",
    "\n",
    "Bonferroni Correction: Controlling familywise error rate, suitable for few pairwise comparisons.\n",
    "\n",
    "Scheffe's: Complex designs, unequal sample sizes; controls error rate with wider confidence intervals.\n",
    "\n",
    "Dunn's: Non-parametric alternative, used when normality assumptions are not met.\n",
    "\n",
    "Holm-Bonferroni: Stepwise control of error rate, less conservative than Bonferroni.\n",
    "\n",
    "Example Situation:\n",
    "In an educational study comparing the effectiveness of three teaching methods (A, B, C), ANOVA reveals a significant difference. To pinpoint which methods differ, Tukey's HSD might be used. For instance, if Tukey's test reveals that Method A and Method B have significantly different outcomes, you gain insights into which specific methods are better for student learning."
   ]
  },
  {
   "cell_type": "code",
   "execution_count": 29,
   "metadata": {},
   "outputs": [
    {
     "name": "stdout",
     "output_type": "stream",
     "text": [
      "F-statistic: 3.356140004737559\n",
      "p-value: 0.037561645884032616\n",
      "There are significant differences in mean weight loss between the diet groups.\n"
     ]
    }
   ],
   "source": [
    "# Q9. A researcher wants to compare the mean weight loss of three diets: A, B, and C. They collect data \n",
    "# from 50 participants who were randomly assigned to one of the diets. Conduct a one-way ANOVA using \n",
    "# Python to determine if there are any significant differences between the mean weight loss of the three \n",
    "# diets. Report the F-statistic and p-value, and interpret the results\n",
    "\n",
    "import numpy as np\n",
    "import scipy.stats as stats\n",
    "\n",
    "diet_A = np.array([np.random.rand()*4 for i in range(50)])  \n",
    "diet_B = np.array([np.random.rand()*4 for i in range(50)])  \n",
    "diet_C = np.array([np.random.rand()*4 for i in range(50)])  \n",
    "\n",
    "f_statistic, p_value = stats.f_oneway(diet_A, diet_B, diet_C)\n",
    "print(\"F-statistic:\", f_statistic)\n",
    "print(\"p-value:\", p_value)\n",
    "\n",
    "if p_value < 0.05:\n",
    "    print(\"There are significant differences in mean weight loss between the diet groups.\")\n",
    "else:\n",
    "    print(\"There are no significant differences in mean weight loss between the diet groups.\")\n",
    "\n"
   ]
  },
  {
   "cell_type": "code",
   "execution_count": 37,
   "metadata": {},
   "outputs": [
    {
     "name": "stdout",
     "output_type": "stream",
     "text": [
      "                       df        sum_sq     mean_sq         F    PR(>F)\n",
      "Software              2.0    277.355556  138.677778  0.508296  0.603358\n",
      "Experience            1.0    187.777778  187.777778  0.688263  0.409107\n",
      "Software:Experience   2.0    145.088889   72.544444  0.265898  0.767160\n",
      "Residual             84.0  22917.600000  272.828571       NaN       NaN\n",
      "There is no significant main effect of Software.\n",
      "There is no significant main effect of Experience.\n",
      "There is no significant interaction effect between Software and Experience.\n"
     ]
    }
   ],
   "source": [
    "# Q10. A company wants to know if there are any significant differences in the average time it takes to\n",
    "# complete a task using three different software programs: Program A, Program B, and Program C. They\n",
    "# randomly assign 30 employees to one of the programs and record the time it takes each employee to\n",
    "# complete the task. Conduct a two-way ANOVA using Python to determine if there are any main effects or\n",
    "# interaction effects between the software programs and employee experience level (novice vs. experienced)\n",
    "# . Report the F-statistics and p-values, and interpret the results.\n",
    "\n",
    "import numpy as np\n",
    "import pandas as pd\n",
    "import statsmodels.api as sm\n",
    "from statsmodels.formula.api import ols\n",
    "from statsmodels.stats.anova import anova_lm\n",
    "\n",
    "data = pd.DataFrame({\n",
    "    'Software': ['A', 'B', 'C'] * 30,\n",
    "    'Experience': ['Novice'] * 45 + ['Experienced'] * 45,\n",
    "    'Time': np.random.randint(10, 60, size=90) \n",
    "})\n",
    "\n",
    "formula = 'Time ~ Software + Experience + Software:Experience'\n",
    "model = ols(formula, data).fit()\n",
    "anova_table = anova_lm(model)\n",
    "\n",
    "print(anova_table)\n",
    "\n",
    "if anova_table['PR(>F)'][0] < 0.05:\n",
    "    print(\"There is a significant main effect of Software.\")\n",
    "else:\n",
    "    print(\"There is no significant main effect of Software.\")\n",
    "\n",
    "if anova_table['PR(>F)'][1] < 0.05:\n",
    "    print(\"There is a significant main effect of Experience.\")\n",
    "else:\n",
    "    print(\"There is no significant main effect of Experience.\")\n",
    "\n",
    "if anova_table['PR(>F)'][2] < 0.05:\n",
    "    print(\"There is a significant interaction effect between Software and Experience.\")\n",
    "else:\n",
    "    print(\"There is no significant interaction effect between Software and Experience.\")\n"
   ]
  },
  {
   "cell_type": "code",
   "execution_count": 35,
   "metadata": {},
   "outputs": [
    {
     "name": "stdout",
     "output_type": "stream",
     "text": [
      "t-statistic: -0.5961353074623413\n",
      "p-value: 0.5517657284161626\n",
      "There is no significant difference in test scores between the two groups.\n"
     ]
    }
   ],
   "source": [
    "# Q11. An educational researcher is interested in whether a new teaching method improves student test\n",
    "#  scores. They randomly assign 100 students to either the control group (traditional teaching method)\n",
    "#  or the experimental group (new teaching method) and administer a test at the end of the semester. \n",
    "# Conduct a two-sample t-test using Python to determine if there are any significant differences in\n",
    "#  test scores between the two groups. If the results are significant, follow up with a post-hoc test \n",
    "# to determine which group(s) differ significantly from each other.\n",
    "\n",
    "import numpy as np\n",
    "import scipy.stats as stats\n",
    "import statsmodels.api as sm\n",
    "from statsmodels.stats.multicomp import pairwise_tukeyhsd\n",
    "\n",
    "control_group = np.array([50+np.random.randint(50) for i in range(100)])  \n",
    "experimental_group = np.array([50+np.random.randint(50) for i in range(100)])  \n",
    "\n",
    "t_statistic, p_value = stats.ttest_ind(control_group, experimental_group)\n",
    "\n",
    "print(\"t-statistic:\", t_statistic)\n",
    "print(\"p-value:\", p_value)\n",
    "\n",
    "if p_value < 0.05:\n",
    "    print(\"There is a significant difference in test scores between the two groups.\")\n",
    "else:\n",
    "    print(\"There is no significant difference in test scores between the two groups.\")\n",
    "\n",
    "if p_value < 0.05:\n",
    "    data = np.concatenate((control_group, experimental_group))\n",
    "    group_labels = ['Control'] * len(control_group) + ['Experimental'] * len(experimental_group)\n",
    "    tukey_results = pairwise_tukeyhsd(data, group_labels, alpha=0.05)\n",
    "    print(tukey_results)\n",
    "\n"
   ]
  },
  {
   "cell_type": "code",
   "execution_count": 36,
   "metadata": {},
   "outputs": [
    {
     "name": "stdout",
     "output_type": "stream",
     "text": [
      "            df        sum_sq     mean_sq         F    PR(>F)\n",
      "Store      2.0   1710.288889  855.144444  1.081952  0.343449\n",
      "Residual  87.0  68762.333333  790.371648       NaN       NaN\n"
     ]
    }
   ],
   "source": [
    "# Q12. A researcher wants to know if there are any significant differences in the average daily sales of\n",
    "#  three retail stores: Store A, Store B, and Store C. They randomly select 30 days and record the sales\n",
    "#  for each store on those days. Conduct a repeated measures ANOVA using Python to determine if there \n",
    "# are any significant differences in sales between the three stores. If the results are significant, \n",
    "# follow up with a post-hoc test to determine which store(s) differ significantly from each other.\n",
    "\n",
    "import numpy as np\n",
    "import pandas as pd\n",
    "import scipy.stats as stats\n",
    "import statsmodels.api as sm\n",
    "from statsmodels.stats.multicomp import pairwise_tukeyhsd\n",
    "\n",
    "data = pd.DataFrame({\n",
    "    'Day': list(range(1, 31)) * 3,\n",
    "    'Store': ['Store A'] * 30 + ['Store B'] * 30 + ['Store C'] * 30,\n",
    "    'Sales': np.random.randint(50, 150, size=90)  # Replace with actual data\n",
    "})\n",
    "\n",
    "anova_results = sm.stats.anova_lm(sm.OLS.from_formula('Sales ~ Store', data=data).fit())\n",
    "\n",
    "print(anova_results)\n",
    "\n",
    "if anova_results['PR(>F)'][0] < 0.05:\n",
    "    tukey_results = pairwise_tukeyhsd(data['Sales'], data['Store'], alpha=0.05)\n",
    "    print(tukey_results)\n"
   ]
  }
 ],
 "metadata": {
  "kernelspec": {
   "display_name": "Python 3",
   "language": "python",
   "name": "python3"
  },
  "language_info": {
   "codemirror_mode": {
    "name": "ipython",
    "version": 3
   },
   "file_extension": ".py",
   "mimetype": "text/x-python",
   "name": "python",
   "nbconvert_exporter": "python",
   "pygments_lexer": "ipython3",
   "version": "3.11.4"
  },
  "orig_nbformat": 4
 },
 "nbformat": 4,
 "nbformat_minor": 2
}
