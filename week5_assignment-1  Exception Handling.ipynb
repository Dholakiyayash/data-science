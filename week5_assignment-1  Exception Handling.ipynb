{
 "cells": [
  {
   "cell_type": "markdown",
   "metadata": {},
   "source": [
    "Q1. What is an Exception in python? Write the difference between Exceptions and Syntax errors.\n",
    "\n",
    "An exception is an event, which occurs during the execution of a program that disrupts the normal \n",
    "flow of the program's instructions. In general, when a Python script encounters a situation that \n",
    "it cannot cope with, it raises an exception. An exception is a Python object that represents an error.\n",
    "    \n",
    "Errors mostly happen at compile-time like syntax error; however it can happen at runtime as well. \n",
    "Whereas an Exception occurs at runtime.\n",
    "\n",
    "SyntaxError occur because of wrong syntax. exception occur because wrong logic like division by zero.\n",
    "\n",
    "we cannot handle SyntaxError but When an error and an exception are raised then we handle that \n",
    "with the help of the Handling method.\n"
   ]
  },
  {
   "attachments": {},
   "cell_type": "markdown",
   "metadata": {},
   "source": [
    "Q2. What happens when an exception is not handled? Explain with an example.\n",
    "\n",
    "=>if exception is not handle then code stop execution."
   ]
  },
  {
   "cell_type": "code",
   "execution_count": 1,
   "metadata": {},
   "outputs": [
    {
     "ename": "ZeroDivisionError",
     "evalue": "division by zero",
     "output_type": "error",
     "traceback": [
      "\u001b[1;31m---------------------------------------------------------------------------\u001b[0m",
      "\u001b[1;31mZeroDivisionError\u001b[0m                         Traceback (most recent call last)",
      "Cell \u001b[1;32mIn[1], line 1\u001b[0m\n\u001b[1;32m----> 1\u001b[0m a\u001b[39m=\u001b[39m\u001b[39m10\u001b[39;49m\u001b[39m/\u001b[39;49m\u001b[39m0\u001b[39;49m\n\u001b[0;32m      2\u001b[0m \u001b[39mprint\u001b[39m(\u001b[39m\"\u001b[39m\u001b[39mvalue of a is\u001b[39m\u001b[39m\"\u001b[39m,a)\n",
      "\u001b[1;31mZeroDivisionError\u001b[0m: division by zero"
     ]
    }
   ],
   "source": [
    "a=10/0 #error is occur so next instruction not execute\n",
    "print(\"value of a is\",a)"
   ]
  },
  {
   "cell_type": "code",
   "execution_count": 4,
   "metadata": {},
   "outputs": [
    {
     "name": "stdout",
     "output_type": "stream",
     "text": [
      "[Errno 2] No such file or directory: 'form.txt'\n",
      "last line of rpogram\n"
     ]
    }
   ],
   "source": [
    "# Q3. Which Python statements are used to catch and handle exceptions? Explain with an example.\n",
    "\n",
    "# Statements that can raise exceptions are kept inside the try clause and the statements that \n",
    "# handle the exception are written inside except clause.\n",
    "\n",
    "try:\n",
    "    with open(\"form.txt\",\"r\") as f:\n",
    "        f.read()\n",
    "except FileNotFoundError as e:\n",
    "    print(e)\n",
    "print('last line of rpogram')\n"
   ]
  },
  {
   "cell_type": "code",
   "execution_count": 13,
   "metadata": {},
   "outputs": [
    {
     "name": "stdout",
     "output_type": "stream",
     "text": [
      "tyhjbkml;'.\n",
      "\n"
     ]
    }
   ],
   "source": [
    "# Q4. Explain with an example:\n",
    "# a. try and else\n",
    "# ==>in try block write code which raise exception and else block execute if try block execute completely.\n",
    "#  if try block raise exception then else block not execute.\n",
    "\n",
    "try:\n",
    "    with open(\"form.txt\",\"r\") as f:\n",
    "        print(f.readline())\n",
    "except FileNotFoundError as e:\n",
    "    print(e)\n",
    "else:\n",
    "    f.close()\n",
    "\n"
   ]
  },
  {
   "cell_type": "code",
   "execution_count": 17,
   "metadata": {},
   "outputs": [
    {
     "name": "stdout",
     "output_type": "stream",
     "text": [
      "division by zero\n",
      "finally block\n"
     ]
    }
   ],
   "source": [
    "# b. finally:\n",
    "# code of finally block always execute if error or not\n",
    "\n",
    "try:\n",
    "    10/0\n",
    "except Exception as e:\n",
    "    print(e)\n",
    "finally:\n",
    "    print('finally block')"
   ]
  },
  {
   "cell_type": "code",
   "execution_count": 23,
   "metadata": {},
   "outputs": [
    {
     "name": "stdout",
     "output_type": "stream",
     "text": [
      "\n",
      "hello\n"
     ]
    }
   ],
   "source": [
    "# c. raise\n",
    "# raise keyword use for raise exception or error.\n",
    "\n",
    "try:\n",
    "    raise FileNotFoundError\n",
    "except FileNotFoundError as e:\n",
    "    print(e)\n",
    "    print('hello')"
   ]
  },
  {
   "cell_type": "code",
   "execution_count": 31,
   "metadata": {},
   "outputs": [
    {
     "name": "stdout",
     "output_type": "stream",
     "text": [
      "password too small\n"
     ]
    }
   ],
   "source": [
    "# Q5. What are Custom Exceptions in python? Why do we need Custom Exceptions? Explain with an example.\n",
    "\n",
    "# Custom or User-defined Exceptions are designed as per the requirement of the program.\n",
    "# Using custom Exception we can have our own Exception and a meaningful message explaining the causeof the \n",
    "# exception. We can create an exception by extending the Exception or RuntimeException class in our own\n",
    "#  Exception class.\n",
    "\n",
    "class password_validation(Exception):\n",
    "    def __init__(self,msg):\n",
    "        self.msg=msg\n",
    "def pwd_validation(pwd):\n",
    "    if len(pwd)<8:\n",
    "        raise password_validation('password too small')\n",
    "    elif len(pwd)>16:\n",
    "        raise password_validation('password too long')\n",
    "    else:\n",
    "        print('home page')\n",
    "\n",
    "try:\n",
    "    pwd=input('enter new password')\n",
    "    pwd_validation(pwd)\n",
    "except password_validation as e:\n",
    "    print(e)\n",
    "\n",
    "#if password is less than 8 and greater than 16 then pwd_validation raise error and its handle by \n",
    "# password_validation class."
   ]
  },
  {
   "cell_type": "code",
   "execution_count": 37,
   "metadata": {},
   "outputs": [
    {
     "name": "stdout",
     "output_type": "stream",
     "text": [
      "error: less than target\n"
     ]
    }
   ],
   "source": [
    "\n",
    "# Q6. Create a custom exception class. Use this class to handle an exception.\n",
    "\n",
    "class IncomeError(Exception):\n",
    "    def __init__(self,msg):\n",
    "        self.msg=msg\n",
    "\n",
    "try:\n",
    "    income=817000\n",
    "    if income<900000:\n",
    "        raise IncomeError('less than target')\n",
    "except IncomeError as e:\n",
    "    print('error:',e)\n"
   ]
  }
 ],
 "metadata": {
  "kernelspec": {
   "display_name": "Python 3",
   "language": "python",
   "name": "python3"
  },
  "language_info": {
   "codemirror_mode": {
    "name": "ipython",
    "version": 3
   },
   "file_extension": ".py",
   "mimetype": "text/x-python",
   "name": "python",
   "nbconvert_exporter": "python",
   "pygments_lexer": "ipython3",
   "version": "3.11.4"
  },
  "orig_nbformat": 4
 },
 "nbformat": 4,
 "nbformat_minor": 2
}
