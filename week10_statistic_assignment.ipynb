{
 "cells": [
  {
   "cell_type": "markdown",
   "metadata": {},
   "source": [
    "## Q1. What is Statistics?\n",
    "\n",
    "statistics is science of collecting, organizing and analyzing data. \n",
    "\n",
    "**Collection:** Gathering data from various sources through surveys, experiments, or observations.\n",
    "\n",
    "**Organizing:** Make data in proper foemate so we can easily analyze them.\n",
    "\n",
    "**Analysis:** Using mathematical and statistical methods to process and summarize the collected data. This may involve calculating measures like mean, median, mode, variance, and standard deviation, among others.\n",
    "\n",
    "**data:** fact or piece information \n"
   ]
  },
  {
   "cell_type": "markdown",
   "metadata": {},
   "source": [
    "## Q2. Define the different types of statistics and give an example of when each type might be used.\n",
    "\n",
    "there two type of statistics: i)Descriptive statistics   ii)inferetial statistics\n",
    "\n",
    "**i) Descriptive statistics:**\n",
    "\n",
    "Descriptive statistics involve the presentation and summary of data in a clear and understandable way. It aims to describe and summarize the main features of a dataset, such as central tendency, variability, and the shape of the distribution.\n",
    "\n",
    "Example: Suppose a company wants to understand the average age of its employees. They can collect data on the age of each employee and use descriptive statistics to calculate the mean age, which represents the central tendency of the dataset. Additionally, they can find the standard deviation, which measures the spread or variability in ages, giving them an idea of how spread out the ages are.\n",
    "\n",
    "\n",
    "**ii)inferetial statistics:**\n",
    "\n",
    "Inferential statistics involves drawing conclusions or making predictions about a population based on a sample of data. It uses probability theory and sampling techniques to make inferences about the larger group from which the sample was taken.\n",
    "\n",
    "Example: A political pollster wants to estimate the percentage of voters in a city who support a particular candidate. Instead of surveying the entire population (which might be too large), the pollster takes a random sample of voters and asks them about their preferences. By using inferential statistics, they can estimate the proportion of the entire city's population that supports the candidate, along with a margin of error.\n",
    "\n"
   ]
  },
  {
   "cell_type": "markdown",
   "metadata": {},
   "source": [
    "## Q3. What are the different types of data and how do they differ from each other? Provide an example of each type of data.\n",
    "\n",
    "There are two types of data: i)Quantitative  ii)Qualitative\n",
    "\n",
    "**i)Quantitative:**\n",
    "\n",
    "Its have numeric data.we can perform dividion,mutiplication, addition etc.\n",
    "\n",
    "there two types of Quantitative:\n",
    "\n",
    "**a) Discrete:**\n",
    "\n",
    "Discrete data like whole number. Number of unique data  is finite.\n",
    "\n",
    "Example: No of bank account, Number of students in class.\n",
    "\n",
    "**b) Continuous:**\n",
    "\n",
    "Continuous data like any value between range. Number of data is infinite.\n",
    "\n",
    "Example: Height of every student in college, speed of car, Temperature evaluation.\n",
    "\n",
    "**ii)Qualitative:**\n",
    "\n",
    "Qualitative data is like Categorical mean we can divide data in category like good ,better and bad.\n",
    "\n",
    "\n",
    "There are two types of Qualitative data:\n",
    "\n",
    "**a) Nominal Data:**\n",
    "\n",
    "Nominal data is the simplest form of data and represents categories or groups with no inherent order or ranking. The data points are labeled with names or categories.\n",
    "\n",
    "Example: Colors of cars in a parking lot (e.g., red, blue, green). Each car falls into a specific category without any inherent order or ranking.\n",
    "\n",
    "**b) Ordinal Data:**\n",
    "\n",
    "Ordinal data represents categories with a natural order or ranking but does not have consistent intervals between categories. The relative order of the data points is meaningful, but the differences between the values are not precisely quantifiable.\n",
    "\n",
    "Example: Educational attainment levels, such as \"elementary,\" \"high school,\" \"college,\" and \"graduate.\" While we can determine the order of education levels, we cannot precisely quantify the difference in education between high school and college."
   ]
  },
  {
   "cell_type": "markdown",
   "metadata": {},
   "source": [
    "## Q4. Categorise the following datasets with respect to quantitative and qualitative data types:\n",
    "\n",
    "(i) Grading in exam: A+, A, B+, B, C+, C, D, E  ==> Ordinal Qualitative.\n",
    "\n",
    "(ii) Colour of mangoes: yellow, green, orange, red ==> Nominal Qualitative.\n",
    "\n",
    "(iii) Height data of a class: [178.9, 179, 179.5, 176, 177.2, 178.3, 175.8,...] ==> Continuous Quantitative.\n",
    "\n",
    "(iv) Number of mangoes exported by a farm: [500, 600, 478, 672, ...] ==> Discrete Quantitative."
   ]
  },
  {
   "cell_type": "markdown",
   "metadata": {},
   "source": [
    "## Q5. Explain the concept of levels of measurement and give an example of a variable for each level.\n",
    "\n",
    "there are four level of measurement.\n",
    "\n",
    "**i) nominal scale data:**\n",
    "\n",
    "nominal scale data is Qualitative or Categorical. oder and rank are not matte for data.\n",
    "\n",
    "Example: Gender, Color, Label.\n",
    "\n",
    "**ii) Ordinal scale data:**\n",
    "\n",
    "Ordinal scale data can be ranked or give order to data but differnced can not measured between data.\n",
    "\n",
    "Example: Grade of exam result. in this, we can assign rank like A+ is better than A but we can not say how much better or can not find differnce between them.\n",
    "\n",
    "**iii) Interval scale data:**\n",
    "\n",
    "Interval scale data can be ranked and assign order also differrnce and ratio can be measured.\n",
    "it has starting and ending value. No True '0' starting point.\n",
    "\n",
    "Example: Time measured in hours, minutes, or seconds is also an example of interval scale data. The difference between 10 minutes and 15 minutes is the same as the difference between 2 hours and 2 hours 5 minutes.\n",
    "\n",
    "**iv) Ratio scale data:**\n",
    " \n",
    "Ratio scale data can be ranked, order, differnce and ratio can be measured. it consists of '0' sarting data.\n",
    "\n",
    "Example: Weight measured in kilograms or pounds is a ratio scale. A weight of zero (0 kg or 0 lbs) represents the complete absence of weight."
   ]
  },
  {
   "cell_type": "markdown",
   "metadata": {},
   "source": [
    "## Q6. Why is it important to understand the level of measurement when analyzing data? Provide an example to illustrate your answer.\n",
    "\n",
    "Understanding the level of measurement is crucial when analyzing data because it determines the appropriate statistical analysis and operations that can be applied. Different levels of measurement have distinct properties and constraints on mathematical operations. Treating data at the wrong level can lead to inaccurate conclusions.\n",
    "\n",
    "Example: Suppose we have a dataset with \"education level\" and \"income\" columns. Treating education level as numerical data (ratio scale) and calculating the average education level would be meaningless since education levels are categorical (ordinal data). This mistake could lead to erroneous insights about the dataset."
   ]
  },
  {
   "cell_type": "markdown",
   "metadata": {},
   "source": [
    "## Q7. How nominal data type is different from ordinal data type.\n",
    "\n",
    "In nominal data we can not assign rank to data. ex, fruite, vegetable, drinks.\n",
    "\n",
    "but in ordinal data we can assign rank to data. ex, good,bad. here, good is better than bad.\n"
   ]
  },
  {
   "cell_type": "markdown",
   "metadata": {},
   "source": [
    "## Q8. Which type of plot can be used to display data in terms of range?\n",
    "\n",
    "Histogram. If the groups depicted in a bar chart are actually continuous numeric ranges, we can push the bars together to generate a histogram. Bar lengths in histograms typically correspond to counts of data points, and their patterns demonstrate the distribution of variables in your data."
   ]
  },
  {
   "cell_type": "markdown",
   "metadata": {},
   "source": [
    "## Q9. Describe the difference between descriptive and inferential statistics. Give an example of each\n",
    "type of statistics and explain how they are used.\n",
    "\n",
    "descriptive data can not categorise like hieght of student but inferential data can be categorise like grades.\n",
    "\n",
    "\n",
    "Descriptive Statistics Example:\n",
    "Example: A company collects data on the number of hours its employees worked in a week. The dataset includes the hours worked by each employee.\n",
    "\n",
    "Use: Descriptive statistics will be used to calculate the average (mean) number of hours worked by employees, providing an overview of the typical workload. The standard deviation can also be computed to understand the variation in hours worked among employees, giving insights into workforce scheduling and productivity.\n",
    "\n",
    "Inferential Statistics Example:\n",
    "Example: A car manufacturer wants to assess the fuel efficiency of a new model before producing it on a large scale. They test the fuel consumption of a random sample of cars from the model.\n",
    "\n",
    "Use: Inferential statistics will be used to estimate the average fuel efficiency of the entire production line based on the sample data. By calculating a confidence interval for the sample mean fuel efficiency, the manufacturer can infer a likely range for the population's average efficiency. This information aids in decision-making for production planning and marketing strategies.\n",
    "\n",
    "Both types of statistics, descriptive and inferential, are essential tools in data analysis and decision-making, enabling researchers and analysts to understand the data at hand and draw meaningful insights about broader populations or scenarios.\n",
    "\n",
    "\n",
    "\n",
    "\n",
    "\n"
   ]
  },
  {
   "cell_type": "markdown",
   "metadata": {},
   "source": [
    "## Q10. What are some common measures of central tendency and variability used in statistics? Explain how each measure can be used to describe a dataset.\n",
    "\n",
    "Mean, median and mode are some common measures of central tendency  used in statistics.\n",
    "\n",
    "**Mean:** \n",
    "\n",
    "The mean is the sum of all values divided by the total number of values. It represents the \"average\" value of the dataset. The mean is sensitive to extreme values (outliers) and can be used to describe the typical value of the data.\n",
    "\n",
    "**Median:** \n",
    "\n",
    "The median is the middle value of a dataset when it is arranged in ascending or descending order. It is not affected by extreme values and provides a robust measure of central tendency. The median is used to describe the typical \"middle\" value in a dataset.\n",
    "\n",
    "**Mode:** \n",
    "\n",
    "The mode is the value that appears most frequently in the dataset. It is used to identify the most common value or category in the data.\n",
    "\n",
    "variance and Standard Deviation are some common measures of variability used in statistics.\n",
    "\n",
    "**Variance:** \n",
    "\n",
    "Variance measures the average squared deviation from the mean. It quantifies the spread or dispersion of data points from the mean.\n",
    "\n",
    "**Standard Deviation:** \n",
    "\n",
    "The standard deviation is the square root of the variance. It provides a measure of how much individual data points deviate from the mean. A higher standard deviation indicates greater variability in the dataset."
   ]
  },
  {
   "cell_type": "markdown",
   "metadata": {},
   "source": []
  }
 ],
 "metadata": {
  "kernelspec": {
   "display_name": "Python 3",
   "language": "python",
   "name": "python3"
  },
  "language_info": {
   "codemirror_mode": {
    "name": "ipython",
    "version": 3
   },
   "file_extension": ".py",
   "mimetype": "text/x-python",
   "name": "python",
   "nbconvert_exporter": "python",
   "pygments_lexer": "ipython3",
   "version": "3.11.4"
  },
  "orig_nbformat": 4
 },
 "nbformat": 4,
 "nbformat_minor": 2
}
