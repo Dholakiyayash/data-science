{
 "cells": [
  {
   "cell_type": "markdown",
   "metadata": {},
   "source": [
    "## Q1. What are the three measures of central tendency?\n",
    "\n",
    "mean, median and mode are three measure of central tendency."
   ]
  },
  {
   "cell_type": "markdown",
   "metadata": {},
   "source": [
    "## Q2. What is the difference between the mean, median, and mode? How are they used to measure the central tendency of a dataset?\n",
    "\n",
    "**difference:**\n",
    "\n",
    "Mean: The arithmetic average of all values in a dataset. It is sensitive to outliers.\n",
    "\n",
    "Median: The middle value when the data is arranged in ascending or descending order. It is robust to outliers.\n",
    "\n",
    "Mode: The value that appears most frequently in the dataset. It is not affected by outliers.\n",
    "\n",
    "**Mean:** \n",
    "\n",
    "The mean is the sum of all values divided by the total number of values. It represents the \"average\" value of the dataset. The mean is sensitive to extreme values (outliers) and can be used to describe the typical value of the data.\n",
    "\n",
    "**Median:** \n",
    "\n",
    "The median is the middle value of a dataset when it is arranged in ascending or descending order. It is not affected by extreme values and provides a robust measure of central tendency. The median is used to describe the typical \"middle\" value in a dataset.\n",
    "\n",
    "**Mode:** \n",
    "\n",
    "The mode is the value that appears most frequently in the dataset. It is used to identify the most common value or category in the data."
   ]
  },
  {
   "cell_type": "code",
   "execution_count": 5,
   "metadata": {},
   "outputs": [
    {
     "name": "stdout",
     "output_type": "stream",
     "text": [
      "mean: 177.01875\n",
      "median: 177.0\n",
      "mode: 178\n"
     ]
    }
   ],
   "source": [
    "## Q3. Measure the three measures of central tendency for the given height data:\n",
    "\n",
    "data=[178,177,176,177,178.2,178,175,179,180,175,178.9,176.2,177,172.5,178,176.5]\n",
    "\n",
    "import numpy as np\n",
    "import statistics as stats\n",
    "\n",
    "print(\"mean:\",np.mean(data))\n",
    "print(\"median:\",np.median(data))\n",
    "print(\"mode:\",stats.mode(data))"
   ]
  },
  {
   "cell_type": "code",
   "execution_count": 6,
   "metadata": {},
   "outputs": [
    {
     "data": {
      "text/plain": [
       "1.7885814036548633"
      ]
     },
     "execution_count": 6,
     "metadata": {},
     "output_type": "execute_result"
    }
   ],
   "source": [
    "## Q4. Find the standard deviation for the given data:\n",
    "data=[178,177,176,177,178.2,178,175,179,180,175,178.9,176.2,177,172.5,178,176.5]\n",
    "\n",
    "np.std(data)"
   ]
  },
  {
   "cell_type": "markdown",
   "metadata": {},
   "source": [
    "## Q5. How are measures of dispersion such as range, variance, and standard deviation used to describe the spread of a dataset? Provide an example.\n",
    "\n",
    "**Range:**\n",
    "\n",
    "Definition: The range is the difference between the maximum and minimum values in the dataset.\n",
    "\n",
    "Use: It gives an idea of the spread of data from the lowest to the highest value. A larger range indicates a wider spread, while a smaller range suggests a more concentrated distribution.\n",
    "\n",
    "Example: Consider a dataset of test scores for a class: [70, 75, 80, 85, 90]. The range is 90 - 70 = 20, indicating that the spread of scores is 20 points.\n",
    "\n",
    "**Variance:**\n",
    "\n",
    "Definition: Variance measures the average squared deviation from the mean.\n",
    "\n",
    "Use: It quantifies the spread or dispersion of data points from the mean. A higher variance indicates greater variability, while a lower variance suggests less variability.\n",
    "\n",
    "Example: Suppose we have a dataset of exam scores: [80, 85, 90, 95]. The mean is (80 + 85 + 90 + 95) / 4 = 87.5. The variance is calculated as the average of squared deviations from the mean: ((80-87.5)^2 + (85-87.5)^2 + (90-87.5)^2 + (95-87.5)^2) / 4 = 25.625.\n",
    "\n",
    "**Standard Deviation:**\n",
    "\n",
    "Definition: The standard deviation is the square root of the variance.\n",
    "\n",
    "Use: It provides a measure of how much individual data points deviate from the mean. A higher standard deviation indicates a wider spread of data points, while a lower standard deviation suggests data points are closer to the mean.\n",
    "\n",
    "Example: Continuing from the previous example, the standard deviation is the square root of the variance: sqrt(25.625) ≈ 5.06."
   ]
  },
  {
   "cell_type": "markdown",
   "metadata": {},
   "source": [
    "## Q6. What is a Venn diagram?\n",
    "\n",
    "\n",
    "A Venn diagram is a graphical representation used to show the relationships between different sets or groups. It consists of overlapping circles or ellipses, each representing a set, and the overlapping regions represent the elements shared by the sets."
   ]
  },
  {
   "cell_type": "markdown",
   "metadata": {},
   "source": [
    "## Q7. For the two given sets A = (2,3,4,5,6,7) & B = (0,2,6,8,10). Find:\n",
    " (i) A ∩ B=\n",
    "{2,6}\n",
    "\n",
    " (ii) A ⋃ B=\n",
    "{0,2,3,4,5,7,8,10}\n"
   ]
  },
  {
   "cell_type": "markdown",
   "metadata": {},
   "source": [
    "## Q8. What do you understand about skewness in data?\n",
    "\n",
    "Skewness is an important concept in statistics because it provides valuable insights into the shape and characteristics of the data distribution. It affects the interpretation of the data and the choice of appropriate statistical methods for analysis. For example, in the presence of skewness, the mean may not be the best measure of central tendency, and median might be a more robust choice. Understanding skewness helps analysts make informed decisions about data transformations and adjustments for accurate modeling and inference.\n",
    "\n",
    "There are three main types of skewness:\n",
    "\n",
    "Positive Skewness (Right Skewness): In a positively skewed distribution, the tail of the distribution extends more to the right, and the majority of the data points are clustered on the left side of the mean. The mean is usually greater than the median in positively skewed data.\n",
    "\n",
    "Negative Skewness (Left Skewness): In a negatively skewed distribution, the tail of the distribution extends more to the left, and the majority of the data points are clustered on the right side of the mean. The mean is usually less than the median in negatively skewed data.\n",
    "\n",
    "Zero Skewness: A distribution is considered to have zero skewness when it is perfectly symmetrical, and the mean, median, and mode are all equal."
   ]
  },
  {
   "cell_type": "markdown",
   "metadata": {},
   "source": [
    "## Q9. If a data is right skewed then what will be the position of median with respect to mean?\n",
    "\n",
    "If a data set is right-skewed, the position of the median with respect to the mean will be to the left of the mean."
   ]
  },
  {
   "cell_type": "markdown",
   "metadata": {},
   "source": [
    "## Q10. Explain the difference between covariance and correlation. How are these measures used in statistical analysis?\n",
    "\n",
    "covariance and correlation are used to understand the relationship between variables and to make predictions. However, correlation is preferred over covariance when comparing datasets with different scales, as correlation's standardized scale makes it easier to interpret and compare across different contexts. Correlation is widely used in fields such as finance, economics, social sciences, and data analysis to identify and quantify relationships between variables and to assess the strength of those relationships.\n",
    "\n",
    "Covariance is used to understand the direction of the relationship between two variables. However, it does not provide information about the strength of the relationship or how well the variables are related.\n",
    "\n",
    "Correlation is commonly used to assess the strength and direction of the linear relationship between two variables. It provides a standardized measure that allows for comparison across different datasets. High positive (near +1) or high negative (near -1) correlations indicate strong linear relationships, while correlations close to zero indicate weak or no linear relationship.\n"
   ]
  },
  {
   "cell_type": "markdown",
   "metadata": {},
   "source": [
    "## Q11. What is the formula for calculating the sample mean? Provide an example calculation for a dataset.\n",
    "\n",
    "sample mean = (sum of all element)/(no of element)\n",
    "\n",
    "data set={5,6,7,8,9}\n",
    "\n",
    "sample mean=(sum of all element)/(no of element)\n",
    "           =(5+6+7+8+9)/5\n",
    "           =35/5\n",
    "           =7"
   ]
  },
  {
   "cell_type": "markdown",
   "metadata": {},
   "source": [
    "## Q12. For a normal distribution data what is the relationship between its measure of central tendency?\n",
    "\n",
    "if data is symmetric distribution then mean=median=mode.\n",
    "\n",
    "if data is right skewed then mean >= median >= mode.\n",
    "\n",
    "if data is left skewed then mean <= median <= mode."
   ]
  },
  {
   "cell_type": "markdown",
   "metadata": {},
   "source": [
    "## Q13. How is covariance different from correlation?\n",
    "\n",
    "**Scale:**\n",
    "\n",
    "Covariance: Covariance values are not standardized and can range from negative infinity to positive infinity.\n",
    "\n",
    "Correlation: Correlation values are standardized and range from -1 to +1.\n",
    "\n",
    "**Interpretation:**\n",
    "\n",
    "Covariance: Covariance indicates the direction of the relationship between two variables (positive or negative), but it does not provide a clear measure of the strength of the relationship.\n",
    "\n",
    "Correlation: Correlation provides a standardized measure of both the direction and the strength of the linear relationship between two variables.\n",
    "\n",
    "**Units:**\n",
    "\n",
    "Covariance: Covariance values are in the units of the products of the two variables (e.g., square units if both variables are in square units).\n",
    "\n",
    "Correlation: Correlation values are unitless, as they are standardized by dividing the covariance by the product of the standard deviations of the two variables.\n",
    "\n",
    "**Comparability:**\n",
    "\n",
    "Covariance: Covariance values are not easily comparable across different datasets due to their scale.\n",
    "\n",
    "Correlation: Correlation values are easily comparable across different datasets, as they are standardized to a common scale (-1 to +1).\n",
    "\n",
    "covariance provides information about the direction of the relationship between two variables but lacks a standardized scale for easy comparison. Correlation, on the other hand, not only provides information about the direction but also quantifies the strength of the linear relationship in a standardized manner, making it more interpretable and comparable across different datasets.\n"
   ]
  },
  {
   "cell_type": "markdown",
   "metadata": {},
   "source": [
    "## Q14. How do outliers affect measures of central tendency and dispersion? Provide an example.\n",
    "\n",
    "outliers are affect value mean. mean value more to word to outlier.\n",
    "\n",
    "dataset={1,2,3,4,5}\n",
    "\n",
    "mean = (sum of element)/(no of element)=(1+2+3+4+5)/5=15/5=3\n",
    "\n",
    "if we add outlier 100 in data set={1,2,3,4,5,100} then\n",
    "\n",
    "mean = (sum of element)/(no of element)=(1+2+3+4+5+100)/6=115/6=19.16667\n",
    "\n",
    "by add 100 outlier mean value increase by 16.16667.\n",
    "\n"
   ]
  },
  {
   "cell_type": "markdown",
   "metadata": {},
   "source": []
  }
 ],
 "metadata": {
  "kernelspec": {
   "display_name": "Python 3",
   "language": "python",
   "name": "python3"
  },
  "language_info": {
   "codemirror_mode": {
    "name": "ipython",
    "version": 3
   },
   "file_extension": ".py",
   "mimetype": "text/x-python",
   "name": "python",
   "nbconvert_exporter": "python",
   "pygments_lexer": "ipython3",
   "version": "3.11.4"
  },
  "orig_nbformat": 4
 },
 "nbformat": 4,
 "nbformat_minor": 2
}
