{
 "cells": [
  {
   "cell_type": "code",
   "execution_count": 1,
   "metadata": {},
   "outputs": [
    {
     "name": "stdout",
     "output_type": "stream",
     "text": [
      "F-value: 1.72\n",
      "p-value: 0.3061075208630164\n"
     ]
    }
   ],
   "source": [
    "# Q1. Write a Python function that takes in two arrays of data and calculates the F-value for a variance\n",
    "# ratio test. The function should return the F-value and the corresponding p-value for the test.\n",
    "\n",
    "import numpy as np\n",
    "import scipy.stats as stats\n",
    "\n",
    "def variance_ratio_test(data1, data2):\n",
    "    var1 = np.var(data1, ddof=1)\n",
    "    var2 = np.var(data2, ddof=1)\n",
    "    \n",
    "    f_value = var1 / var2\n",
    "\n",
    "    df1 = len(data1) - 1\n",
    "    df2 = len(data2) - 1\n",
    "    \n",
    "    p_value = 1 - stats.f.cdf(f_value, df1, df2)\n",
    "    \n",
    "    return f_value, p_value\n",
    "\n",
    "data1 = [10, 12, 15, 14, 11]\n",
    "data2 = [8, 9, 10, 11, 12]\n",
    "f_value, p_value = variance_ratio_test(data1, data2)\n",
    "print(\"F-value:\", f_value)\n",
    "print(\"p-value:\", p_value)\n"
   ]
  },
  {
   "cell_type": "code",
   "execution_count": 2,
   "metadata": {},
   "outputs": [
    {
     "name": "stdout",
     "output_type": "stream",
     "text": [
      "Critical F-value: 3.858698666273216\n"
     ]
    }
   ],
   "source": [
    "# Q2. Given a significance level of 0.05 and the degrees of freedom for the numerator and denominator of\n",
    "# F-distribution, write a Python function that returns the critical F-value for a two-tailed test.\n",
    "\n",
    "import scipy.stats as stats\n",
    "\n",
    "def critical_f_value(significance_level, df_num, df_den):\n",
    "    alpha = significance_level / 2  \n",
    "    critical_f = stats.f.ppf(1 - alpha, df_num, df_den)\n",
    "    \n",
    "    return critical_f\n",
    "\n",
    "significance_level = 0.05\n",
    "df_num = 3 \n",
    "df_den = 20\n",
    "critical_f = critical_f_value(significance_level, df_num, df_den)\n",
    "print(\"Critical F-value:\", critical_f)\n",
    "\n"
   ]
  },
  {
   "cell_type": "code",
   "execution_count": 3,
   "metadata": {},
   "outputs": [
    {
     "name": "stdout",
     "output_type": "stream",
     "text": [
      "F-value: 0.5255560563745094\n",
      "Degrees of freedom (numerator): 29\n",
      "Degrees of freedom (denominator): 29\n",
      "p-value: 0.9557089511933672\n",
      "Fail to reject the null hypothesis: Variances are equal.\n"
     ]
    }
   ],
   "source": [
    "# Q3. Write a Python program that generates random samples from two normal distributions with known\n",
    "# variances and uses an F-test to determine if the variances are equal. The program should output the F-\n",
    "# value, degrees of freedom, and p-value for the test.\n",
    "\n",
    "import numpy as np\n",
    "import scipy.stats as stats\n",
    "\n",
    "np.random.seed(42)\n",
    "\n",
    "sample_size1 = 30\n",
    "sample_size2 = 30\n",
    "variance1 = 9  \n",
    "variance2 = 16  \n",
    "significance_level = 0.05\n",
    "\n",
    "sample1 = np.random.normal(loc=0, scale=np.sqrt(variance1), size=sample_size1)\n",
    "sample2 = np.random.normal(loc=0, scale=np.sqrt(variance2), size=sample_size2)\n",
    "\n",
    "f_statistic = np.var(sample1, ddof=1) / np.var(sample2, ddof=1)\n",
    "df1 = sample_size1 - 1\n",
    "df2 = sample_size2 - 1\n",
    "p_value = 1 - stats.f.cdf(f_statistic, df1, df2)\n",
    "\n",
    "print(\"F-value:\", f_statistic)\n",
    "print(\"Degrees of freedom (numerator):\", df1)\n",
    "print(\"Degrees of freedom (denominator):\", df2)\n",
    "print(\"p-value:\", p_value)\n",
    "\n",
    "if p_value < significance_level:\n",
    "    print(\"Reject the null hypothesis: Variances are not equal.\")\n",
    "else:\n",
    "    print(\"Fail to reject the null hypothesis: Variances are equal.\")\n"
   ]
  },
  {
   "cell_type": "code",
   "execution_count": 4,
   "metadata": {},
   "outputs": [
    {
     "name": "stdout",
     "output_type": "stream",
     "text": [
      "F-value: 0.6666666666666666\n",
      "Degrees of freedom (numerator): 11\n",
      "Degrees of freedom (denominator): 11\n",
      "p-value: 0.7438051006321\n",
      "Fail to reject the null hypothesis: Variances are not significantly different.\n"
     ]
    }
   ],
   "source": [
    "# Q4.The variances of two populations are known to be 10 and 15. A sample of 12 observations is taken from\n",
    "# each population. Conduct an F-test at the 5% significance level to determine if the variances are\n",
    "# significantly different.\n",
    "\n",
    "import scipy.stats as stats\n",
    "\n",
    "known_variance1 = 10\n",
    "known_variance2 = 15\n",
    "sample_size = 12\n",
    "significance_level = 0.05\n",
    "\n",
    "f_statistic = known_variance1 / known_variance2\n",
    "\n",
    "df1 = sample_size - 1\n",
    "df2 = sample_size - 1\n",
    "\n",
    "p_value = 1 - stats.f.cdf(f_statistic, df1, df2)\n",
    "\n",
    "print(\"F-value:\", f_statistic)\n",
    "print(\"Degrees of freedom (numerator):\", df1)\n",
    "print(\"Degrees of freedom (denominator):\", df2)\n",
    "print(\"p-value:\", p_value)\n",
    "\n",
    "if p_value < significance_level:\n",
    "    print(\"Reject the null hypothesis: Variances are significantly different.\")\n",
    "else:\n",
    "    print(\"Fail to reject the null hypothesis: Variances are not significantly different.\")\n"
   ]
  },
  {
   "cell_type": "code",
   "execution_count": 5,
   "metadata": {},
   "outputs": [
    {
     "name": "stdout",
     "output_type": "stream",
     "text": [
      "F-value: 1.2\n",
      "Degrees of freedom (numerator): 24\n",
      "Degrees of freedom (denominator): 24\n",
      "p-value: 0.3293654682817244\n",
      "Fail to reject the null hypothesis: The claim about variance is justified.\n"
     ]
    }
   ],
   "source": [
    "# Q5. A manufacturer claims that the variance of the diameter of a certain product is 0.005. A sample of 25\n",
    "# products is taken, and the sample variance is found to be 0.006. Conduct an F-test at the 1% significance\n",
    "# level to determine if the claim is justified.\n",
    "\n",
    "import scipy.stats as stats\n",
    "\n",
    "claimed_variance = 0.005\n",
    "sample_variance = 0.006\n",
    "sample_size = 25\n",
    "significance_level = 0.01\n",
    "\n",
    "f_statistic = sample_variance / claimed_variance\n",
    "\n",
    "df1 = sample_size - 1\n",
    "df2 = sample_size - 1\n",
    "\n",
    "p_value = 1 - stats.f.cdf(f_statistic, df1, df2)\n",
    "\n",
    "print(\"F-value:\", f_statistic)\n",
    "print(\"Degrees of freedom (numerator):\", df1)\n",
    "print(\"Degrees of freedom (denominator):\", df2)\n",
    "print(\"p-value:\", p_value)\n",
    "\n",
    "if p_value < significance_level:\n",
    "    print(\"Reject the null hypothesis: The claim about variance is not justified.\")\n",
    "else:\n",
    "    print(\"Fail to reject the null hypothesis: The claim about variance is justified.\")\n"
   ]
  },
  {
   "cell_type": "code",
   "execution_count": 6,
   "metadata": {},
   "outputs": [
    {
     "name": "stdout",
     "output_type": "stream",
     "text": [
      "Mean: 1.25\n",
      "Variance: 1.3541666666666667\n"
     ]
    }
   ],
   "source": [
    "# Q6. Write a Python function that takes in the degrees of freedom for the numerator and denominator of an\n",
    "# F-distribution and calculates the mean and variance of the distribution. The function should return the \n",
    "# mean and variance as a tuple.\n",
    "\n",
    "def f_distribution_mean_variance(df_num, df_den):\n",
    "    if df_num <= 2 and df_den <= 2:\n",
    "        raise ValueError(\"Degrees of freedom must be greater than 2.\")\n",
    "    \n",
    "    if df_den <= 4:\n",
    "        variance = float(\"inf\")\n",
    "    else:\n",
    "        variance = (2 * df_den ** 2 * (df_num + df_den - 2)) / (df_num * (df_den - 2) ** 2 * (df_den - 4))\n",
    "    \n",
    "    mean = df_den / (df_den - 2)\n",
    "    \n",
    "    return mean, variance\n",
    "\n",
    "df_num = 5\n",
    "df_den = 10\n",
    "mean, variance = f_distribution_mean_variance(df_num, df_den)\n",
    "print(\"Mean:\", mean)\n",
    "print(\"Variance:\", variance)\n"
   ]
  },
  {
   "cell_type": "code",
   "execution_count": 7,
   "metadata": {},
   "outputs": [
    {
     "name": "stdout",
     "output_type": "stream",
     "text": [
      "F-value: 1.25\n",
      "Degrees of freedom (numerator): 9\n",
      "Degrees of freedom (denominator): 14\n",
      "p-value: 0.3416097191292976\n",
      "Fail to reject the null hypothesis: The variances are not significantly different.\n"
     ]
    }
   ],
   "source": [
    "# Q7. A random sample of 10 measurements is taken from a normal population with unknown variance. The\n",
    "# sample variance is found to be 25. Another random sample of 15 measurements is taken from another\n",
    "# normal population with unknown variance, and the sample variance is found to be 20. Conduct an F-test\n",
    "# at the 10% significance level to determine if the variances are significantly different.\n",
    "\n",
    "import scipy.stats as stats\n",
    "\n",
    "# Given data\n",
    "sample_variance1 = 25\n",
    "sample_variance2 = 20\n",
    "sample_size1 = 10\n",
    "sample_size2 = 15\n",
    "significance_level = 0.10\n",
    "\n",
    "f_statistic = sample_variance1 / sample_variance2\n",
    "\n",
    "df1 = sample_size1 - 1\n",
    "df2 = sample_size2 - 1\n",
    "\n",
    "p_value = 1 - stats.f.cdf(f_statistic, df1, df2)\n",
    "\n",
    "print(\"F-value:\", f_statistic)\n",
    "print(\"Degrees of freedom (numerator):\", df1)\n",
    "print(\"Degrees of freedom (denominator):\", df2)\n",
    "print(\"p-value:\", p_value)\n",
    "\n",
    "if p_value < significance_level:\n",
    "    print(\"Reject the null hypothesis: The variances are significantly different.\")\n",
    "else:\n",
    "    print(\"Fail to reject the null hypothesis: The variances are not significantly different.\")\n",
    "\n"
   ]
  },
  {
   "cell_type": "code",
   "execution_count": 8,
   "metadata": {},
   "outputs": [
    {
     "name": "stdout",
     "output_type": "stream",
     "text": [
      "F-value: 1.4551907719609583\n",
      "Degrees of freedom (numerator): 6\n",
      "Degrees of freedom (denominator): 5\n",
      "p-value: 0.3487407873968742\n",
      "Fail to reject the null hypothesis: The variances are not significantly different.\n"
     ]
    }
   ],
   "source": [
    "# Q8. The following data represent the waiting times in minutes at two different restaurants on a Saturday\n",
    "# night: Restaurant A: 24, 25, 28, 23, 22, 20, 27; Restaurant B: 31, 33, 35, 30, 32, 36. Conduct an F-test at the 5%\n",
    "# significance level to determine if the variances are significantly different.\n",
    "\n",
    "import scipy.stats as stats\n",
    "\n",
    "data_a = [24, 25, 28, 23, 22, 20, 27]\n",
    "data_b = [31, 33, 35, 30, 32, 36]\n",
    "significance_level = 0.05\n",
    "\n",
    "sample_variance_a = sum((x - sum(data_a) / len(data_a))**2 for x in data_a) / (len(data_a) - 1)\n",
    "sample_variance_b = sum((x - sum(data_b) / len(data_b))**2 for x in data_b) / (len(data_b) - 1)\n",
    "\n",
    "f_statistic = sample_variance_a / sample_variance_b\n",
    "\n",
    "df1 = len(data_a) - 1\n",
    "df2 = len(data_b) - 1\n",
    "\n",
    "p_value = 1 - stats.f.cdf(f_statistic, df1, df2)\n",
    "\n",
    "print(\"F-value:\", f_statistic)\n",
    "print(\"Degrees of freedom (numerator):\", df1)\n",
    "print(\"Degrees of freedom (denominator):\", df2)\n",
    "print(\"p-value:\", p_value)\n",
    "\n",
    "if p_value < significance_level:\n",
    "    print(\"Reject the null hypothesis: The variances are significantly different.\")\n",
    "else:\n",
    "    print(\"Fail to reject the null hypothesis: The variances are not significantly different.\")\n"
   ]
  },
  {
   "cell_type": "code",
   "execution_count": 9,
   "metadata": {},
   "outputs": [
    {
     "name": "stdout",
     "output_type": "stream",
     "text": [
      "F-value: 1.9442622950819677\n",
      "Degrees of freedom (numerator): 5\n",
      "Degrees of freedom (denominator): 5\n",
      "p-value: 0.2415521774535344\n",
      "Fail to reject the null hypothesis: The variances are not significantly different.\n"
     ]
    }
   ],
   "source": [
    "# Q9. The following data represent the test scores of two groups of students: Group A: 80, 85, 90, 92, 87, 83;\n",
    "# Group B: 75, 78, 82, 79, 81, 84. Conduct an F-test at the 1% significance level to determine if the variances\n",
    "# are significantly different.\n",
    "\n",
    "import scipy.stats as stats\n",
    "\n",
    "group_a_scores = [80, 85, 90, 92, 87, 83]\n",
    "group_b_scores = [75, 78, 82, 79, 81, 84]\n",
    "significance_level = 0.01\n",
    "\n",
    "sample_variance_a = sum((x - sum(group_a_scores) / len(group_a_scores))**2 for x in group_a_scores) / (len(group_a_scores) - 1)\n",
    "sample_variance_b = sum((x - sum(group_b_scores) / len(group_b_scores))**2 for x in group_b_scores) / (len(group_b_scores) - 1)\n",
    "\n",
    "f_statistic = sample_variance_a / sample_variance_b\n",
    "\n",
    "df1 = len(group_a_scores) - 1\n",
    "df2 = len(group_b_scores) - 1\n",
    "\n",
    "p_value = 1 - stats.f.cdf(f_statistic, df1, df2)\n",
    "\n",
    "print(\"F-value:\", f_statistic)\n",
    "print(\"Degrees of freedom (numerator):\", df1)\n",
    "print(\"Degrees of freedom (denominator):\", df2)\n",
    "print(\"p-value:\", p_value)\n",
    "\n",
    "if p_value < significance_level:\n",
    "    print(\"Reject the null hypothesis: The variances are significantly different.\")\n",
    "else:\n",
    "    print(\"Fail to reject the null hypothesis: The variances are not significantly different.\")\n"
   ]
  },
  {
   "cell_type": "code",
   "execution_count": null,
   "metadata": {},
   "outputs": [],
   "source": []
  }
 ],
 "metadata": {
  "kernelspec": {
   "display_name": "Python 3",
   "language": "python",
   "name": "python3"
  },
  "language_info": {
   "codemirror_mode": {
    "name": "ipython",
    "version": 3
   },
   "file_extension": ".py",
   "mimetype": "text/x-python",
   "name": "python",
   "nbconvert_exporter": "python",
   "pygments_lexer": "ipython3",
   "version": "3.11.4"
  },
  "orig_nbformat": 4
 },
 "nbformat": 4,
 "nbformat_minor": 2
}
