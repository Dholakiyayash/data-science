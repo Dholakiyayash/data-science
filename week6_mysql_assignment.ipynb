{
 "cells": [
  {
   "attachments": {},
   "cell_type": "markdown",
   "metadata": {},
   "source": [
    "Q1. What is a database? Differentiate between SQL and NoSQL databases.\n",
    "\n",
    "database is an organized collection of structured information, or data, typically stored electronically \n",
    "in a computer system. A database is usually controlled by a database management system (DBMS). \n",
    "\n",
    "SQL databases:\n",
    "SQL is  relational database management system.Because it’s designed to process millions of queries and thousands of transactions, MySQL is a popular choice for ecommerce businesses that need to manage multiple money transfers. On-demand flexibility is the primary feature of MySQL.\n",
    "\n",
    "NoSQL databases:\n",
    "A NoSQL, or nonrelational database, allows unstructured and semistructured data to be stored and manipulated (in contrast to a relational database, which defines how all data inserted into the database must be composed). NoSQL databases grew popular as web applications became more common and more complex.\n"
   ]
  },
  {
   "attachments": {},
   "cell_type": "markdown",
   "metadata": {},
   "source": [
    "Q2. What is DDL? Explain why CREATE, DROP, ALTER, and TRUNCATE are used with an example.\n",
    "\n",
    "Data Definition Language t can be used to define the database schema. It is used to create and modify \n",
    "the structure of database objects in the database. DDL is a set of SQL commands used to create, modify, \n",
    "and delete database structures but not data.\n",
    "\n",
    "CREATE: This command is used to create the database or its objects (like table, index, function, views, store procedure, and triggers).\n",
    "\n",
    " DROP: This command is used to delete objects from the database.\n",
    "\n",
    " ALTER: This is used to alter the structure of the database.\n",
    "\n",
    "TRUNCATE: This is used to remove all records from a table, including all spaces allocated for  the records are removed."
   ]
  },
  {
   "cell_type": "code",
   "execution_count": 18,
   "metadata": {},
   "outputs": [
    {
     "name": "stdout",
     "output_type": "stream",
     "text": [
      "(5, 2, 'yash')\n"
     ]
    }
   ],
   "source": [
    "import mysql.connector\n",
    "\n",
    "mydb=mysql.connector.connect(\n",
    "    host='localhost',\n",
    "    user='root',\n",
    "    password='root'\n",
    ")\n",
    "mycursor=mydb.cursor()\n",
    "# CREATE, DROP, ALTER, and TRUNCATE\n",
    "mycursor.execute(\"CREATE DATABASE assign\")\n",
    "mycursor.execute(\"CREATE  TABLE IF NOT EXISTS assign.test1(c1 INT PRIMARY KEY ,c2 INT,c3 VARCHAR(20))\")\n",
    "mycursor.execute(\"alter TABLE assign.test1 MODIFY c1 int AUTO_INCREMENT\")\n",
    "\n",
    "mycursor.execute(\"INSERT INTO assign.test1 VALUES(5,2,'yash')\")\n",
    "mycursor.execute(\"SELECT * FROM assign.test1\")\n",
    "myresult=mycursor.fetchall()\n",
    "for i in myresult:\n",
    "    print(i)\n",
    "mycursor.execute(\"TRUNCATE TABLE assign.test1\")\n",
    "mycursor.execute(\"SELECT * FROM assign.test1\")\n",
    "myresult=mycursor.fetchall()\n",
    "for i in myresult:\n",
    "    print(i)\n",
    "mycursor.execute(\"DROP TABLE assign.test1;\")\n",
    "mycursor.execute(\"DROP DATABASE assign\")\n",
    "mydb.close()"
   ]
  },
  {
   "attachments": {},
   "cell_type": "markdown",
   "metadata": {},
   "source": [
    "Q3. What is DML? Explain INSERT, UPDATE, and DELETE with an example.\n",
    "\n",
    "DML or Data Manipulation Language deal with the manipulation of data present in the database.It is the component of the SQL statement that controls access to data and to the database. Basically, DCL statements are grouped with DML statements.\n",
    "\n",
    "INSERT: It is used to insert data into a table.\n",
    "\n",
    "UPDATE: It is used to update existing data within a table.\n",
    "\n",
    "DELETE: It is used to delete records from a database table."
   ]
  },
  {
   "cell_type": "code",
   "execution_count": 25,
   "metadata": {},
   "outputs": [
    {
     "name": "stdout",
     "output_type": "stream",
     "text": [
      "(1, 'yash', 8.58)\n",
      "(3, 'ashok', 8.26)\n"
     ]
    }
   ],
   "source": [
    "import mysql.connector\n",
    "\n",
    "mydb=mysql.connector.connect(\n",
    "    host='localhost',\n",
    "    user='root',\n",
    "    password='root'\n",
    ")\n",
    "mycursor=mydb.cursor()\n",
    "mycursor.execute(\"CREATE TABLE IF NOT EXISTS assign.test1(c1 INT, c2 VARCHAR(20),C3 FLOAT)\")\n",
    "mycursor.execute(\"INSERT INTO assign.test1 VALUES (1,'yash',8.56)\")\n",
    "mycursor.execute(\"INSERT INTO assign.test1 VALUES (2,'deco',9.56)\")\n",
    "mycursor.execute(\"INSERT INTO assign.test1 VALUES (3,'ashok',8.26)\")\n",
    "mycursor.execute(\"UPDATE assign.test1 SET c3=8.58 WHERE c1=1\")\n",
    "mycursor.execute(\"DELETE FROM assign.test1 WHERE c1=2\")\n",
    "mycursor.execute(\"SELECT * FROM assign.test1\")\n",
    "myresult=mycursor.fetchall()\n",
    "for i in myresult:\n",
    "    print(i)\n",
    "mydb.close()\n"
   ]
  },
  {
   "cell_type": "code",
   "execution_count": 31,
   "metadata": {},
   "outputs": [
    {
     "name": "stdout",
     "output_type": "stream",
     "text": [
      "(1, 'yash', 8.56)\n",
      "(2, 'deco', 9.56)\n",
      "(3, 'ashok', 8.26)\n"
     ]
    }
   ],
   "source": [
    "# Q4. What is DQL? Explain SELECT with an example.\n",
    "# DQL statements are used for performing queries on the data within schema objects.\n",
    "#  It includes the SELECT statement.\n",
    "# SELECT: It is used to retrieve data from the database.\n",
    "import mysql.connector\n",
    "\n",
    "mydb=mysql.connector.connect(\n",
    "    host='localhost',\n",
    "    user='root',\n",
    "    password='root'\n",
    ")\n",
    "\n",
    "mycursor=mydb.cursor()\n",
    "mycursor.execute(\"CREATE TABLE IF NOT EXISTS assign.test1(c1 INT, c2 VARCHAR(20),C3 FLOAT)\")\n",
    "mycursor.execute(\"INSERT INTO assign.test1 VALUES (1,'yash',8.56)\")\n",
    "mycursor.execute(\"INSERT INTO assign.test1 VALUES (2,'deco',9.56)\")\n",
    "mycursor.execute(\"INSERT INTO assign.test1 VALUES (3,'ashok',8.26)\")\n",
    "mycursor.execute(\"SELECT * FROM assign.test1\")\n",
    "myresult=mycursor.fetchall()\n",
    "for i in myresult:\n",
    "    print(i)\n",
    "mydb.close()"
   ]
  },
  {
   "attachments": {},
   "cell_type": "markdown",
   "metadata": {},
   "source": [
    "Q5. Explain Primary Key and Foreign Key.\n",
    "\n",
    "PRIMARY KEY constraint uniquely identifies each record in a table. primary key is selected candidate key. candidate key is key which have not any subset is key.\n",
    "\n",
    "FOREIGN KEY constraint is used to prevent actions that would destroy links between tables.A FOREIGN KEY is a field (or collection of fields) in one table, that refers to the PRIMARY KEY in another table. "
   ]
  },
  {
   "cell_type": "code",
   "execution_count": 36,
   "metadata": {},
   "outputs": [
    {
     "name": "stdout",
     "output_type": "stream",
     "text": [
      "(1, 'yash', 8.56)\n",
      "(2, 'deco', 9.56)\n"
     ]
    }
   ],
   "source": [
    "# Q6. Write a python code to connect MySQL to python. Explain the cursor() and execute() method.\n",
    "\n",
    "# cursor method return cursor for MySQLCursor of mysql-connector is used to \n",
    "# execute statements to communicate with the MySQL database.\n",
    "# execute mthod used to execute statement in data base\n",
    "\n",
    "import mysql.connector\n",
    "\n",
    "mydb=mysql.connector.connect(\n",
    "    host='localhost',\n",
    "    user='root',\n",
    "    password='root'\n",
    ")\n",
    "mycursor=mydb.cursor()\n",
    "mycursor.execute(\"CREATE TABLE IF NOT EXISTS assign.test1(c1 INT, c2 VARCHAR(20),C3 FLOAT)\")\n",
    "mycursor.execute(\"INSERT INTO assign.test1 VALUES (1,'yash',8.56)\")\n",
    "mycursor.execute(\"INSERT INTO assign.test1 VALUES (2,'deco',9.56)\")\n",
    "mycursor.execute(\"SELECT * FROM assign.test1\")\n",
    "myresult=mycursor.fetchall()\n",
    "for i in myresult:\n",
    "    print(i)\n",
    "mydb.close()"
   ]
  },
  {
   "attachments": {},
   "cell_type": "markdown",
   "metadata": {},
   "source": [
    "Q7. Give the order of execution of SQL clauses in an SQL query.\n",
    "\n",
    "1. The FROM and JOIN clauses merge the Products and Orders tables to obtain the total data of interest.\n",
    "\n",
    "2. The WHERE clause removes records where pens aren’t purchased.\n",
    "\n",
    "3. The GROUP BY clause groups together records by name.\n",
    "\n",
    "4. The HAVING clause removes groups that spend more than 2000 on pens.\n",
    "\n",
    "5. The SELECT clause derives the buyers and their corresponding amount spent on pens.\n",
    "\n",
    "6. The ORDER BY clause sorts the results based on the total amount spent on pens in descending order.\n",
    "\n",
    "7. The LIMIT and OFFSET clauses skip the first row and keep only the next record, which contains the person that spent the second most on pens.\n"
   ]
  }
 ],
 "metadata": {
  "kernelspec": {
   "display_name": "Python 3",
   "language": "python",
   "name": "python3"
  },
  "language_info": {
   "codemirror_mode": {
    "name": "ipython",
    "version": 3
   },
   "file_extension": ".py",
   "mimetype": "text/x-python",
   "name": "python",
   "nbconvert_exporter": "python",
   "pygments_lexer": "ipython3",
   "version": "3.11.4"
  },
  "orig_nbformat": 4
 },
 "nbformat": 4,
 "nbformat_minor": 2
}
