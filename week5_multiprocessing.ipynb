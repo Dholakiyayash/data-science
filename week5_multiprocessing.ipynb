{
 "cells": [
  {
   "cell_type": "markdown",
   "metadata": {},
   "source": [
    "Q1. What is multiprocessing in python? Why is it useful?\n",
    "\n",
    "Multiprocessing in Python is a built-in package that allows the system to run multiple processes\n",
    "simultaneously. It will enable the breaking of applications into smaller threads that can run \n",
    "independently. The operating system can then allocate all these threads or processes to the processor \n",
    "to run them parallelly, thus improving the overall performance and efficiency.\n",
    "\n",
    "Multithreading allows the execution of multiple parts of a program at the same time. These parts are \n",
    "known as threads and are lightweight processes available within the process. So multithreading leads to \n",
    "maximum utilization of the CPU by multitasking."
   ]
  },
  {
   "cell_type": "markdown",
   "metadata": {},
   "source": [
    "Q2. What are the differences between multiprocessing and multithreading?\n",
    "\n",
    "\n",
    "1.\tIn Multiprocessing, CPUs are added for increasing computing power.\tWhile In Multithreading, many threads are created of a single process for increasing computing power.\n",
    "2.\tIn Multiprocessing, Many processes are executed simultaneously.\tWhile in multithreading, many threads of a process are executed simultaneously.\n",
    "3.\tMultiprocessing are classified into Symmetric and Asymmetric.\tWhile Multithreading is not classified in any categories.\n",
    "4.\tIn Multiprocessing, Process creation is a time-consuming process.\tWhile in Multithreading, process creation is according to economical.\n",
    "5.\tIn Multiprocessing, every process owned a separate address space.\tWhile in Multithreading, a common address space is shared by all the threads.\n",
    "\n"
   ]
  },
  {
   "cell_type": "code",
   "execution_count": 5,
   "metadata": {},
   "outputs": [
    {
     "name": "stdout",
     "output_type": "stream",
     "text": [
      "process no : 0process no :\n",
      " 1\n",
      "process no : 2\n",
      "process no : 3\n",
      "process no : 4\n",
      "process no : 5\n",
      "process no : 6\n",
      "process no : 7\n",
      "process no : 8\n",
      "process no : 9\n"
     ]
    }
   ],
   "source": [
    "# Q3. Write a python code to create a process using the multiprocessing module.\n",
    "\n",
    "import multiprocessing\n",
    "\n",
    "def test(i):\n",
    "    print(\"process no :\",i)\n",
    "\n",
    "m=[]\n",
    "if __name__=='__main__':\n",
    "    for i in range(10):\n",
    "        m1=multiprocessing.Process(target=test,args=(i,))\n",
    "        m1.start()\n",
    "        m.append(m1)\n",
    "    for i in m:\n",
    "        i.join()\n",
    "\n",
    "\n"
   ]
  },
  {
   "cell_type": "markdown",
   "metadata": {},
   "source": [
    "Q4. What is a multiprocessing pool in python? Why is it used?\n",
    "\n",
    "multiprocessing Pool can be used for parallel execution of a function across multiple input values, \n",
    "distributing the input data across processes \n",
    "\n",
    "Using Pool. The Pool class in multiprocessing can handle an enormous number of processes. It allows you \n",
    "to run multiple jobs per process (due to its ability to queue the jobs). The memory is allocated only to\n",
    "the executing processes, unlike the Process class, which allocates memory to all the processes."
   ]
  },
  {
   "cell_type": "code",
   "execution_count": 1,
   "metadata": {},
   "outputs": [
    {
     "name": "stdout",
     "output_type": "stream",
     "text": [
      "[0, 1, 4, 9, 16, 25, 36, 49, 64, 81, 100, 121, 144, 169, 196, 225, 256, 289, 324, 361, 400, 441, 484, 529, 576, 625, 676, 729, 784, 841, 900, 961, 1024, 1089, 1156, 1225, 1296, 1369, 1444, 1521, 1600, 1681, 1764, 1849, 1936, 2025, 2116, 2209, 2304, 2401, 2500, 2601, 2704, 2809, 2916, 3025, 3136, 3249, 3364, 3481, 3600, 3721, 3844, 3969, 4096, 4225, 4356, 4489, 4624, 4761, 4900, 5041, 5184, 5329, 5476, 5625, 5776, 5929, 6084, 6241, 6400, 6561, 6724, 6889, 7056, 7225, 7396, 7569, 7744, 7921, 8100, 8281, 8464, 8649, 8836, 9025, 9216, 9409, 9604, 9801]\n"
     ]
    }
   ],
   "source": [
    "# Q5. How can we create a pool of worker processes in python using the multiprocessing module?\n",
    "import multiprocessing\n",
    "\n",
    "def square(n):\n",
    "    return n**2\n",
    "if __name__==\"__main__\":\n",
    "    with multiprocessing.Pool(processes=1) as pool:\n",
    "        out=pool.map(square,range(100))\n",
    "        print(out)"
   ]
  },
  {
   "cell_type": "code",
   "execution_count": 2,
   "metadata": {},
   "outputs": [
    {
     "name": "stdout",
     "output_type": "stream",
     "text": [
      "0\n",
      "1\n",
      "2\n",
      "3\n"
     ]
    }
   ],
   "source": [
    "# Q6. Write a python program to create 4 processes, each process should print a different number using the\n",
    "# multiprocessing module in python.\n",
    "import multiprocessing\n",
    "\n",
    "def print_num(i):\n",
    "    print(i)\n",
    "if __name__=='__main__':\n",
    "    with multiprocessing.Pool(processes=1) as pool:\n",
    "        pool.map(print_num,range(4))\n"
   ]
  }
 ],
 "metadata": {
  "kernelspec": {
   "display_name": "Python 3 (ipykernel)",
   "language": "python",
   "name": "python3"
  },
  "language_info": {
   "codemirror_mode": {
    "name": "ipython",
    "version": 3
   },
   "file_extension": ".py",
   "mimetype": "text/x-python",
   "name": "python",
   "nbconvert_exporter": "python",
   "pygments_lexer": "ipython3",
   "version": "3.11.4"
  }
 },
 "nbformat": 4,
 "nbformat_minor": 4
}
