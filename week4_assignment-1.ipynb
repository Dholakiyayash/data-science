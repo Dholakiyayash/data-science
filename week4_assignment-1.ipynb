{
 "cells": [
  {
   "cell_type": "code",
   "execution_count": 2,
   "metadata": {},
   "outputs": [
    {
     "name": "stdout",
     "output_type": "stream",
     "text": [
      "this is method of test class\n"
     ]
    }
   ],
   "source": [
    "# Q1. Explain Class and Object with respect to Object-Oriented Programming. Give a suitable example.\n",
    "\n",
    "# class:class is blue print of real world entity.entity property is shown by attribute and \n",
    "# behaviour of entity shown by methods\n",
    "# object:object is real world entity or instance of class.\n",
    "\n",
    "class class1:\n",
    "    def test(self):\n",
    "        print(\"this is method of test class\")\n",
    "obj1=class1()\n",
    "obj1.test()"
   ]
  },
  {
   "attachments": {},
   "cell_type": "markdown",
   "metadata": {},
   "source": [
    "Q2. Name the four pillars of OOPs.\n",
    "\n",
    "Abstraction\n",
    "\n",
    "Encapsulation\n",
    "\n",
    "Inheritance\n",
    "\n",
    "Polymorphism"
   ]
  },
  {
   "cell_type": "code",
   "execution_count": 3,
   "metadata": {},
   "outputs": [
    {
     "name": "stdout",
     "output_type": "stream",
     "text": [
      "yash yash@mail.com\n"
     ]
    }
   ],
   "source": [
    "# Q3. Explain why the __init__() function is used. Give a suitable example.\n",
    "# ==>__init__() method used for initiallize attribute of class.\n",
    "\n",
    "class test1:\n",
    "    def __init__(self,name,mail):\n",
    "        self.name=name\n",
    "        self.mail=mail\n",
    "    def show_details(self):\n",
    "        print(self.name,self.mail)\n",
    "\n",
    "t=test1('yash','yash@mail.com')\n",
    "t.show_details()"
   ]
  },
  {
   "cell_type": "markdown",
   "metadata": {},
   "source": [
    "Q4. Why self is used in OOPs?\n",
    "\n",
    "==>The use of self makes it easier to distinguish between instanceattributes (and methods) from\n",
    "local variables."
   ]
  },
  {
   "cell_type": "markdown",
   "metadata": {},
   "source": [
    "Q5. What is inheritance? Give an example for each type of inheritance.\n",
    "\n",
    "==>Inheritance is a mechanism in which one child class acquires the property of parent class."
   ]
  },
  {
   "cell_type": "code",
   "execution_count": 4,
   "metadata": {},
   "outputs": [],
   "source": [
    "class parent1:\n",
    "    def parent1_show(self):\n",
    "        print(\"this is method of parent 1 class\")\n",
    "\n",
    "class parent2:\n",
    "    def parent2_show(self):\n",
    "        print('this is method of parent 2 class')\n",
    "\n",
    "class child1:\n",
    "    def child1_show(self):\n",
    "        print('this is method of child 1 method')\n",
    "\n",
    "class child2:\n",
    "    def child2_show(self):\n",
    "        print('this is method of child2 method')"
   ]
  },
  {
   "cell_type": "code",
   "execution_count": 5,
   "metadata": {},
   "outputs": [
    {
     "name": "stdout",
     "output_type": "stream",
     "text": [
      "this is method of child 1 method\n",
      "this is method of parent 1 class\n"
     ]
    }
   ],
   "source": [
    "# Single Inheritance:\n",
    "class child1(parent1):\n",
    "    def child1_show(self):\n",
    "        print('this is method of child 1 method')\n",
    "\n",
    "c1=child1()\n",
    "c1.child1_show()\n",
    "c1.parent1_show()"
   ]
  },
  {
   "cell_type": "code",
   "execution_count": 7,
   "metadata": {},
   "outputs": [
    {
     "name": "stdout",
     "output_type": "stream",
     "text": [
      "this is method of child 1 method\n",
      "this is method of parent 1 class\n",
      "this is method of parent 2 class\n"
     ]
    }
   ],
   "source": [
    "# Multiple Inheritance: \n",
    "\n",
    "class child1(parent1,parent2):\n",
    "    def child1_show(self):\n",
    "        print('this is method of child 1 method')\n",
    "c2=child1()\n",
    "c2.child1_show()\n",
    "c2.parent1_show()\n",
    "c2.parent2_show()"
   ]
  },
  {
   "cell_type": "code",
   "execution_count": 9,
   "metadata": {},
   "outputs": [
    {
     "name": "stdout",
     "output_type": "stream",
     "text": [
      "this is method of child 1 method\n",
      "this is method of parent 1 class\n",
      "this is method of parent 2 class\n"
     ]
    }
   ],
   "source": [
    "# Multilevel Inheritance :\n",
    "class parent2(parent1):\n",
    "    def parent2_show(self):\n",
    "        print('this is method of parent 2 class')\n",
    "class child1(parent2):\n",
    "    def child1_show(self):\n",
    "        print('this is method of child 1 method')\n",
    "\n",
    "c3=child1()\n",
    "c3.child1_show()\n",
    "c3.parent1_show()\n",
    "c3.parent2_show()\n"
   ]
  },
  {
   "cell_type": "code",
   "execution_count": 11,
   "metadata": {},
   "outputs": [
    {
     "ename": "NameError",
     "evalue": "name 'paren1' is not defined",
     "output_type": "error",
     "traceback": [
      "\u001b[1;31m---------------------------------------------------------------------------\u001b[0m",
      "\u001b[1;31mNameError\u001b[0m                                 Traceback (most recent call last)",
      "Cell \u001b[1;32mIn[11], line 7\u001b[0m\n\u001b[0;32m      3\u001b[0m     \u001b[39mdef\u001b[39;00m \u001b[39mparent1_show\u001b[39m(\u001b[39mself\u001b[39m):\n\u001b[0;32m      4\u001b[0m         \u001b[39mprint\u001b[39m(\u001b[39m\"\u001b[39m\u001b[39mthis is method of parent 1 class\u001b[39m\u001b[39m\"\u001b[39m)\n\u001b[1;32m----> 7\u001b[0m \u001b[39mclass\u001b[39;00m \u001b[39mchild1\u001b[39;00m(paren1):\n\u001b[0;32m      8\u001b[0m     \u001b[39mdef\u001b[39;00m \u001b[39mchild1_show\u001b[39m(\u001b[39mself\u001b[39m):\n\u001b[0;32m      9\u001b[0m         \u001b[39mprint\u001b[39m(\u001b[39m'\u001b[39m\u001b[39mthis is method of child 1 method\u001b[39m\u001b[39m'\u001b[39m)\n",
      "\u001b[1;31mNameError\u001b[0m: name 'paren1' is not defined"
     ]
    }
   ],
   "source": [
    "# Hierarchical Inheritance: \n",
    "class parent1:\n",
    "    def parent1_show(self):\n",
    "        print(\"this is method of parent 1 class\")\n",
    "\n",
    "\n",
    "class child1(paren1):\n",
    "    def child1_show(self):\n",
    "        print('this is method of child 1 method')\n",
    "\n",
    "class child2(parent1):\n",
    "    def child2_show(self):\n",
    "        print('this is method of child2 method')\n",
    "\n",
    "c41=child1()\n",
    "c42=child2()\n",
    "c41.parent1_show()\n",
    "c42.parent1_show()"
   ]
  },
  {
   "cell_type": "code",
   "execution_count": 12,
   "metadata": {},
   "outputs": [
    {
     "name": "stdout",
     "output_type": "stream",
     "text": [
      "this is method of parent 1 class\n",
      "this is method of parent 2 class\n",
      "this is method of parent 1 class\n",
      "this is method of parent 2 class\n",
      "this is method of parent 3 method\n"
     ]
    }
   ],
   "source": [
    "# Hybrid Inheritance: Multilevel Inheritance + Multiple Inheritance\n",
    "\n",
    "class parent1:\n",
    "    def parent1_show(self):\n",
    "        print(\"this is method of parent 1 class\")\n",
    "\n",
    "class parent2(parent1):\n",
    "    def parent2_show(self):\n",
    "        print('this is method of parent 2 class')\n",
    "\n",
    "class parent3:\n",
    "    def parent3_show(self):\n",
    "        print('this is method of parent 3 method')\n",
    "\n",
    "class child2(parent2,parent3):\n",
    "    def child2_show(self):\n",
    "        print('this is method of child2 method')\n",
    "p1=parent2()\n",
    "p1.parent1_show()\n",
    "p1.parent2_show()\n",
    "c5=child2()\n",
    "c5.parent1_show()\n",
    "c5.parent2_show()\n",
    "c5.parent3_show()"
   ]
  }
 ],
 "metadata": {
  "kernelspec": {
   "display_name": "Python 3",
   "language": "python",
   "name": "python3"
  },
  "language_info": {
   "codemirror_mode": {
    "name": "ipython",
    "version": 3
   },
   "file_extension": ".py",
   "mimetype": "text/x-python",
   "name": "python",
   "nbconvert_exporter": "python",
   "pygments_lexer": "ipython3",
   "version": "3.11.4"
  },
  "orig_nbformat": 4
 },
 "nbformat": 4,
 "nbformat_minor": 2
}
