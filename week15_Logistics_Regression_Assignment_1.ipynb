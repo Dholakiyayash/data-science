{
 "cells": [
  {
   "cell_type": "markdown",
   "metadata": {},
   "source": [
    "**Q1. Explain the difference between linear regression and logistic regression models. Provide an example of a scenario where logistic regression would be more appropriate.**\n",
    "\n",
    "\n",
    "**Linear Regression:**\n",
    "- Used for predicting continuous numerical values.\n",
    "- Establishes a linear relationship between features and the target.\n",
    "- Output is a continuous value that can range over a wide numeric range.\n",
    "- Example: Predicting house prices based on square footage.\n",
    "\n",
    "**Logistic Regression:**\n",
    "- Used for binary classification problems.\n",
    "- Models the probability of an input belonging to a certain class.\n",
    "- Output is a probability score between 0 and 1.\n",
    "- Example: Predicting whether an email is spam or not based on features like word frequency.\n",
    "\n",
    "**Scenario for Logistic Regression:**\n",
    "\n",
    "**Fraud Detection:**\n",
    "- **Problem:** Identifying fraudulent credit card transactions.\n",
    "- **Solution:** Logistic regression can model the probability that a transaction is fraudulent based on features like transaction amount, location, and time.\n",
    "- **Reason:** The goal is to classify transactions as either fraudulent or legitimate, making it a binary classification task. Logistic regression's probability output is well-suited for this scenario, allowing the model to rank transactions by their likelihood of being fraudulent and aiding decision-making in fraud prevention systems."
   ]
  },
  {
   "cell_type": "markdown",
   "metadata": {},
   "source": [
    "**Q2. What is the cost function used in logistic regression, and how is it optimized?**\n",
    "\n",
    "In logistic regression, the cost function used is the **logistic loss** (also known as the cross-entropy loss or log-loss). The logistic loss measures the difference between the predicted probabilities and the actual binary labels in a classification problem. It quantifies how well the predicted probabilities match the true labels.\n",
    "\n",
    "The logistic loss for a single training example is defined as:\n",
    "\n",
    "\n",
    "J(y, hθ(x)) = -y * log(h(x)) - (1 - y) * log(1 - hθ(x))\n",
    "\n",
    "\n",
    "\n",
    "Where:\n",
    "- y is the true binary label (0 or 1) for the example.\n",
    "- hθ(x) = 1 / (1+e^(-z))\n",
    "- where z= θ0 + θ1X  ==> θ0 is intercept, θ1 is coefficient and X is datapoint value\n",
    "\n",
    "**Optimization:**\n",
    "To optimize the logistic regression model, gradient descent or similar optimization algorithms are used. The goal is to adjust the model parameters in a way that reduces the value of the cost function. The general steps are as follows:\n",
    "\n",
    "1. **Initialization:** Initialize the model's weights and bias.\n",
    "\n",
    "2. **Forward Propagation:** Calculate the predicted probabilities for each training example using the logistic function (sigmoid function).\n",
    "\n",
    "3. **Compute Loss:** Calculate the logistic loss by plugging the predicted probabilities and actual labels into the cost function.\n",
    "\n",
    "4. **Backpropagation:** Compute the gradient of the cost function with respect to the model parameters. This involves calculating the partial derivatives of the cost function with respect to the weights and bias.\n",
    "\n",
    "5. **Gradient Descent:** Update the model parameters in the opposite direction of the gradient to minimize the cost function. This involves multiplying the gradient by a learning rate and subtracting it from the current parameter values.\n",
    "\n",
    "6. **Repeat:** Iterate steps 2-5 for a specified number of epochs or until convergence (when the cost function converges to a minimum).\n",
    "\n",
    "The optimization process adjusts the model's parameters iteratively, making it learn the best parameters that minimize the logistic loss and result in accurate binary classifications."
   ]
  },
  {
   "cell_type": "markdown",
   "metadata": {},
   "source": [
    "Q3. Explain the concept of regularization in logistic regression and how it helps prevent overfitting.\n"
   ]
  },
  {
   "cell_type": "markdown",
   "metadata": {},
   "source": [
    "Q4. What is the ROC curve, and how is it used to evaluate the performance of the logistic regression\n",
    "model?\n"
   ]
  },
  {
   "cell_type": "markdown",
   "metadata": {},
   "source": [
    "Q5. What are some common techniques for feature selection in logistic regression? How do these\n",
    "techniques help improve the model's performance?\n"
   ]
  },
  {
   "cell_type": "markdown",
   "metadata": {},
   "source": [
    "Q6. How can you handle imbalanced datasets in logistic regression? What are some strategies for dealing\n",
    "with class imbalance?\n"
   ]
  },
  {
   "cell_type": "markdown",
   "metadata": {},
   "source": [
    "Q7. Can you discuss some common issues and challenges that may arise when implementing logistic\n",
    "regression, and how they can be addressed? For example, what can be done if there is multicollinearity\n",
    "among the independent variables?\n"
   ]
  }
 ],
 "metadata": {
  "language_info": {
   "name": "python"
  },
  "orig_nbformat": 4
 },
 "nbformat": 4,
 "nbformat_minor": 2
}
