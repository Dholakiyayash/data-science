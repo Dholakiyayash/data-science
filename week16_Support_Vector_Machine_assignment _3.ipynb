{
 "cells": [
  {
   "cell_type": "markdown",
   "metadata": {},
   "source": [
    "Q1. In order to predict house price based on several characteristics, such as location, square footage,\n",
    "number of bedrooms, etc., you are developing an SVM regression model. Which regression metric in this\n",
    "situation would be the best to employ?\n",
    "\n",
    "Dataset link:https://drive.google.com/file/d/1Z9oLpmt6IDRNw7IeNcHYTGeJRYypRSC0/view?usp=share_link\n",
    "\n",
    "In the case of predicting house prices, the choice of metric should align with your specific goals. For instance, if you want to prioritize minimizing large errors, you might focus on RMSE or MSE. If your concern is the overall accuracy of predictions, MAE could be a good choice.\n",
    "\n",
    "**Mean Squared Error (MSE):**\n",
    "\n",
    "MSE is a widely used metric that measures the average squared difference between predicted and actual values. It gives higher weight to larger errors, which could be relevant if you want to penalize larger prediction errors more heavily.\n",
    "\n",
    "**Root Mean Squared Error (RMSE):**\n",
    "\n",
    "RMSE is the square root of the MSE, which is expressed in the same units as the target variable (house prices in this case). It provides an easily interpretable measure of the typical prediction error.\n",
    "\n",
    "**Mean Absolute Error (MAE):**\n",
    "\n",
    "MAE calculates the average absolute difference between predicted and actual values. Unlike MSE, MAE treats all errors equally regardless of their magnitude."
   ]
  },
  {
   "cell_type": "code",
   "execution_count": 1,
   "metadata": {},
   "outputs": [
    {
     "data": {
      "text/html": [
       "<div>\n",
       "<style scoped>\n",
       "    .dataframe tbody tr th:only-of-type {\n",
       "        vertical-align: middle;\n",
       "    }\n",
       "\n",
       "    .dataframe tbody tr th {\n",
       "        vertical-align: top;\n",
       "    }\n",
       "\n",
       "    .dataframe thead th {\n",
       "        text-align: right;\n",
       "    }\n",
       "</style>\n",
       "<table border=\"1\" class=\"dataframe\">\n",
       "  <thead>\n",
       "    <tr style=\"text-align: right;\">\n",
       "      <th></th>\n",
       "      <th>area_type</th>\n",
       "      <th>availability</th>\n",
       "      <th>location</th>\n",
       "      <th>size</th>\n",
       "      <th>society</th>\n",
       "      <th>total_sqft</th>\n",
       "      <th>bath</th>\n",
       "      <th>balcony</th>\n",
       "      <th>price</th>\n",
       "    </tr>\n",
       "  </thead>\n",
       "  <tbody>\n",
       "    <tr>\n",
       "      <th>0</th>\n",
       "      <td>Super built-up  Area</td>\n",
       "      <td>19-Dec</td>\n",
       "      <td>Electronic City Phase II</td>\n",
       "      <td>2 BHK</td>\n",
       "      <td>Coomee</td>\n",
       "      <td>1056</td>\n",
       "      <td>2.0</td>\n",
       "      <td>1.0</td>\n",
       "      <td>39.07</td>\n",
       "    </tr>\n",
       "    <tr>\n",
       "      <th>1</th>\n",
       "      <td>Plot  Area</td>\n",
       "      <td>Ready To Move</td>\n",
       "      <td>Chikka Tirupathi</td>\n",
       "      <td>4 Bedroom</td>\n",
       "      <td>Theanmp</td>\n",
       "      <td>2600</td>\n",
       "      <td>5.0</td>\n",
       "      <td>3.0</td>\n",
       "      <td>120.00</td>\n",
       "    </tr>\n",
       "    <tr>\n",
       "      <th>2</th>\n",
       "      <td>Built-up  Area</td>\n",
       "      <td>Ready To Move</td>\n",
       "      <td>Uttarahalli</td>\n",
       "      <td>3 BHK</td>\n",
       "      <td>NaN</td>\n",
       "      <td>1440</td>\n",
       "      <td>2.0</td>\n",
       "      <td>3.0</td>\n",
       "      <td>62.00</td>\n",
       "    </tr>\n",
       "    <tr>\n",
       "      <th>3</th>\n",
       "      <td>Super built-up  Area</td>\n",
       "      <td>Ready To Move</td>\n",
       "      <td>Lingadheeranahalli</td>\n",
       "      <td>3 BHK</td>\n",
       "      <td>Soiewre</td>\n",
       "      <td>1521</td>\n",
       "      <td>3.0</td>\n",
       "      <td>1.0</td>\n",
       "      <td>95.00</td>\n",
       "    </tr>\n",
       "    <tr>\n",
       "      <th>4</th>\n",
       "      <td>Super built-up  Area</td>\n",
       "      <td>Ready To Move</td>\n",
       "      <td>Kothanur</td>\n",
       "      <td>2 BHK</td>\n",
       "      <td>NaN</td>\n",
       "      <td>1200</td>\n",
       "      <td>2.0</td>\n",
       "      <td>1.0</td>\n",
       "      <td>51.00</td>\n",
       "    </tr>\n",
       "  </tbody>\n",
       "</table>\n",
       "</div>"
      ],
      "text/plain": [
       "              area_type   availability                  location       size  \\\n",
       "0  Super built-up  Area         19-Dec  Electronic City Phase II      2 BHK   \n",
       "1            Plot  Area  Ready To Move          Chikka Tirupathi  4 Bedroom   \n",
       "2        Built-up  Area  Ready To Move               Uttarahalli      3 BHK   \n",
       "3  Super built-up  Area  Ready To Move        Lingadheeranahalli      3 BHK   \n",
       "4  Super built-up  Area  Ready To Move                  Kothanur      2 BHK   \n",
       "\n",
       "   society total_sqft  bath  balcony   price  \n",
       "0  Coomee        1056   2.0      1.0   39.07  \n",
       "1  Theanmp       2600   5.0      3.0  120.00  \n",
       "2      NaN       1440   2.0      3.0   62.00  \n",
       "3  Soiewre       1521   3.0      1.0   95.00  \n",
       "4      NaN       1200   2.0      1.0   51.00  "
      ]
     },
     "execution_count": 1,
     "metadata": {},
     "output_type": "execute_result"
    }
   ],
   "source": [
    "# Q2. You have built an SVM regression model and are trying to decide between using MSE or R-squared as\n",
    "# your evaluation metric. Which metric would be more appropriate if your goal is to predict the actual \n",
    "# price of a house as accurately as possible?\n",
    "\n",
    "# The metric that would be more appropriate for predicting the actual price of a house as accurately as\n",
    "#  possible is Root Mean Squared Error (RMSE).\n",
    "\n",
    "# RMSE measures the average magnitude of the errors between predicted values and actual values. It \n",
    "# gives higher weight to larger errors, which is particularly useful when dealing with predictions \n",
    "# related to price or any continuous variable. In the context of predicting house prices, RMSE will \n",
    "# penalize larger prediction errors more heavily, providing a more accurate reflection of how well \n",
    "# your model is performing in terms of predicting the actual prices.\n",
    "\n",
    "import pandas as pd\n",
    "import lxml\n",
    "df=pd.read_csv('https://drive.google.com/u/0/uc?id=1Z9oLpmt6IDRNw7IeNcHYTGeJRYypRSC0&export=download')\n",
    "df.head()"
   ]
  },
  {
   "cell_type": "code",
   "execution_count": 2,
   "metadata": {},
   "outputs": [],
   "source": [
    "df=df[~df.isnull().any(axis=1)]\n",
    "df.dropna(inplace=True)"
   ]
  },
  {
   "cell_type": "code",
   "execution_count": 3,
   "metadata": {},
   "outputs": [],
   "source": [
    "df=df[~df['society'].isnull()]\n"
   ]
  },
  {
   "cell_type": "code",
   "execution_count": 4,
   "metadata": {},
   "outputs": [
    {
     "data": {
      "text/plain": [
       "0"
      ]
     },
     "execution_count": 4,
     "metadata": {},
     "output_type": "execute_result"
    }
   ],
   "source": [
    "df['society'].isnull().sum()"
   ]
  },
  {
   "cell_type": "markdown",
   "metadata": {},
   "source": [
    " **Q3. You have a dataset with a significant number of outliers and are trying to select an appropriate regression metric to use with your SVM model. Which metric would be the most appropriate in this scenario?**\n",
    "\n",
    "\n",
    "When dealing with a dataset that contains a significant number of outliers and using a Support Vector Machine (SVM) model for regression, it's important to choose a regression metric that is robust to outliers. The most appropriate metric in this scenario would be the Mean Absolute Error (MAE).\n",
    "\n",
    "The MAE calculates the average absolute difference between the predicted values and the actual target values. It is less sensitive to outliers compared to other metrics like Mean Squared Error (MSE) or Root Mean Squared Error (RMSE), which give more weight to larger errors and can be heavily influenced by outliers.\n",
    "\n",
    "Since outliers can have a disproportionately large impact on the prediction errors in the case of MSE and RMSE, using MAE as the regression metric is a better choice when dealing with datasets that have significant outliers. It provides a more balanced evaluation of the model's performance that is less skewed by extreme values.\n"
   ]
  },
  {
   "cell_type": "markdown",
   "metadata": {},
   "source": [
    "**Q4. You have built an SVM regression model using a polynomial kernel and are trying to select the best metric to evaluate its performance. You have calculated both MSE and RMSE and found that both values are very close. Which metric should you choose to use in this case?**\n",
    "\n",
    "\n",
    "In this scenario, when both the Mean Squared Error (MSE) and Root Mean Squared Error (RMSE) are very close, you should choose RMSE as the preferred metric. RMSE offers better interpretability, sensitivity to outliers, and is commonly used in regression tasks."
   ]
  },
  {
   "cell_type": "code",
   "execution_count": 5,
   "metadata": {},
   "outputs": [
    {
     "data": {
      "text/html": [
       "<div>\n",
       "<style scoped>\n",
       "    .dataframe tbody tr th:only-of-type {\n",
       "        vertical-align: middle;\n",
       "    }\n",
       "\n",
       "    .dataframe tbody tr th {\n",
       "        vertical-align: top;\n",
       "    }\n",
       "\n",
       "    .dataframe thead th {\n",
       "        text-align: right;\n",
       "    }\n",
       "</style>\n",
       "<table border=\"1\" class=\"dataframe\">\n",
       "  <thead>\n",
       "    <tr style=\"text-align: right;\">\n",
       "      <th></th>\n",
       "      <th>index</th>\n",
       "      <th>area_type</th>\n",
       "      <th>availability</th>\n",
       "      <th>location</th>\n",
       "      <th>size</th>\n",
       "      <th>society</th>\n",
       "      <th>total_sqft</th>\n",
       "      <th>bath</th>\n",
       "      <th>balcony</th>\n",
       "      <th>price</th>\n",
       "    </tr>\n",
       "  </thead>\n",
       "  <tbody>\n",
       "    <tr>\n",
       "      <th>0</th>\n",
       "      <td>0</td>\n",
       "      <td>Super built-up  Area</td>\n",
       "      <td>19-Dec</td>\n",
       "      <td>Electronic City Phase II</td>\n",
       "      <td>2 BHK</td>\n",
       "      <td>Coomee</td>\n",
       "      <td>1056</td>\n",
       "      <td>2.0</td>\n",
       "      <td>1.0</td>\n",
       "      <td>39.07</td>\n",
       "    </tr>\n",
       "    <tr>\n",
       "      <th>1</th>\n",
       "      <td>1</td>\n",
       "      <td>Plot  Area</td>\n",
       "      <td>Ready To Move</td>\n",
       "      <td>Chikka Tirupathi</td>\n",
       "      <td>4 Bedroom</td>\n",
       "      <td>Theanmp</td>\n",
       "      <td>2600</td>\n",
       "      <td>5.0</td>\n",
       "      <td>3.0</td>\n",
       "      <td>120.00</td>\n",
       "    </tr>\n",
       "    <tr>\n",
       "      <th>2</th>\n",
       "      <td>3</td>\n",
       "      <td>Super built-up  Area</td>\n",
       "      <td>Ready To Move</td>\n",
       "      <td>Lingadheeranahalli</td>\n",
       "      <td>3 BHK</td>\n",
       "      <td>Soiewre</td>\n",
       "      <td>1521</td>\n",
       "      <td>3.0</td>\n",
       "      <td>1.0</td>\n",
       "      <td>95.00</td>\n",
       "    </tr>\n",
       "    <tr>\n",
       "      <th>3</th>\n",
       "      <td>5</td>\n",
       "      <td>Super built-up  Area</td>\n",
       "      <td>Ready To Move</td>\n",
       "      <td>Whitefield</td>\n",
       "      <td>2 BHK</td>\n",
       "      <td>DuenaTa</td>\n",
       "      <td>1170</td>\n",
       "      <td>2.0</td>\n",
       "      <td>1.0</td>\n",
       "      <td>38.00</td>\n",
       "    </tr>\n",
       "    <tr>\n",
       "      <th>4</th>\n",
       "      <td>11</td>\n",
       "      <td>Plot  Area</td>\n",
       "      <td>Ready To Move</td>\n",
       "      <td>Whitefield</td>\n",
       "      <td>4 Bedroom</td>\n",
       "      <td>Prrry M</td>\n",
       "      <td>2785</td>\n",
       "      <td>5.0</td>\n",
       "      <td>3.0</td>\n",
       "      <td>295.00</td>\n",
       "    </tr>\n",
       "    <tr>\n",
       "      <th>...</th>\n",
       "      <td>...</td>\n",
       "      <td>...</td>\n",
       "      <td>...</td>\n",
       "      <td>...</td>\n",
       "      <td>...</td>\n",
       "      <td>...</td>\n",
       "      <td>...</td>\n",
       "      <td>...</td>\n",
       "      <td>...</td>\n",
       "      <td>...</td>\n",
       "    </tr>\n",
       "    <tr>\n",
       "      <th>7491</th>\n",
       "      <td>13313</td>\n",
       "      <td>Super built-up  Area</td>\n",
       "      <td>Ready To Move</td>\n",
       "      <td>Uttarahalli</td>\n",
       "      <td>3 BHK</td>\n",
       "      <td>Aklia R</td>\n",
       "      <td>1345</td>\n",
       "      <td>2.0</td>\n",
       "      <td>1.0</td>\n",
       "      <td>57.00</td>\n",
       "    </tr>\n",
       "    <tr>\n",
       "      <th>7492</th>\n",
       "      <td>13314</td>\n",
       "      <td>Super built-up  Area</td>\n",
       "      <td>Ready To Move</td>\n",
       "      <td>Green Glen Layout</td>\n",
       "      <td>3 BHK</td>\n",
       "      <td>SoosePr</td>\n",
       "      <td>1715</td>\n",
       "      <td>3.0</td>\n",
       "      <td>3.0</td>\n",
       "      <td>112.00</td>\n",
       "    </tr>\n",
       "    <tr>\n",
       "      <th>7493</th>\n",
       "      <td>13315</td>\n",
       "      <td>Built-up  Area</td>\n",
       "      <td>Ready To Move</td>\n",
       "      <td>Whitefield</td>\n",
       "      <td>5 Bedroom</td>\n",
       "      <td>ArsiaEx</td>\n",
       "      <td>3453</td>\n",
       "      <td>4.0</td>\n",
       "      <td>0.0</td>\n",
       "      <td>231.00</td>\n",
       "    </tr>\n",
       "    <tr>\n",
       "      <th>7494</th>\n",
       "      <td>13317</td>\n",
       "      <td>Built-up  Area</td>\n",
       "      <td>Ready To Move</td>\n",
       "      <td>Raja Rajeshwari Nagar</td>\n",
       "      <td>2 BHK</td>\n",
       "      <td>Mahla T</td>\n",
       "      <td>1141</td>\n",
       "      <td>2.0</td>\n",
       "      <td>1.0</td>\n",
       "      <td>60.00</td>\n",
       "    </tr>\n",
       "    <tr>\n",
       "      <th>7495</th>\n",
       "      <td>13318</td>\n",
       "      <td>Super built-up  Area</td>\n",
       "      <td>18-Jun</td>\n",
       "      <td>Padmanabhanagar</td>\n",
       "      <td>4 BHK</td>\n",
       "      <td>SollyCl</td>\n",
       "      <td>4689</td>\n",
       "      <td>4.0</td>\n",
       "      <td>1.0</td>\n",
       "      <td>488.00</td>\n",
       "    </tr>\n",
       "  </tbody>\n",
       "</table>\n",
       "<p>7496 rows × 10 columns</p>\n",
       "</div>"
      ],
      "text/plain": [
       "      index             area_type   availability                  location  \\\n",
       "0         0  Super built-up  Area         19-Dec  Electronic City Phase II   \n",
       "1         1            Plot  Area  Ready To Move          Chikka Tirupathi   \n",
       "2         3  Super built-up  Area  Ready To Move        Lingadheeranahalli   \n",
       "3         5  Super built-up  Area  Ready To Move                Whitefield   \n",
       "4        11            Plot  Area  Ready To Move                Whitefield   \n",
       "...     ...                   ...            ...                       ...   \n",
       "7491  13313  Super built-up  Area  Ready To Move               Uttarahalli   \n",
       "7492  13314  Super built-up  Area  Ready To Move         Green Glen Layout   \n",
       "7493  13315        Built-up  Area  Ready To Move                Whitefield   \n",
       "7494  13317        Built-up  Area  Ready To Move     Raja Rajeshwari Nagar   \n",
       "7495  13318  Super built-up  Area         18-Jun           Padmanabhanagar   \n",
       "\n",
       "           size  society total_sqft  bath  balcony   price  \n",
       "0         2 BHK  Coomee        1056   2.0      1.0   39.07  \n",
       "1     4 Bedroom  Theanmp       2600   5.0      3.0  120.00  \n",
       "2         3 BHK  Soiewre       1521   3.0      1.0   95.00  \n",
       "3         2 BHK  DuenaTa       1170   2.0      1.0   38.00  \n",
       "4     4 Bedroom  Prrry M       2785   5.0      3.0  295.00  \n",
       "...         ...      ...        ...   ...      ...     ...  \n",
       "7491      3 BHK  Aklia R       1345   2.0      1.0   57.00  \n",
       "7492      3 BHK  SoosePr       1715   3.0      3.0  112.00  \n",
       "7493  5 Bedroom  ArsiaEx       3453   4.0      0.0  231.00  \n",
       "7494      2 BHK  Mahla T       1141   2.0      1.0   60.00  \n",
       "7495      4 BHK  SollyCl       4689   4.0      1.0  488.00  \n",
       "\n",
       "[7496 rows x 10 columns]"
      ]
     },
     "execution_count": 5,
     "metadata": {},
     "output_type": "execute_result"
    }
   ],
   "source": [
    "### handle missing values\n",
    "\n",
    "# print(df.info())\n",
    "df.head()\n",
    "df.dropna(inplace=True)\n",
    "df.reset_index()"
   ]
  },
  {
   "cell_type": "code",
   "execution_count": 6,
   "metadata": {},
   "outputs": [
    {
     "data": {
      "text/html": [
       "<div>\n",
       "<style scoped>\n",
       "    .dataframe tbody tr th:only-of-type {\n",
       "        vertical-align: middle;\n",
       "    }\n",
       "\n",
       "    .dataframe tbody tr th {\n",
       "        vertical-align: top;\n",
       "    }\n",
       "\n",
       "    .dataframe thead th {\n",
       "        text-align: right;\n",
       "    }\n",
       "</style>\n",
       "<table border=\"1\" class=\"dataframe\">\n",
       "  <thead>\n",
       "    <tr style=\"text-align: right;\">\n",
       "      <th></th>\n",
       "      <th>area_type</th>\n",
       "      <th>availability</th>\n",
       "      <th>location</th>\n",
       "      <th>size</th>\n",
       "      <th>society</th>\n",
       "      <th>total_sqft</th>\n",
       "      <th>bath</th>\n",
       "      <th>balcony</th>\n",
       "      <th>price</th>\n",
       "    </tr>\n",
       "  </thead>\n",
       "  <tbody>\n",
       "    <tr>\n",
       "      <th>0</th>\n",
       "      <td>Super built-up  Area</td>\n",
       "      <td>19-Dec</td>\n",
       "      <td>Electronic City Phase II</td>\n",
       "      <td>2 BHK</td>\n",
       "      <td>Coomee</td>\n",
       "      <td>1056</td>\n",
       "      <td>2.0</td>\n",
       "      <td>1.0</td>\n",
       "      <td>39.07</td>\n",
       "    </tr>\n",
       "    <tr>\n",
       "      <th>1</th>\n",
       "      <td>Plot  Area</td>\n",
       "      <td>Ready To Move</td>\n",
       "      <td>Chikka Tirupathi</td>\n",
       "      <td>4 Bedroom</td>\n",
       "      <td>Theanmp</td>\n",
       "      <td>2600</td>\n",
       "      <td>5.0</td>\n",
       "      <td>3.0</td>\n",
       "      <td>120.00</td>\n",
       "    </tr>\n",
       "    <tr>\n",
       "      <th>3</th>\n",
       "      <td>Super built-up  Area</td>\n",
       "      <td>Ready To Move</td>\n",
       "      <td>Lingadheeranahalli</td>\n",
       "      <td>3 BHK</td>\n",
       "      <td>Soiewre</td>\n",
       "      <td>1521</td>\n",
       "      <td>3.0</td>\n",
       "      <td>1.0</td>\n",
       "      <td>95.00</td>\n",
       "    </tr>\n",
       "    <tr>\n",
       "      <th>5</th>\n",
       "      <td>Super built-up  Area</td>\n",
       "      <td>Ready To Move</td>\n",
       "      <td>Whitefield</td>\n",
       "      <td>2 BHK</td>\n",
       "      <td>DuenaTa</td>\n",
       "      <td>1170</td>\n",
       "      <td>2.0</td>\n",
       "      <td>1.0</td>\n",
       "      <td>38.00</td>\n",
       "    </tr>\n",
       "    <tr>\n",
       "      <th>11</th>\n",
       "      <td>Plot  Area</td>\n",
       "      <td>Ready To Move</td>\n",
       "      <td>Whitefield</td>\n",
       "      <td>4 Bedroom</td>\n",
       "      <td>Prrry M</td>\n",
       "      <td>2785</td>\n",
       "      <td>5.0</td>\n",
       "      <td>3.0</td>\n",
       "      <td>295.00</td>\n",
       "    </tr>\n",
       "  </tbody>\n",
       "</table>\n",
       "</div>"
      ],
      "text/plain": [
       "               area_type   availability                  location       size  \\\n",
       "0   Super built-up  Area         19-Dec  Electronic City Phase II      2 BHK   \n",
       "1             Plot  Area  Ready To Move          Chikka Tirupathi  4 Bedroom   \n",
       "3   Super built-up  Area  Ready To Move        Lingadheeranahalli      3 BHK   \n",
       "5   Super built-up  Area  Ready To Move                Whitefield      2 BHK   \n",
       "11            Plot  Area  Ready To Move                Whitefield  4 Bedroom   \n",
       "\n",
       "    society total_sqft  bath  balcony   price  \n",
       "0   Coomee        1056   2.0      1.0   39.07  \n",
       "1   Theanmp       2600   5.0      3.0  120.00  \n",
       "3   Soiewre       1521   3.0      1.0   95.00  \n",
       "5   DuenaTa       1170   2.0      1.0   38.00  \n",
       "11  Prrry M       2785   5.0      3.0  295.00  "
      ]
     },
     "execution_count": 6,
     "metadata": {},
     "output_type": "execute_result"
    }
   ],
   "source": [
    "df.head()"
   ]
  },
  {
   "cell_type": "code",
   "execution_count": 7,
   "metadata": {},
   "outputs": [],
   "source": [
    "df.drop('availability',inplace=True,axis=1)"
   ]
  },
  {
   "cell_type": "markdown",
   "metadata": {},
   "source": [
    "## encode object values \n",
    "\n"
   ]
  },
  {
   "cell_type": "code",
   "execution_count": 8,
   "metadata": {},
   "outputs": [
    {
     "data": {
      "text/plain": [
       "array(['Super built-up  Area', 'Plot  Area', 'Built-up  Area',\n",
       "       'Carpet  Area'], dtype=object)"
      ]
     },
     "execution_count": 8,
     "metadata": {},
     "output_type": "execute_result"
    }
   ],
   "source": [
    "### encode area type\n",
    "df['area_type'].unique()"
   ]
  },
  {
   "cell_type": "code",
   "execution_count": 62,
   "metadata": {},
   "outputs": [
    {
     "data": {
      "text/plain": [
       "<bound method GroupBy.mean of <pandas.core.groupby.generic.SeriesGroupBy object at 0x7fe19d3ad120>>"
      ]
     },
     "execution_count": 62,
     "metadata": {},
     "output_type": "execute_result"
    }
   ],
   "source": [
    "df.groupby('area_type')['price'].mean"
   ]
  },
  {
   "cell_type": "code",
   "execution_count": null,
   "metadata": {},
   "outputs": [],
   "source": [
    "for i "
   ]
  },
  {
   "cell_type": "code",
   "execution_count": 9,
   "metadata": {},
   "outputs": [],
   "source": [
    "ordinal_mapping={'Super built-up  Area':1, 'Plot  Area':4, 'Built-up  Area':2,'Carpet  Area':4}\n",
    "df['encoded_area_type']=df['area_type'].map(ordinal_mapping)"
   ]
  },
  {
   "cell_type": "code",
   "execution_count": 10,
   "metadata": {},
   "outputs": [],
   "source": [
    "### encode location\n",
    "\n",
    "mean_price=df.groupby('location')['price'].mean()\n",
    "j=0\n",
    "for i in df['location']:\n",
    "    df.loc[j,'encoded_location']=mean_price[i]\n",
    "    j=j+1\n",
    "   \n",
    "    "
   ]
  },
  {
   "cell_type": "code",
   "execution_count": null,
   "metadata": {},
   "outputs": [],
   "source": []
  },
  {
   "cell_type": "code",
   "execution_count": 11,
   "metadata": {},
   "outputs": [
    {
     "data": {
      "text/html": [
       "<div>\n",
       "<style scoped>\n",
       "    .dataframe tbody tr th:only-of-type {\n",
       "        vertical-align: middle;\n",
       "    }\n",
       "\n",
       "    .dataframe tbody tr th {\n",
       "        vertical-align: top;\n",
       "    }\n",
       "\n",
       "    .dataframe thead th {\n",
       "        text-align: right;\n",
       "    }\n",
       "</style>\n",
       "<table border=\"1\" class=\"dataframe\">\n",
       "  <thead>\n",
       "    <tr style=\"text-align: right;\">\n",
       "      <th></th>\n",
       "      <th>area_type</th>\n",
       "      <th>location</th>\n",
       "      <th>size</th>\n",
       "      <th>society</th>\n",
       "      <th>total_sqft</th>\n",
       "      <th>bath</th>\n",
       "      <th>balcony</th>\n",
       "      <th>price</th>\n",
       "      <th>encoded_area_type</th>\n",
       "      <th>encoded_location</th>\n",
       "    </tr>\n",
       "  </thead>\n",
       "  <tbody>\n",
       "    <tr>\n",
       "      <th>0</th>\n",
       "      <td>Super built-up  Area</td>\n",
       "      <td>Electronic City Phase II</td>\n",
       "      <td>2 BHK</td>\n",
       "      <td>Coomee</td>\n",
       "      <td>1056</td>\n",
       "      <td>2.0</td>\n",
       "      <td>1.0</td>\n",
       "      <td>39.07</td>\n",
       "      <td>4.0</td>\n",
       "      <td>44.313613</td>\n",
       "    </tr>\n",
       "    <tr>\n",
       "      <th>1</th>\n",
       "      <td>Plot  Area</td>\n",
       "      <td>Chikka Tirupathi</td>\n",
       "      <td>4 Bedroom</td>\n",
       "      <td>Theanmp</td>\n",
       "      <td>2600</td>\n",
       "      <td>5.0</td>\n",
       "      <td>3.0</td>\n",
       "      <td>120.00</td>\n",
       "      <td>1.0</td>\n",
       "      <td>122.189167</td>\n",
       "    </tr>\n",
       "    <tr>\n",
       "      <th>3</th>\n",
       "      <td>Super built-up  Area</td>\n",
       "      <td>Lingadheeranahalli</td>\n",
       "      <td>3 BHK</td>\n",
       "      <td>Soiewre</td>\n",
       "      <td>1521</td>\n",
       "      <td>3.0</td>\n",
       "      <td>1.0</td>\n",
       "      <td>95.00</td>\n",
       "      <td>4.0</td>\n",
       "      <td>123.256927</td>\n",
       "    </tr>\n",
       "    <tr>\n",
       "      <th>5</th>\n",
       "      <td>Super built-up  Area</td>\n",
       "      <td>Whitefield</td>\n",
       "      <td>2 BHK</td>\n",
       "      <td>DuenaTa</td>\n",
       "      <td>1170</td>\n",
       "      <td>2.0</td>\n",
       "      <td>1.0</td>\n",
       "      <td>38.00</td>\n",
       "      <td>4.0</td>\n",
       "      <td>95.671020</td>\n",
       "    </tr>\n",
       "    <tr>\n",
       "      <th>11</th>\n",
       "      <td>Plot  Area</td>\n",
       "      <td>Whitefield</td>\n",
       "      <td>4 Bedroom</td>\n",
       "      <td>Prrry M</td>\n",
       "      <td>2785</td>\n",
       "      <td>5.0</td>\n",
       "      <td>3.0</td>\n",
       "      <td>295.00</td>\n",
       "      <td>1.0</td>\n",
       "      <td>146.637368</td>\n",
       "    </tr>\n",
       "  </tbody>\n",
       "</table>\n",
       "</div>"
      ],
      "text/plain": [
       "               area_type                  location       size  society  \\\n",
       "0   Super built-up  Area  Electronic City Phase II      2 BHK  Coomee    \n",
       "1             Plot  Area          Chikka Tirupathi  4 Bedroom  Theanmp   \n",
       "3   Super built-up  Area        Lingadheeranahalli      3 BHK  Soiewre   \n",
       "5   Super built-up  Area                Whitefield      2 BHK  DuenaTa   \n",
       "11            Plot  Area                Whitefield  4 Bedroom  Prrry M   \n",
       "\n",
       "   total_sqft  bath  balcony   price  encoded_area_type  encoded_location  \n",
       "0        1056   2.0      1.0   39.07                4.0         44.313613  \n",
       "1        2600   5.0      3.0  120.00                1.0        122.189167  \n",
       "3        1521   3.0      1.0   95.00                4.0        123.256927  \n",
       "5        1170   2.0      1.0   38.00                4.0         95.671020  \n",
       "11       2785   5.0      3.0  295.00                1.0        146.637368  "
      ]
     },
     "execution_count": 11,
     "metadata": {},
     "output_type": "execute_result"
    }
   ],
   "source": [
    "df.head()"
   ]
  },
  {
   "cell_type": "code",
   "execution_count": 12,
   "metadata": {},
   "outputs": [
    {
     "data": {
      "text/plain": [
       "array(['2 BHK', '4 Bedroom', '3 BHK', '3 Bedroom', '1 RK', '4 BHK',\n",
       "       '1 BHK', '5 BHK', '11 BHK', '5 Bedroom', '9 BHK', '2 Bedroom',\n",
       "       '6 BHK', '7 BHK', '6 Bedroom'], dtype=object)"
      ]
     },
     "execution_count": 12,
     "metadata": {},
     "output_type": "execute_result"
    }
   ],
   "source": [
    "## encode size\n",
    "\n",
    "df.dropna(inplace=True)\n",
    "df=df[~df['size'].isnull()]\n",
    "df['size'].unique()"
   ]
  },
  {
   "cell_type": "code",
   "execution_count": 13,
   "metadata": {},
   "outputs": [
    {
     "data": {
      "text/plain": [
       "0       2\n",
       "1       4\n",
       "3       3\n",
       "5       2\n",
       "11      4\n",
       "       ..\n",
       "7488    2\n",
       "7489    3\n",
       "7490    3\n",
       "7493    3\n",
       "7494    2\n",
       "Name: encoded_size, Length: 4176, dtype: object"
      ]
     },
     "execution_count": 13,
     "metadata": {},
     "output_type": "execute_result"
    }
   ],
   "source": [
    "df['encoded_size']=df['size'].str.replace(' BHK','').str.replace(' Bedroom','').str.replace(' RK','')\n",
    "df['encoded_size']"
   ]
  },
  {
   "cell_type": "code",
   "execution_count": 14,
   "metadata": {},
   "outputs": [
    {
     "data": {
      "text/plain": [
       "0       2.0\n",
       "1       4.0\n",
       "3       3.0\n",
       "5       2.0\n",
       "11      4.0\n",
       "       ... \n",
       "7488    2.0\n",
       "7489    3.0\n",
       "7490    3.0\n",
       "7493    3.0\n",
       "7494    2.0\n",
       "Name: encoded_size, Length: 4176, dtype: float64"
      ]
     },
     "execution_count": 14,
     "metadata": {},
     "output_type": "execute_result"
    }
   ],
   "source": [
    "df['encoded_size']=df['encoded_size'].astype(float)\n",
    "df['encoded_size']"
   ]
  },
  {
   "cell_type": "code",
   "execution_count": 15,
   "metadata": {},
   "outputs": [],
   "source": [
    "### encode society\n",
    "df=df[~df['society'].isnull()]\n",
    "mean_price=df.groupby('society')['price'].mean()\n",
    "j=0\n",
    "for i in df['society']:\n",
    "    df.loc[j,'encoded_society']=mean_price[i]\n",
    "    j=j+1\n",
    "   "
   ]
  },
  {
   "cell_type": "code",
   "execution_count": 16,
   "metadata": {},
   "outputs": [],
   "source": [
    "df=df[~df['encoded_society'].isnull()]"
   ]
  },
  {
   "cell_type": "code",
   "execution_count": 17,
   "metadata": {},
   "outputs": [],
   "source": [
    "### encode total_sqft\n",
    "\n",
    "df=df[~df['total_sqft'].isnull()]\n",
    "df=df[~df['total_sqft'].str.contains('-')]"
   ]
  },
  {
   "cell_type": "code",
   "execution_count": 18,
   "metadata": {},
   "outputs": [
    {
     "data": {
      "text/plain": [
       "array(['1056', '2600', '1521', '1170', '2785', '1000', '2250', '1175',\n",
       "       '1180', '1540', '2770', '1755', '2800', '510', '660', '1151',\n",
       "       '1025', '1075', '1760', '1693', '700', '1724', '1254', '600',\n",
       "       '1330.74', '970', '1459', '1270', '1670', '2010', '1185', '1600',\n",
       "       '1200', '1500', '845', '5700', '1160', '1140', '1358', '1569',\n",
       "       '1240', '2089', '2511', '1660', '1326', '1499', '708', '1060',\n",
       "       '1296', '2894', '2502', '650', '2400', '1007', '1640', '1260',\n",
       "       '1413', '1116', '1530', '2497', '1427', '2061', '1282', '1870',\n",
       "       '880', '1535', '950', '1360', '3050', '1563.05', '1167', '890',\n",
       "       '1612', '1710', '957', '1125', '1020', '1735', '2050', '1063',\n",
       "       '1904', '2000', '1425', '1470', '450', '1152', '1350', '1550',\n",
       "       '705', '770', '1242', '1700', '2144', '1704', '1070', '1327',\n",
       "       '1400', '1225', '1909', '1359', '1595', '1475', '1580', '1295',\n",
       "       '589', '1787', '984', '2405', '1080', '1153', '1148', '1110',\n",
       "       '1100', '1290', '1933', '645', '1644', '1285', '910', '1577',\n",
       "       '4050', '2420', '800', '1108', '3045', '2900', '1162', '1035',\n",
       "       '1866', '1804', '1868', '2026', '1210', '4111', '1762', '1252',\n",
       "       '861', '1420', '1490', '1084', '1015', '1017', '1069', '1349',\n",
       "       '1005', '1417', '1863', '1010', '1450', '1847', '525', '1665',\n",
       "       '1664', '1850', '1438', '1560', '1280', '1113', '1385', '1128',\n",
       "       '2390', '1464', '1150', '1645', '1192', '2135', '1173', '3122',\n",
       "       '1250', '1325', '1800', '11', '1508', '1592', '1388', '630',\n",
       "       '3252', '1308', '530', '930', '1380', '2483', '1166', '1050',\n",
       "       '2023.71', '1935', '451', '1801', '1826', '1245', '1145', '825',\n",
       "       '1113.27', '1460', '1656', '1208', '1910', '750', '1991', '1105',\n",
       "       '985', '1590', '1120', '1194', '1419', '1630', '1750', '1404',\n",
       "       '1715', '1752.12', '1346', '3309', '1190', '1620', '5000', '2450',\n",
       "       '1220', '850', '900', '1130', '1320', '929', '1753', '4500',\n",
       "       '1196', '1040', '1511', '1545', '883', '1195', '1246', '2805',\n",
       "       '1353', '1599', '5230', '1155', '1867', '1251', '1028', '1222',\n",
       "       '1372', '1135', '3450', '1102', '656', '595', '2225', '1126',\n",
       "       '4144', '2100', '2230', '1305', '1230', '715', '2500', '1578',\n",
       "       '1253', '961', '1709', '1249', '2791', '834', '891', '1133',\n",
       "       '1090', '1920', '1374', '711', '1720', '1375', '469', '3800',\n",
       "       '1820', '2378', '1641', '1702', '1141', '35000', '1875', '1683',\n",
       "       '2118', '2300', '810', '1045', '1337', '1570', '1855', '1094',\n",
       "       '1202', '1688', '1235', '3205', '1415', '2330', '805', '1468',\n",
       "       '4300', '2280', '1341', '1300', '1101', '667', '735', '1215',\n",
       "       '820', '1779', '1650', '1694', '2376', '674', '445', '1618',\n",
       "       '2181', '1556', '1179', '1275', '940', '1615', '920', '1602',\n",
       "       '1717', '2119', '1566', '2830', '1091', '3670', '1950', '1705',\n",
       "       '1114', '1339', '1691', '1142', '1976', '995', '884', '1342',\n",
       "       '2072', '1278', '1575', '975', '1174', '918', '1082', '1554',\n",
       "       '1680', '2470', '2825', '2480', '1799', '400', '1047', '1495',\n",
       "       '3260', '3500', '1639', '1303', '1440', '1725', '1891', '1161',\n",
       "       '665', '1255', '2112.95', '1810', '1485', '2268', '1843', '1209',\n",
       "       '1315', '1563', '3235', '1036', '1662', '1234', '1403', '3900',\n",
       "       '1405', '2557', '1480', '1340', '1330', '1824', '1561', '1243',\n",
       "       '1265', '1115', '1357', '1093', '1865', '1039', '1985', '4000',\n",
       "       '775', '1520', '6000', '1117', '1937', '1053', '1198', '1625',\n",
       "       '1397', '1523', '1897', '3095', '1390', '697', '710', '3335',\n",
       "       '1024', '1510', '1945', '1008', '2689', '1697', '856', '1621',\n",
       "       '1484', '14000', '500', '550', '1384', '2150', '4800', '1984',\n",
       "       '3000', '1960', '3024', '1586', '2325', '924', '1558.67', '1542',\n",
       "       '2750', '3596', '1596', '1009', '1726', '3100', '925', '1395',\n",
       "       '1121', '1606', '4634', '1206', '1232', '680', '1355', '1430',\n",
       "       '1610', '1143', '3467.86', '980', '1262', '2060', '1730', '2195',\n",
       "       '1085', '1739', '935', '1178', '1065', '1835', '2090', '1519',\n",
       "       '1267', '1146', '921', '1197', '3073', '1654', '1367', '1410',\n",
       "       '1614', '1363', '1890', '2197', '3522', '764', '1445', '1381',\n",
       "       '1157', '1790', '2465', '865', '1756', '628', '1765', '1532',\n",
       "       '804.1', '1272', '1205', '1291', '1012', '3356', '2790', '1297',\n",
       "       '1373', '1052', '1808', '3516', '1537', '1512', '1378', '1277',\n",
       "       '3198', '1690', '520', '1219', '1564', '1482', '1469', '1745',\n",
       "       '2700', '1269.72', '1266', '1168', '1552', '1310', '1515', '2070',\n",
       "       '1815', '654', '1616', '1306', '1626', '1585', '1193', '1678',\n",
       "       '1500Sq. Meter', '2422', '882', '1757', '1062', '1078',\n",
       "       '142.61Sq. Meter', '2028', '812', '840', '914', '927', '1699',\n",
       "       '1476', '2160', '1429', '1574Sq. Yards', '1026', '2690', '3606',\n",
       "       '1258', '3630', '1494', '1632', '3012', '1188', '1072', '726',\n",
       "       '1345', '1743', '640', '972', '1840', '2479.13', '1846', '3042',\n",
       "       '1068', '1354', '2204', '1329', '916', '688', '1331', '686',\n",
       "       '2106', '1718', '1936', '2172.65', '1685', '740', '896', '2025',\n",
       "       '2475', '1455', '3155', '1980', '1034', '2045', '671', '1156',\n",
       "       '2017', '1635', '1139', '3951', '360', '1343', '1852', '1546',\n",
       "       '1424', '1398', '1322', '1571', '1031', '1109', '1003', '2519',\n",
       "       '1837', '1238', '1673', '1112', '545', '1533', '1352', '1754',\n",
       "       '870', '1183', '3067', '1929', '1525', '1775', '1268', '1687',\n",
       "       '983', '2039', '1934', '3600', '877', '936', '1901', '1819',\n",
       "       '1845', '2254', '1893', '3025', '1233', '987', '1030', '2556',\n",
       "       '946', '2121', '1788', '1144', '1646', '4395', '1995', '1767',\n",
       "       '1692', '1408', '4850', '1942', '668', '1583', '3750', '1022',\n",
       "       '1018', '3526', '395', '2650', '1259', '1216', '1428', '605',\n",
       "       '1444', '1452.55', '1448', '1825', '296', '1058', '2503', '2524',\n",
       "       '1634', '2200', '1603', '1313', '1573', '1279', '2526', '965',\n",
       "       '1447', '1055', '1304', '990', '1239', '1365', '1165', '1776.42',\n",
       "       '1107', '1536', '1187', '11338', '3190', '1418', '1917', '955',\n",
       "       '1370', '3297', '693', '1021', '3200', '1311', '1608', '2257',\n",
       "       '1263', '1043', '590', '1900', '1299', '1124', '871', '1118',\n",
       "       '1098', '1051', '1478', '823', '1132', '760', '1728', '2215',\n",
       "       '440', '1562', '1655', '2105', '912', '606', '527', '2321', '1186',\n",
       "       '2167', '1274', '117Sq. Yards', '780', '904', '1111', '977',\n",
       "       '2540', '795', '1463', '2065', '1549', '1452.19', '960', '2849',\n",
       "       '1092', '734', '799', '3875', '1366', '3010', '755', '4235',\n",
       "       '2002', '1419.59', '1862', '5530', '1392', '1798', '1675', '1248',\n",
       "       '1147', '1527', '1332', '1703', '933', '915', '2392', '1149',\n",
       "       '2180', '1818', '3400', '1541', '4772', '1286', '3960', '1605',\n",
       "       '1553', '1652', '5400', '794', '4051', '8321', '1777', '1576',\n",
       "       '648', '2350', '2721', '1314', '2220', '1888', '2409', '1749',\n",
       "       '4190', '1364', '1247', '1672', '500Sq. Yards', '1555', '2779',\n",
       "       '1224', '1517', '1223', '1351', '1020.07', '3537', '615', '1083',\n",
       "       '460', '1199', '956', '2559', '2363', '3895', '885', '1451.5',\n",
       "       '3016', '1336', '673', '1785', '1719', '664', '1011', '875',\n",
       "       '1231', '2408', '2240', '1584.01', '685', '1858', '3530', '1335',\n",
       "       '1205.47', '923', '3595', '944', '832', '1457', '420', '1127',\n",
       "       '858', '1689.28', '1241', '2340', '596', '620', '1318', '4428',\n",
       "       '2912', '1301', '1819.18', '2145', '2059', '1269', '902', '4025',\n",
       "       '1676', '1137', '1033', '2940', '1682', '1371', '1203', '350',\n",
       "       '2760', '769', '1712', '1089', '1106', '1591', '1918', '1344',\n",
       "       '2113', '1884', '1027', '703', '1302', '1488', '1159', '1386',\n",
       "       '1839', '1513', '892', '1104', '4818', '1559', '1896', '3216',\n",
       "       '1023', '1574', '1452', '1880', '1097', '937', '1653', '1212',\n",
       "       '3436', '2776', '1531', '1965', '1740', '1827', '1925', '2651',\n",
       "       '1752', '2270', '2006', '2342'], dtype=object)"
      ]
     },
     "execution_count": 18,
     "metadata": {},
     "output_type": "execute_result"
    }
   ],
   "source": [
    "df['total_sqft'].unique()"
   ]
  },
  {
   "cell_type": "code",
   "execution_count": 19,
   "metadata": {},
   "outputs": [
    {
     "name": "stderr",
     "output_type": "stream",
     "text": [
      "/tmp/ipykernel_2718/1079164545.py:1: FutureWarning: The default value of regex will change from True to False in a future version.\n",
      "  df['total_sqft']=df['total_sqft'].str.replace('Sq. Meter','').str.replace('Sq. Yards','')\n"
     ]
    }
   ],
   "source": [
    "df['total_sqft']=df['total_sqft'].str.replace('Sq. Meter','').str.replace('Sq. Yards','')"
   ]
  },
  {
   "cell_type": "code",
   "execution_count": 20,
   "metadata": {},
   "outputs": [],
   "source": [
    "df['total_sqft']=df['total_sqft'].astype(float)"
   ]
  },
  {
   "cell_type": "code",
   "execution_count": 21,
   "metadata": {},
   "outputs": [
    {
     "data": {
      "text/html": [
       "<div>\n",
       "<style scoped>\n",
       "    .dataframe tbody tr th:only-of-type {\n",
       "        vertical-align: middle;\n",
       "    }\n",
       "\n",
       "    .dataframe tbody tr th {\n",
       "        vertical-align: top;\n",
       "    }\n",
       "\n",
       "    .dataframe thead th {\n",
       "        text-align: right;\n",
       "    }\n",
       "</style>\n",
       "<table border=\"1\" class=\"dataframe\">\n",
       "  <thead>\n",
       "    <tr style=\"text-align: right;\">\n",
       "      <th></th>\n",
       "      <th>area_type</th>\n",
       "      <th>location</th>\n",
       "      <th>size</th>\n",
       "      <th>society</th>\n",
       "      <th>total_sqft</th>\n",
       "      <th>bath</th>\n",
       "      <th>balcony</th>\n",
       "      <th>price</th>\n",
       "      <th>encoded_area_type</th>\n",
       "      <th>encoded_location</th>\n",
       "      <th>encoded_size</th>\n",
       "      <th>encoded_society</th>\n",
       "    </tr>\n",
       "  </thead>\n",
       "  <tbody>\n",
       "    <tr>\n",
       "      <th>0</th>\n",
       "      <td>Super built-up  Area</td>\n",
       "      <td>Electronic City Phase II</td>\n",
       "      <td>2 BHK</td>\n",
       "      <td>Coomee</td>\n",
       "      <td>1056.0</td>\n",
       "      <td>2.0</td>\n",
       "      <td>1.0</td>\n",
       "      <td>39.07</td>\n",
       "      <td>4.0</td>\n",
       "      <td>44.313613</td>\n",
       "      <td>2.0</td>\n",
       "      <td>53.512500</td>\n",
       "    </tr>\n",
       "    <tr>\n",
       "      <th>1</th>\n",
       "      <td>Plot  Area</td>\n",
       "      <td>Chikka Tirupathi</td>\n",
       "      <td>4 Bedroom</td>\n",
       "      <td>Theanmp</td>\n",
       "      <td>2600.0</td>\n",
       "      <td>5.0</td>\n",
       "      <td>3.0</td>\n",
       "      <td>120.00</td>\n",
       "      <td>1.0</td>\n",
       "      <td>122.189167</td>\n",
       "      <td>4.0</td>\n",
       "      <td>126.000000</td>\n",
       "    </tr>\n",
       "    <tr>\n",
       "      <th>3</th>\n",
       "      <td>Super built-up  Area</td>\n",
       "      <td>Lingadheeranahalli</td>\n",
       "      <td>3 BHK</td>\n",
       "      <td>Soiewre</td>\n",
       "      <td>1521.0</td>\n",
       "      <td>3.0</td>\n",
       "      <td>1.0</td>\n",
       "      <td>95.00</td>\n",
       "      <td>4.0</td>\n",
       "      <td>123.256927</td>\n",
       "      <td>3.0</td>\n",
       "      <td>38.000000</td>\n",
       "    </tr>\n",
       "    <tr>\n",
       "      <th>5</th>\n",
       "      <td>Super built-up  Area</td>\n",
       "      <td>Whitefield</td>\n",
       "      <td>2 BHK</td>\n",
       "      <td>DuenaTa</td>\n",
       "      <td>1170.0</td>\n",
       "      <td>2.0</td>\n",
       "      <td>1.0</td>\n",
       "      <td>38.00</td>\n",
       "      <td>4.0</td>\n",
       "      <td>95.671020</td>\n",
       "      <td>2.0</td>\n",
       "      <td>38.000000</td>\n",
       "    </tr>\n",
       "    <tr>\n",
       "      <th>11</th>\n",
       "      <td>Plot  Area</td>\n",
       "      <td>Whitefield</td>\n",
       "      <td>4 Bedroom</td>\n",
       "      <td>Prrry M</td>\n",
       "      <td>2785.0</td>\n",
       "      <td>5.0</td>\n",
       "      <td>3.0</td>\n",
       "      <td>295.00</td>\n",
       "      <td>1.0</td>\n",
       "      <td>146.637368</td>\n",
       "      <td>4.0</td>\n",
       "      <td>127.786667</td>\n",
       "    </tr>\n",
       "  </tbody>\n",
       "</table>\n",
       "</div>"
      ],
      "text/plain": [
       "               area_type                  location       size  society  \\\n",
       "0   Super built-up  Area  Electronic City Phase II      2 BHK  Coomee    \n",
       "1             Plot  Area          Chikka Tirupathi  4 Bedroom  Theanmp   \n",
       "3   Super built-up  Area        Lingadheeranahalli      3 BHK  Soiewre   \n",
       "5   Super built-up  Area                Whitefield      2 BHK  DuenaTa   \n",
       "11            Plot  Area                Whitefield  4 Bedroom  Prrry M   \n",
       "\n",
       "    total_sqft  bath  balcony   price  encoded_area_type  encoded_location  \\\n",
       "0       1056.0   2.0      1.0   39.07                4.0         44.313613   \n",
       "1       2600.0   5.0      3.0  120.00                1.0        122.189167   \n",
       "3       1521.0   3.0      1.0   95.00                4.0        123.256927   \n",
       "5       1170.0   2.0      1.0   38.00                4.0         95.671020   \n",
       "11      2785.0   5.0      3.0  295.00                1.0        146.637368   \n",
       "\n",
       "    encoded_size  encoded_society  \n",
       "0            2.0        53.512500  \n",
       "1            4.0       126.000000  \n",
       "3            3.0        38.000000  \n",
       "5            2.0        38.000000  \n",
       "11           4.0       127.786667  "
      ]
     },
     "execution_count": 21,
     "metadata": {},
     "output_type": "execute_result"
    }
   ],
   "source": [
    "df.head()"
   ]
  },
  {
   "cell_type": "code",
   "execution_count": 22,
   "metadata": {},
   "outputs": [
    {
     "data": {
      "text/plain": [
       "Index(['area_type', 'location', 'size', 'society', 'total_sqft', 'bath',\n",
       "       'balcony', 'price', 'encoded_area_type', 'encoded_location',\n",
       "       'encoded_size', 'encoded_society'],\n",
       "      dtype='object')"
      ]
     },
     "execution_count": 22,
     "metadata": {},
     "output_type": "execute_result"
    }
   ],
   "source": [
    "df.columns"
   ]
  },
  {
   "cell_type": "markdown",
   "metadata": {},
   "source": [
    "### train dataset"
   ]
  },
  {
   "cell_type": "code",
   "execution_count": 23,
   "metadata": {},
   "outputs": [],
   "source": [
    "## independent anddependent data\n",
    "\n",
    "X=df[['encoded_area_type', 'encoded_location','encoded_size', 'encoded_society','total_sqft', 'bath','balcony']]\n",
    "y=df['price']\n"
   ]
  },
  {
   "cell_type": "code",
   "execution_count": 47,
   "metadata": {},
   "outputs": [],
   "source": [
    "### train test split\n",
    "\n",
    "from sklearn.model_selection import train_test_split\n",
    "\n",
    "X_train,X_test,y_train,y_test=train_test_split(X,y,test_size=0.3,random_state=42)"
   ]
  },
  {
   "cell_type": "code",
   "execution_count": 48,
   "metadata": {},
   "outputs": [],
   "source": [
    "#### standard scalling\n",
    "\n",
    "from sklearn.preprocessing import StandardScaler\n",
    "\n",
    "scaler=StandardScaler()\n",
    "X_train=scaler.fit_transform(X_train)\n",
    "X_test=scaler.transform(X_test)"
   ]
  },
  {
   "cell_type": "code",
   "execution_count": 49,
   "metadata": {},
   "outputs": [],
   "source": [
    "# Q4. You have built an SVM regression model using a polynomial kernel and are trying to select the best\n",
    "# metric to evaluate its performance. You have calculated both MSE and RMSE and found that both values\n",
    "# are very close. Which metric should you choose to use in this case?"
   ]
  },
  {
   "cell_type": "code",
   "execution_count": 50,
   "metadata": {},
   "outputs": [
    {
     "data": {
      "text/html": [
       "<style>#sk-container-id-4 {color: black;background-color: white;}#sk-container-id-4 pre{padding: 0;}#sk-container-id-4 div.sk-toggleable {background-color: white;}#sk-container-id-4 label.sk-toggleable__label {cursor: pointer;display: block;width: 100%;margin-bottom: 0;padding: 0.3em;box-sizing: border-box;text-align: center;}#sk-container-id-4 label.sk-toggleable__label-arrow:before {content: \"▸\";float: left;margin-right: 0.25em;color: #696969;}#sk-container-id-4 label.sk-toggleable__label-arrow:hover:before {color: black;}#sk-container-id-4 div.sk-estimator:hover label.sk-toggleable__label-arrow:before {color: black;}#sk-container-id-4 div.sk-toggleable__content {max-height: 0;max-width: 0;overflow: hidden;text-align: left;background-color: #f0f8ff;}#sk-container-id-4 div.sk-toggleable__content pre {margin: 0.2em;color: black;border-radius: 0.25em;background-color: #f0f8ff;}#sk-container-id-4 input.sk-toggleable__control:checked~div.sk-toggleable__content {max-height: 200px;max-width: 100%;overflow: auto;}#sk-container-id-4 input.sk-toggleable__control:checked~label.sk-toggleable__label-arrow:before {content: \"▾\";}#sk-container-id-4 div.sk-estimator input.sk-toggleable__control:checked~label.sk-toggleable__label {background-color: #d4ebff;}#sk-container-id-4 div.sk-label input.sk-toggleable__control:checked~label.sk-toggleable__label {background-color: #d4ebff;}#sk-container-id-4 input.sk-hidden--visually {border: 0;clip: rect(1px 1px 1px 1px);clip: rect(1px, 1px, 1px, 1px);height: 1px;margin: -1px;overflow: hidden;padding: 0;position: absolute;width: 1px;}#sk-container-id-4 div.sk-estimator {font-family: monospace;background-color: #f0f8ff;border: 1px dotted black;border-radius: 0.25em;box-sizing: border-box;margin-bottom: 0.5em;}#sk-container-id-4 div.sk-estimator:hover {background-color: #d4ebff;}#sk-container-id-4 div.sk-parallel-item::after {content: \"\";width: 100%;border-bottom: 1px solid gray;flex-grow: 1;}#sk-container-id-4 div.sk-label:hover label.sk-toggleable__label {background-color: #d4ebff;}#sk-container-id-4 div.sk-serial::before {content: \"\";position: absolute;border-left: 1px solid gray;box-sizing: border-box;top: 0;bottom: 0;left: 50%;z-index: 0;}#sk-container-id-4 div.sk-serial {display: flex;flex-direction: column;align-items: center;background-color: white;padding-right: 0.2em;padding-left: 0.2em;position: relative;}#sk-container-id-4 div.sk-item {position: relative;z-index: 1;}#sk-container-id-4 div.sk-parallel {display: flex;align-items: stretch;justify-content: center;background-color: white;position: relative;}#sk-container-id-4 div.sk-item::before, #sk-container-id-4 div.sk-parallel-item::before {content: \"\";position: absolute;border-left: 1px solid gray;box-sizing: border-box;top: 0;bottom: 0;left: 50%;z-index: -1;}#sk-container-id-4 div.sk-parallel-item {display: flex;flex-direction: column;z-index: 1;position: relative;background-color: white;}#sk-container-id-4 div.sk-parallel-item:first-child::after {align-self: flex-end;width: 50%;}#sk-container-id-4 div.sk-parallel-item:last-child::after {align-self: flex-start;width: 50%;}#sk-container-id-4 div.sk-parallel-item:only-child::after {width: 0;}#sk-container-id-4 div.sk-dashed-wrapped {border: 1px dashed gray;margin: 0 0.4em 0.5em 0.4em;box-sizing: border-box;padding-bottom: 0.4em;background-color: white;}#sk-container-id-4 div.sk-label label {font-family: monospace;font-weight: bold;display: inline-block;line-height: 1.2em;}#sk-container-id-4 div.sk-label-container {text-align: center;}#sk-container-id-4 div.sk-container {/* jupyter's `normalize.less` sets `[hidden] { display: none; }` but bootstrap.min.css set `[hidden] { display: none !important; }` so we also need the `!important` here to be able to override the default hidden behavior on the sphinx rendered scikit-learn.org. See: https://github.com/scikit-learn/scikit-learn/issues/21755 */display: inline-block !important;position: relative;}#sk-container-id-4 div.sk-text-repr-fallback {display: none;}</style><div id=\"sk-container-id-4\" class=\"sk-top-container\"><div class=\"sk-text-repr-fallback\"><pre>SVR(kernel=&#x27;poly&#x27;)</pre><b>In a Jupyter environment, please rerun this cell to show the HTML representation or trust the notebook. <br />On GitHub, the HTML representation is unable to render, please try loading this page with nbviewer.org.</b></div><div class=\"sk-container\" hidden><div class=\"sk-item\"><div class=\"sk-estimator sk-toggleable\"><input class=\"sk-toggleable__control sk-hidden--visually\" id=\"sk-estimator-id-8\" type=\"checkbox\" checked><label for=\"sk-estimator-id-8\" class=\"sk-toggleable__label sk-toggleable__label-arrow\">SVR</label><div class=\"sk-toggleable__content\"><pre>SVR(kernel=&#x27;poly&#x27;)</pre></div></div></div></div></div>"
      ],
      "text/plain": [
       "SVR(kernel='poly')"
      ]
     },
     "execution_count": 50,
     "metadata": {},
     "output_type": "execute_result"
    }
   ],
   "source": [
    "# train model\n",
    "\n",
    "from sklearn.svm import SVR\n",
    "\n",
    "svr=SVR(kernel='poly')\n",
    "svr.fit(X_train,y_train)"
   ]
  },
  {
   "cell_type": "code",
   "execution_count": 51,
   "metadata": {},
   "outputs": [],
   "source": [
    "# predict test value\n",
    "y_pred=svr.predict(X_test)"
   ]
  },
  {
   "cell_type": "code",
   "execution_count": 52,
   "metadata": {},
   "outputs": [
    {
     "name": "stdout",
     "output_type": "stream",
     "text": [
      "mse : 5185.772798313161\n",
      "rmse : 72.01231004705488\n"
     ]
    }
   ],
   "source": [
    "## model accuracy\n",
    "\n",
    "from sklearn.metrics import mean_squared_error\n",
    "mse=mean_squared_error(y_test,y_pred)\n",
    "print('mse :',mse)\n",
    "print('rmse :',mse**(1/2))"
   ]
  },
  {
   "cell_type": "code",
   "execution_count": null,
   "metadata": {},
   "outputs": [],
   "source": []
  },
  {
   "cell_type": "markdown",
   "metadata": {},
   "source": [
    "**Q5. You are comparing the performance of different SVM regression models using different kernels (linear, polynomial, and RBF) and are trying to select the best evaluation metric. Which metric would be most\n",
    "appropriate if your goal is to measure how well the model explains the variance in the target variable?**\n",
    "\n",
    "If your goal is to measure how well the model explains the variance in the target variable, the most appropriate evaluation metric would be the Coefficient of Determination (R-squared or R^2)."
   ]
  },
  {
   "cell_type": "code",
   "execution_count": 53,
   "metadata": {},
   "outputs": [],
   "source": [
    "param_grid={'kernel':['linear', 'polynomial','RBF']}"
   ]
  },
  {
   "cell_type": "code",
   "execution_count": 54,
   "metadata": {},
   "outputs": [
    {
     "name": "stdout",
     "output_type": "stream",
     "text": [
      "Fitting 5 folds for each of 3 candidates, totalling 15 fits\n",
      "[CV 1/5] END .....................kernel=linear;, score=0.731 total time=   0.1s\n",
      "[CV 2/5] END .....................kernel=linear;, score=0.386 total time=   0.1s\n",
      "[CV 3/5] END ....................kernel=linear;, score=-1.973 total time=   0.1s\n",
      "[CV 4/5] END .....................kernel=linear;, score=0.603 total time=   0.1s\n",
      "[CV 5/5] END .....................kernel=linear;, score=0.747 total time=   0.1s\n",
      "[CV 1/5] END ...................kernel=polynomial;, score=nan total time=   0.0s\n",
      "[CV 2/5] END ...................kernel=polynomial;, score=nan total time=   0.0s\n",
      "[CV 3/5] END ...................kernel=polynomial;, score=nan total time=   0.0s\n",
      "[CV 4/5] END ...................kernel=polynomial;, score=nan total time=   0.0s\n",
      "[CV 5/5] END ...................kernel=polynomial;, score=nan total time=   0.0s\n",
      "[CV 1/5] END ..........................kernel=RBF;, score=nan total time=   0.0s\n",
      "[CV 2/5] END ..........................kernel=RBF;, score=nan total time=   0.0s\n",
      "[CV 3/5] END ..........................kernel=RBF;, score=nan total time=   0.0s\n",
      "[CV 4/5] END ..........................kernel=RBF;, score=nan total time=   0.0s\n",
      "[CV 5/5] END ..........................kernel=RBF;, score=nan total time=   0.0s\n"
     ]
    },
    {
     "name": "stderr",
     "output_type": "stream",
     "text": [
      "/opt/conda/lib/python3.10/site-packages/sklearn/model_selection/_validation.py:378: FitFailedWarning: \n",
      "10 fits failed out of a total of 15.\n",
      "The score on these train-test partitions for these parameters will be set to nan.\n",
      "If these failures are not expected, you can try to debug them by setting error_score='raise'.\n",
      "\n",
      "Below are more details about the failures:\n",
      "--------------------------------------------------------------------------------\n",
      "5 fits failed with the following error:\n",
      "Traceback (most recent call last):\n",
      "  File \"/opt/conda/lib/python3.10/site-packages/sklearn/model_selection/_validation.py\", line 686, in _fit_and_score\n",
      "    estimator.fit(X_train, y_train, **fit_params)\n",
      "  File \"/opt/conda/lib/python3.10/site-packages/sklearn/svm/_base.py\", line 180, in fit\n",
      "    self._validate_params()\n",
      "  File \"/opt/conda/lib/python3.10/site-packages/sklearn/base.py\", line 570, in _validate_params\n",
      "    validate_parameter_constraints(\n",
      "  File \"/opt/conda/lib/python3.10/site-packages/sklearn/utils/_param_validation.py\", line 97, in validate_parameter_constraints\n",
      "    raise InvalidParameterError(\n",
      "sklearn.utils._param_validation.InvalidParameterError: The 'kernel' parameter of SVR must be a str among {'linear', 'sigmoid', 'poly', 'rbf', 'precomputed'} or a callable. Got 'polynomial' instead.\n",
      "\n",
      "--------------------------------------------------------------------------------\n",
      "5 fits failed with the following error:\n",
      "Traceback (most recent call last):\n",
      "  File \"/opt/conda/lib/python3.10/site-packages/sklearn/model_selection/_validation.py\", line 686, in _fit_and_score\n",
      "    estimator.fit(X_train, y_train, **fit_params)\n",
      "  File \"/opt/conda/lib/python3.10/site-packages/sklearn/svm/_base.py\", line 180, in fit\n",
      "    self._validate_params()\n",
      "  File \"/opt/conda/lib/python3.10/site-packages/sklearn/base.py\", line 570, in _validate_params\n",
      "    validate_parameter_constraints(\n",
      "  File \"/opt/conda/lib/python3.10/site-packages/sklearn/utils/_param_validation.py\", line 97, in validate_parameter_constraints\n",
      "    raise InvalidParameterError(\n",
      "sklearn.utils._param_validation.InvalidParameterError: The 'kernel' parameter of SVR must be a str among {'linear', 'sigmoid', 'poly', 'rbf', 'precomputed'} or a callable. Got 'RBF' instead.\n",
      "\n",
      "  warnings.warn(some_fits_failed_message, FitFailedWarning)\n",
      "/opt/conda/lib/python3.10/site-packages/sklearn/model_selection/_search.py:953: UserWarning: One or more of the test scores are non-finite: [0.09909303        nan        nan]\n",
      "  warnings.warn(\n"
     ]
    },
    {
     "data": {
      "text/html": [
       "<style>#sk-container-id-5 {color: black;background-color: white;}#sk-container-id-5 pre{padding: 0;}#sk-container-id-5 div.sk-toggleable {background-color: white;}#sk-container-id-5 label.sk-toggleable__label {cursor: pointer;display: block;width: 100%;margin-bottom: 0;padding: 0.3em;box-sizing: border-box;text-align: center;}#sk-container-id-5 label.sk-toggleable__label-arrow:before {content: \"▸\";float: left;margin-right: 0.25em;color: #696969;}#sk-container-id-5 label.sk-toggleable__label-arrow:hover:before {color: black;}#sk-container-id-5 div.sk-estimator:hover label.sk-toggleable__label-arrow:before {color: black;}#sk-container-id-5 div.sk-toggleable__content {max-height: 0;max-width: 0;overflow: hidden;text-align: left;background-color: #f0f8ff;}#sk-container-id-5 div.sk-toggleable__content pre {margin: 0.2em;color: black;border-radius: 0.25em;background-color: #f0f8ff;}#sk-container-id-5 input.sk-toggleable__control:checked~div.sk-toggleable__content {max-height: 200px;max-width: 100%;overflow: auto;}#sk-container-id-5 input.sk-toggleable__control:checked~label.sk-toggleable__label-arrow:before {content: \"▾\";}#sk-container-id-5 div.sk-estimator input.sk-toggleable__control:checked~label.sk-toggleable__label {background-color: #d4ebff;}#sk-container-id-5 div.sk-label input.sk-toggleable__control:checked~label.sk-toggleable__label {background-color: #d4ebff;}#sk-container-id-5 input.sk-hidden--visually {border: 0;clip: rect(1px 1px 1px 1px);clip: rect(1px, 1px, 1px, 1px);height: 1px;margin: -1px;overflow: hidden;padding: 0;position: absolute;width: 1px;}#sk-container-id-5 div.sk-estimator {font-family: monospace;background-color: #f0f8ff;border: 1px dotted black;border-radius: 0.25em;box-sizing: border-box;margin-bottom: 0.5em;}#sk-container-id-5 div.sk-estimator:hover {background-color: #d4ebff;}#sk-container-id-5 div.sk-parallel-item::after {content: \"\";width: 100%;border-bottom: 1px solid gray;flex-grow: 1;}#sk-container-id-5 div.sk-label:hover label.sk-toggleable__label {background-color: #d4ebff;}#sk-container-id-5 div.sk-serial::before {content: \"\";position: absolute;border-left: 1px solid gray;box-sizing: border-box;top: 0;bottom: 0;left: 50%;z-index: 0;}#sk-container-id-5 div.sk-serial {display: flex;flex-direction: column;align-items: center;background-color: white;padding-right: 0.2em;padding-left: 0.2em;position: relative;}#sk-container-id-5 div.sk-item {position: relative;z-index: 1;}#sk-container-id-5 div.sk-parallel {display: flex;align-items: stretch;justify-content: center;background-color: white;position: relative;}#sk-container-id-5 div.sk-item::before, #sk-container-id-5 div.sk-parallel-item::before {content: \"\";position: absolute;border-left: 1px solid gray;box-sizing: border-box;top: 0;bottom: 0;left: 50%;z-index: -1;}#sk-container-id-5 div.sk-parallel-item {display: flex;flex-direction: column;z-index: 1;position: relative;background-color: white;}#sk-container-id-5 div.sk-parallel-item:first-child::after {align-self: flex-end;width: 50%;}#sk-container-id-5 div.sk-parallel-item:last-child::after {align-self: flex-start;width: 50%;}#sk-container-id-5 div.sk-parallel-item:only-child::after {width: 0;}#sk-container-id-5 div.sk-dashed-wrapped {border: 1px dashed gray;margin: 0 0.4em 0.5em 0.4em;box-sizing: border-box;padding-bottom: 0.4em;background-color: white;}#sk-container-id-5 div.sk-label label {font-family: monospace;font-weight: bold;display: inline-block;line-height: 1.2em;}#sk-container-id-5 div.sk-label-container {text-align: center;}#sk-container-id-5 div.sk-container {/* jupyter's `normalize.less` sets `[hidden] { display: none; }` but bootstrap.min.css set `[hidden] { display: none !important; }` so we also need the `!important` here to be able to override the default hidden behavior on the sphinx rendered scikit-learn.org. See: https://github.com/scikit-learn/scikit-learn/issues/21755 */display: inline-block !important;position: relative;}#sk-container-id-5 div.sk-text-repr-fallback {display: none;}</style><div id=\"sk-container-id-5\" class=\"sk-top-container\"><div class=\"sk-text-repr-fallback\"><pre>GridSearchCV(cv=5, estimator=SVR(),\n",
       "             param_grid={&#x27;kernel&#x27;: [&#x27;linear&#x27;, &#x27;polynomial&#x27;, &#x27;RBF&#x27;]}, verbose=3)</pre><b>In a Jupyter environment, please rerun this cell to show the HTML representation or trust the notebook. <br />On GitHub, the HTML representation is unable to render, please try loading this page with nbviewer.org.</b></div><div class=\"sk-container\" hidden><div class=\"sk-item sk-dashed-wrapped\"><div class=\"sk-label-container\"><div class=\"sk-label sk-toggleable\"><input class=\"sk-toggleable__control sk-hidden--visually\" id=\"sk-estimator-id-9\" type=\"checkbox\" ><label for=\"sk-estimator-id-9\" class=\"sk-toggleable__label sk-toggleable__label-arrow\">GridSearchCV</label><div class=\"sk-toggleable__content\"><pre>GridSearchCV(cv=5, estimator=SVR(),\n",
       "             param_grid={&#x27;kernel&#x27;: [&#x27;linear&#x27;, &#x27;polynomial&#x27;, &#x27;RBF&#x27;]}, verbose=3)</pre></div></div></div><div class=\"sk-parallel\"><div class=\"sk-parallel-item\"><div class=\"sk-item\"><div class=\"sk-label-container\"><div class=\"sk-label sk-toggleable\"><input class=\"sk-toggleable__control sk-hidden--visually\" id=\"sk-estimator-id-10\" type=\"checkbox\" ><label for=\"sk-estimator-id-10\" class=\"sk-toggleable__label sk-toggleable__label-arrow\">estimator: SVR</label><div class=\"sk-toggleable__content\"><pre>SVR()</pre></div></div></div><div class=\"sk-serial\"><div class=\"sk-item\"><div class=\"sk-estimator sk-toggleable\"><input class=\"sk-toggleable__control sk-hidden--visually\" id=\"sk-estimator-id-11\" type=\"checkbox\" ><label for=\"sk-estimator-id-11\" class=\"sk-toggleable__label sk-toggleable__label-arrow\">SVR</label><div class=\"sk-toggleable__content\"><pre>SVR()</pre></div></div></div></div></div></div></div></div></div></div>"
      ],
      "text/plain": [
       "GridSearchCV(cv=5, estimator=SVR(),\n",
       "             param_grid={'kernel': ['linear', 'polynomial', 'RBF']}, verbose=3)"
      ]
     },
     "execution_count": 54,
     "metadata": {},
     "output_type": "execute_result"
    }
   ],
   "source": [
    "from sklearn.model_selection import GridSearchCV\n",
    "\n",
    "grid=GridSearchCV(SVR(),param_grid=param_grid,refit=True,cv=5,verbose=3)\n",
    "grid.fit(X_train,y_train)"
   ]
  },
  {
   "cell_type": "code",
   "execution_count": 59,
   "metadata": {},
   "outputs": [
    {
     "data": {
      "text/plain": [
       "array([ 70.06787382, 109.77081124,  89.8348695 ,  70.89156369,\n",
       "       101.14724068, 109.78637009, 234.77443152,  56.43628031,\n",
       "        61.01985617,  54.06874398,  82.34787632,   9.64396003,\n",
       "       131.95250065,  56.346316  ,  60.84140163,  62.32990042,\n",
       "        68.87054217,  16.56031368, 103.46995274,  57.65192383,\n",
       "        58.60480725,  77.99939194,  88.95723953, 103.14797442,\n",
       "       175.09454156,  42.89502677,  99.89602835,  77.21711444,\n",
       "        11.54654321,  14.26657867, 103.55182782,  80.00673144,\n",
       "        39.54177569, 161.09774865,  67.13084593,  63.05381427,\n",
       "        54.99650342,  94.7228791 ,  86.37822704,  60.51957588,\n",
       "        68.45670043,  50.35239159,  62.17666561,  94.27164009,\n",
       "       205.95316082,  63.52940248,  75.93461958, 166.28310126,\n",
       "        16.88787594, 113.38572588,  89.691062  , 106.51517938,\n",
       "        56.34002518,  58.69456081, 119.34541761,  64.83668761,\n",
       "        38.34623399,  49.66222513,  66.49065581,  45.67557377,\n",
       "        -1.19824966,  95.57424249, 102.02816355,  73.35889427,\n",
       "       102.97570315,  61.20453173,  61.07051819, 106.50392684,\n",
       "       100.28685721,  97.80291542,  71.13383188,  76.38294422,\n",
       "        66.6243796 , 299.29030675,  64.28730155, 123.4853154 ,\n",
       "        73.34090726,  88.64837044,  51.40442408,  56.5977569 ,\n",
       "        98.67389352, 102.09494892,  76.68142954,  58.6743557 ,\n",
       "        67.52463539,  78.5232082 , 111.94268556,  48.39466506,\n",
       "        25.96376593,  84.37556451, 139.59349953,  65.81073292,\n",
       "        68.46449878, 102.44765148,  83.70989269,  77.73890337,\n",
       "       108.12463163, 117.94176548,  17.37090875,  78.68113707,\n",
       "        63.01991108, 204.74680815, 106.41507296,  43.98826491,\n",
       "        57.84645304,  59.86224243,  26.61391194,  63.01093625,\n",
       "       139.08349147, 122.46411883,  36.91255882,  88.00060219,\n",
       "        65.34049603, 184.51830864,  77.23390116,  70.88512156,\n",
       "        81.47616638, 136.62560917,  97.98189271,  62.1849793 ,\n",
       "        98.61478038, 108.84535946,  53.97997704, 125.87693121,\n",
       "        56.79311582,  67.0975231 ,  61.73533597,  72.84881591,\n",
       "        69.55119715, 135.79360441, 152.09063985,  42.14968955,\n",
       "       103.91930791, 194.8570777 ,  62.57894547,  53.41266652,\n",
       "       103.00177528,  60.51040613,  81.47052664,  58.0157547 ,\n",
       "        47.981366  , 116.94513487,  50.42246767,  77.0809728 ,\n",
       "       272.07517449,  59.28022139,  62.76392344,  62.51399653,\n",
       "        61.11205277,  50.20728185,  64.0492208 , 106.60918906,\n",
       "        55.53057792,  67.61293806,  82.23485301,  41.88517777,\n",
       "        64.08893117,  78.13488485,  80.1936573 ,  62.35040624,\n",
       "        56.53672228,  43.87502881,  68.58948838,  68.72186523,\n",
       "        41.06000646,  62.35791485,  59.35276108, 101.72444128,\n",
       "        59.65188199,  57.71198353,  75.15003973,  83.78222379,\n",
       "       112.25959901, 110.9771618 ,  49.28237458, 197.21832244,\n",
       "       118.3967695 ,  51.00845557,  63.09605438,  99.76131361,\n",
       "       101.52327411,  84.55993983,  57.78089303,  93.28867307,\n",
       "        49.47608524,  65.59657599,  66.47396068, 228.61666303,\n",
       "        96.55783557,  62.9504643 , 247.43154706,  48.70297652,\n",
       "        76.80113874,  62.19042395,  62.14207267,  62.52592318,\n",
       "        62.96221311,  73.92021958,  90.08457662,  74.66977368,\n",
       "        90.47849888, 157.88582548, 129.50787784, 114.0891887 ,\n",
       "        85.11297068,   5.15910868,  53.81570222,  69.15352806,\n",
       "        48.06369729,  61.68791499, 140.34452764,  77.97454607,\n",
       "        73.99717632,  92.31953881,  73.4170882 ,  97.08170702,\n",
       "        74.69803739,  76.68587245,  55.44393199,  44.61771971,\n",
       "        61.41344789, 155.73664266, 107.17681305,  61.05672297,\n",
       "       176.72854797,  53.12431398,  52.01333003,  59.91622323,\n",
       "       117.00436172, 182.36181578,  98.04234618,  48.15733303,\n",
       "        70.00788924,  54.32271142,  52.21420892,  75.87097686,\n",
       "        60.48251676, 132.57358643,  48.15868722, 102.5668349 ,\n",
       "        61.71846669,  54.75301289,  62.33900331,  95.29467516,\n",
       "        69.91563365,  60.29240553,  53.89149388, 106.87748663,\n",
       "       375.08408529,  43.60863595,  96.34049437,  60.5965371 ,\n",
       "        68.87611625,  54.86494849,  60.09598935, 259.54650129,\n",
       "        67.10016522,  84.07044973,  54.39137607,  62.61910195,\n",
       "        69.66797628,  61.01401164,  60.86786377,  69.81133882,\n",
       "        51.85297234,  78.66173681,  77.93294523,  91.33463197,\n",
       "        54.55172491, 102.24229697,  95.52035544,  74.72215913,\n",
       "       138.27560842,  66.0530873 ,  64.68208249,  62.79591096,\n",
       "        51.04840926,  60.57685018,  94.64217885,  64.67888643,\n",
       "        23.58554553,  56.06216429,  58.35360171,  42.26983324,\n",
       "        70.72406674,  63.6480592 , 139.53929435, 169.67021463,\n",
       "        67.81266387,  97.37485678,  50.3138662 , 122.19343806,\n",
       "       117.24393605,  29.38352662,  53.56710788, 100.42553434,\n",
       "        51.86646685, 103.96356438, 108.86219834, 284.36000004,\n",
       "        61.47253031,  45.88380991,  50.06483036,  70.25023877,\n",
       "        57.2483576 ,  69.62306189,  73.16448556, 166.40561478,\n",
       "        91.96319065, 121.86488271,  80.04710853, 158.23840533,\n",
       "        43.8953741 , 154.54150621,  80.93017534,  57.64953531,\n",
       "       233.08547076,  65.9390222 , 106.61787068,  69.39035027,\n",
       "        18.05372683,  56.74969403, 154.06898603,  70.74648048,\n",
       "        38.8092422 , 125.43408033,  43.16081852,  58.64449675,\n",
       "        56.53570601, 155.51955979,  94.01071663,  60.11913059,\n",
       "       157.32275718,  67.67770665,  62.77512866,  47.79890548,\n",
       "        19.88103987,  55.25989642,  59.49108305,  48.81525876,\n",
       "        64.29512735,  59.59904065,  77.67941432,  58.18140384,\n",
       "        41.80329674, 102.60211032,  83.51031607,  53.35696462,\n",
       "       107.40547603,  44.87657362,  66.87879833, 166.67858322,\n",
       "        59.53898311,  89.89289855,  70.59258311,  67.87057836,\n",
       "        61.15573261,  52.6391999 ,  58.47422489,  66.07000512,\n",
       "        77.00969037,  81.73899702, 113.3999604 ,  66.78477153,\n",
       "        47.97219413,  41.33421093,  62.71982916,  51.14206387,\n",
       "        63.02658148,  51.58711745, 181.87610705, 245.01715377,\n",
       "        57.56087683,  19.46127998,  41.36079983,  60.09457645,\n",
       "        56.51689154, 104.1859544 , 119.22140393, 113.69859904,\n",
       "        77.5093725 ,  65.93637574, 125.28411639,  70.45176546,\n",
       "        51.988837  ,  58.75942404,  77.4096721 ,  57.0763261 ,\n",
       "       144.41411994,  64.31078692,  66.13387212,  99.50060955,\n",
       "        16.57122528,  80.95615971,  53.6372026 ,  64.11729253,\n",
       "       206.26985637, 112.84232151,  90.37228126,  19.23395626,\n",
       "        61.49393793,  62.65746   ,  61.45129938,  85.76130378,\n",
       "        71.51952186,  59.34649893,  67.80162186,  71.93236   ,\n",
       "        52.26085877,  48.72640832,  54.12053601,  75.11484342,\n",
       "        84.82976154,  24.92987564,  41.6196376 ,  12.95059167,\n",
       "       117.88025399, 117.82139008,  74.93237517,  73.39885628,\n",
       "       331.02212469, 159.56913397,  56.47879735,  35.17501089,\n",
       "       120.52232676, 147.21772416,  56.46034162,  74.01347924,\n",
       "        71.8868882 ,  74.60380368,  67.77261814,  49.25786987,\n",
       "        57.90046455,  61.01721011,  35.970146  , 175.34641683,\n",
       "        64.63506937, 113.17339211,  25.312592  ,  67.18134604,\n",
       "        78.5150554 ,  59.88111586,  18.18986497, 103.83960851,\n",
       "        48.15015499,  63.30887776, 109.11239155,  60.62677174,\n",
       "        69.16420736, 141.32503087,  50.93412875,  64.6268196 ,\n",
       "        53.64235406,  60.23381659,  80.27651071,  63.77680483,\n",
       "       184.95296266,  61.02316902,  50.31573033, 108.11010689,\n",
       "       106.9595058 , 114.58842406, 101.61786738,  86.1829408 ,\n",
       "       112.90782608,  80.7182898 ,  85.61600255,  86.65237837,\n",
       "        97.37302418,  99.11536531,  65.39236936, 120.10818749,\n",
       "        65.84173628,  69.77048103,   4.57096626,  63.57097661,\n",
       "        61.28344484,  34.07743523, 100.00084898, 154.56400031,\n",
       "        63.40020901, 233.69024705,  91.58114736, 247.43173633,\n",
       "        51.30955238,  72.60600632,  57.09825768,  96.83951127,\n",
       "       347.82923316,  48.88448105,  54.66905665,  52.16985472,\n",
       "       136.66950658,  58.12062352, 161.09060209, 120.65212013,\n",
       "        49.58363472,  53.18940751,  73.25606226,  59.73835402,\n",
       "        68.45793624,  50.17192897,  55.8284648 ,  81.51649033,\n",
       "        51.62858558,  97.02063861,  69.51708262,  62.34292197,\n",
       "        52.7141596 ,  59.38156085, 105.18164495,  61.5669801 ,\n",
       "        79.97598658,  99.77269689,  92.32624124,  84.80067322,\n",
       "       236.84009867,  67.61318565, 278.96106322,  35.22590299,\n",
       "        68.50665951,  77.5901316 ,  42.72526239,  54.16939988,\n",
       "        64.24095068,  -0.66571103,  42.43917618, 247.81678304,\n",
       "        68.98083869, 101.91957518,  80.49062122,  50.02213429,\n",
       "        69.87267003,  49.29280066, 199.54433625,  64.15352834,\n",
       "        59.73802573,  85.62418139,  71.89004055,  77.05424498,\n",
       "        77.20360024,  68.75982058,  50.17605154, 117.10747801,\n",
       "        54.94524571,  70.17643798,  49.65067565,  59.03093768,\n",
       "       124.72273443, 140.84634198,  31.5449756 ,  63.15372249,\n",
       "        99.25912969,   4.15317408, 101.01849032,  60.70412195,\n",
       "        53.23165904, 195.24006616,  60.74780269,  55.52572636,\n",
       "        18.92673093,  69.8092579 ,  11.61909196,  68.14290376,\n",
       "        69.74585832,  68.28184117,  65.46045337, 309.46283431,\n",
       "        89.19571501,  55.67878971,  58.10177103,  68.47546849,\n",
       "        43.96923239,  60.00160729,  57.2297158 ,  75.61173684,\n",
       "        97.08711518,  85.28843416,  70.38675888,  62.0799121 ,\n",
       "        60.21327347,  44.14108259,  70.84486321,  68.87549237,\n",
       "        15.2173504 ,  58.91486599,  75.63548381,  48.77128339,\n",
       "        95.96518239,  52.49732658, 308.66290451,  51.04324091,\n",
       "        75.38042903,  93.78825105,  52.40150002,  95.02200988,\n",
       "        54.59644019,  77.87860945,   4.64432277,  73.75386265,\n",
       "        84.56111288,  41.46995967,  57.0195918 , 101.21197129,\n",
       "        57.98099995, 107.56812021, 106.47436968,  93.01880803,\n",
       "        93.06304387,  60.05756368,  61.78590372,  56.73737607,\n",
       "       106.7500248 ,  64.67855249, 125.21588889, 121.35518359,\n",
       "       102.82059175, 336.99014176, 181.47546576,  98.92225042,\n",
       "        92.59481494,  71.30411193,  69.1758491 , 188.61495804,\n",
       "        62.91463692,  66.46408284, 140.98909422,  59.5961662 ,\n",
       "       184.60927444,  58.74452385, 100.67743548,  55.26398635,\n",
       "        58.09804659, 139.92601555,  63.44790653,  60.70387699,\n",
       "        48.73798551, 155.48231888,  42.04118349, 256.95276002,\n",
       "        54.52756319,  93.27826161, 101.90541371,  57.54407071,\n",
       "       111.88000844,  57.80835145, 107.33405128,  33.94254151,\n",
       "        76.09582148,  55.18332513,  72.98102477,  72.1264904 ,\n",
       "        55.17225547, 130.423654  ,  23.5389744 ,  50.77371846,\n",
       "        70.99651714, 122.95046541,  49.99690592, 107.43272473,\n",
       "        66.93051394,  66.83518767,  67.69485174,  41.17580209,\n",
       "        62.91237228,  73.7085765 ,  71.61449395, 115.07537377,\n",
       "        56.46725811, 101.6481346 ,  50.18107207,  97.22575464,\n",
       "       141.12724279, 125.9453303 ,  54.40408998,  98.46721428,\n",
       "       108.7623111 ,  70.56656899,  43.51582056])"
      ]
     },
     "execution_count": 59,
     "metadata": {},
     "output_type": "execute_result"
    }
   ],
   "source": [
    "y_pred=grid.predict(X_test)\n",
    "y_pred"
   ]
  },
  {
   "cell_type": "code",
   "execution_count": 56,
   "metadata": {},
   "outputs": [
    {
     "data": {
      "text/plain": [
       "{'kernel': 'linear'}"
      ]
     },
     "execution_count": 56,
     "metadata": {},
     "output_type": "execute_result"
    }
   ],
   "source": [
    "grid.best_params_"
   ]
  },
  {
   "cell_type": "code",
   "execution_count": 60,
   "metadata": {},
   "outputs": [
    {
     "name": "stdout",
     "output_type": "stream",
     "text": [
      "0.5937501729912882\n"
     ]
    }
   ],
   "source": [
    "from sklearn.metrics import r2_score,accuracy_score\n",
    "\n",
    "print(r2_score(y_test,y_pred))\n"
   ]
  }
 ],
 "metadata": {
  "kernelspec": {
   "display_name": "Python 3 (ipykernel)",
   "language": "python",
   "name": "python3"
  },
  "language_info": {
   "codemirror_mode": {
    "name": "ipython",
    "version": 3
   },
   "file_extension": ".py",
   "mimetype": "text/x-python",
   "name": "python",
   "nbconvert_exporter": "python",
   "pygments_lexer": "ipython3",
   "version": "3.10.8"
  }
 },
 "nbformat": 4,
 "nbformat_minor": 4
}
