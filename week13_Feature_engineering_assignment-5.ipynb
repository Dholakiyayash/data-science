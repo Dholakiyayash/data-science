{
 "cells": [
  {
   "cell_type": "code",
   "execution_count": 1,
   "metadata": {},
   "outputs": [
    {
     "name": "stdout",
     "output_type": "stream",
     "text": [
      "Pearson correlation coefficient: 0.9101698143253768\n"
     ]
    }
   ],
   "source": [
    "# Q1. Pearson correlation coefficient is a measure of the linear relationship between two \n",
    "# variables. Suppose you have collected data on the amount of time students spend studying \n",
    "# for an exam and their final exam scores. Calculate the Pearson correlation coefficient \n",
    "# between these two variables and interpret the result.\n",
    "\n",
    "import numpy as np\n",
    "\n",
    "time_spent_studying = np.array([10, 15, 8, 12, 20])\n",
    "final_exam_scores = np.array([80, 85, 70, 75, 90])\n",
    "\n",
    "correlation_coefficient = np.corrcoef(time_spent_studying, final_exam_scores)[0, 1]\n",
    "\n",
    "print(\"Pearson correlation coefficient:\", correlation_coefficient)\n"
   ]
  },
  {
   "cell_type": "code",
   "execution_count": 13,
   "metadata": {},
   "outputs": [
    {
     "name": "stdout",
     "output_type": "stream",
     "text": [
      "Spearman's rank correlation coefficient:\n",
      "                   amount_of_sleep  job_satisfaction\n",
      "amount_of_sleep               1.0               0.9\n",
      "job_satisfaction              0.9               1.0\n"
     ]
    }
   ],
   "source": [
    "# Q2. Spearman's rank correlation is a measure of the monotonic relationship between two \n",
    "# variables. Suppose you have collected data on the amount of sleep individuals get each \n",
    "# night and their overall job satisfaction level on a scale of 1 to 10. Calculate the \n",
    "# Spearman's rank correlation between these two variables and interpret the result.\n",
    "\n",
    "import pandas as pd\n",
    "\n",
    "df=pd.DataFrame({'amount_of_sleep':[7, 6, 8, 5, 9],\n",
    "'job_satisfaction': [9, 7, 8, 4, 10]})\n",
    "\n",
    "\n",
    "print(\"Spearman's rank correlation coefficient:\\n\", df.corr(method='spearman'))\n"
   ]
  },
  {
   "cell_type": "code",
   "execution_count": 14,
   "metadata": {},
   "outputs": [
    {
     "name": "stdout",
     "output_type": "stream",
     "text": [
      "Pearson correlation coefficient:\n",
      "                    hours_of_exercise       bmi\n",
      "hours_of_exercise           1.000000  0.226081\n",
      "bmi                         0.226081  1.000000\n",
      "Spearman's rank correlation coefficient:\n",
      "                    hours_of_exercise       bmi\n",
      "hours_of_exercise           1.000000  0.188655\n",
      "bmi                         0.188655  1.000000\n"
     ]
    }
   ],
   "source": [
    "# Q3. Suppose you are conducting a study to examine the relationship between the number of \n",
    "# hours of exercise per week and body mass index (BMI) in a sample of adults. You collected \n",
    "# data on both variables for 50 participants. Calculate the Pearson correlation coefficient \n",
    "# and the Spearman's rank correlation between these two variables and compare the results.\n",
    "\n",
    "\n",
    "df=pd.DataFrame({'hours_of_exercise': [4, 5, 3, 2, 6, 5, 7, 4, 3, 6,4, 5, 3, 2, 6, 5,4, 3, 6,4, 5, 3, 2, 6, 5, 7, 4, 3, 6,4, 5, 3, 2, 6, 5, 7, 4, 3, 6,4, 5, 3, 2, 6, 5, 7, 4, 3, 6, 5],\n",
    "'bmi' : [23.5, 27.2 , 21.8, 25.0, 29.5, 24.9, 22.1, 26.8, 23.2, 28.6, 23.5, 27.2, 21.8, 25.0, 29.5, 24.9,23.5, 27.2, 21.8, 25.0, 29.5, 24.9, 22.1, 26.8, 23.2, 28.6, 23.5, 27.2, 21.8, 25.0, 29.5, 24.9,21.8, 25.0, 29.5, 24.9, 22.1, 26.8, 23.2, 28.6, 23.5, 27.2, 21.8, 25.0, 29.5, 24.9, 22.1, 26.8, 23.2, 24.9]})\n",
    "\n",
    "\n",
    "\n",
    "\n",
    "print(\"Pearson correlation coefficient:\\n\", df.corr(method='pearson'))\n",
    "print(\"Spearman's rank correlation coefficient:\\n\", df.corr(method='spearman'))\n",
    "\n"
   ]
  },
  {
   "cell_type": "code",
   "execution_count": 26,
   "metadata": {},
   "outputs": [
    {
     "name": "stdout",
     "output_type": "stream",
     "text": [
      "Pearson correlation coefficient: 0.0006350460400220437\n"
     ]
    }
   ],
   "source": [
    "# Q4. A researcher is interested in examining the relationship between the number of hours \n",
    "# individuals spend watching television per day and their level of physical activity. The \n",
    "# researcher collected data on both variables from a sample of 50 participants. Calculate the \n",
    "# Pearson correlation coefficient between these two variables.\n",
    "\n",
    "import numpy as np\n",
    "\n",
    "hours_of_tv = [np.random.randint(7) for i in range(50)]\n",
    "physical_activity = [np.random.randint(50,160) for i in range(50)]\n",
    "\n",
    "\n",
    "\n",
    "print(\"Pearson correlation coefficient:\",np.corrcoef(hours_of_tv,physical_activity)[0][1])\n"
   ]
  },
  {
   "cell_type": "code",
   "execution_count": 36,
   "metadata": {},
   "outputs": [
    {
     "name": "stdout",
     "output_type": "stream",
     "text": [
      "   ages soft_drink_preferences  encoded\n",
      "0    25                   Coke        0\n",
      "1    42                  Pepsi        2\n",
      "2    37           Mountain Dew        1\n",
      "3    19                   Coke        0\n",
      "4    31                  Pepsi        2\n",
      "5    28                   Coke        0\n",
      "Pearson correlation coefficient:\n",
      "              ages   encoded\n",
      "ages     1.000000  0.769175\n",
      "encoded  0.769175  1.000000\n",
      "as seem Pepsi more drink by older and Coke more drink by younger\n"
     ]
    }
   ],
   "source": [
    "# Q5. A survey was conducted to examine the relationship between age and preference for a \n",
    "# particular brand of soft drink. The survey results are shown below:\n",
    "\n",
    "from sklearn.preprocessing import LabelEncoder\n",
    "\n",
    "df=pd.DataFrame({'ages' : [25, 42, 37, 19, 31, 28],\n",
    "'soft_drink_preferences' : ['Coke', 'Pepsi', 'Mountain Dew', 'Coke', 'Pepsi', 'Coke']})\n",
    "\n",
    "df['encoded']=LabelEncoder().fit_transform(df['soft_drink_preferences'])\n",
    "print(df)\n",
    "print(\"Pearson correlation coefficient:\\n\", df[['ages','encoded']].corr())## by default use pearson method\n",
    "print(\"as seem Pepsi more drink by older and Coke more drink by younger\")"
   ]
  },
  {
   "cell_type": "code",
   "execution_count": 41,
   "metadata": {},
   "outputs": [
    {
     "name": "stdout",
     "output_type": "stream",
     "text": [
      "Pearson correlation coefficient: 0.20674430796464285\n"
     ]
    }
   ],
   "source": [
    "\n",
    "# Q6. A company is interested in examining the relationship between the number of sales calls\n",
    "#  made per day and the number of sales made per week. The company collected data on both \n",
    "# variables from a sample of  30 sales representatives. Calculate the Pearson correlation \n",
    "# coefficient between these two variables.\n",
    "\n",
    "from scipy.stats import pearsonr\n",
    "\n",
    "# Sample data\n",
    "sales_calls_per_day = np.array([50, 60, 45, 55, 52, 42,45,78,5,25,56,45,78,56,47,41,42,45,5,4,56,89,74,45,41,42,45,12,56, 52])\n",
    "sales_per_week = np.array([5, 8, 4, 6, 5, 5,6,5,4,7,8,9,5,2,5,4,7,8,9,6,5,8,45,4,7,5,8,9,4, 5])\n",
    "\n",
    "corr_coefficient, _ = pearsonr(sales_calls_per_day, sales_per_week)\n",
    "\n",
    "print(\"Pearson correlation coefficient:\", corr_coefficient)\n"
   ]
  }
 ],
 "metadata": {
  "kernelspec": {
   "display_name": "Python 3",
   "language": "python",
   "name": "python3"
  },
  "language_info": {
   "codemirror_mode": {
    "name": "ipython",
    "version": 3
   },
   "file_extension": ".py",
   "mimetype": "text/x-python",
   "name": "python",
   "nbconvert_exporter": "python",
   "pygments_lexer": "ipython3",
   "version": "3.11.4"
  },
  "orig_nbformat": 4
 },
 "nbformat": 4,
 "nbformat_minor": 2
}
